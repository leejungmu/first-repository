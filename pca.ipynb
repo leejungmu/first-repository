{
 "cells": [
  {
   "cell_type": "code",
   "execution_count": 2,
   "metadata": {},
   "outputs": [],
   "source": [
    "library(datasets)"
   ]
  },
  {
   "cell_type": "code",
   "execution_count": 4,
   "metadata": {},
   "outputs": [
    {
     "data": {
      "text/html": [
       "<table>\n",
       "<thead><tr><th></th><th scope=col>Murder</th><th scope=col>Assault</th><th scope=col>UrbanPop</th><th scope=col>Rape</th></tr></thead>\n",
       "<tbody>\n",
       "\t<tr><th scope=row>Alabama</th><td>13.2</td><td>236 </td><td>58  </td><td>21.2</td></tr>\n",
       "\t<tr><th scope=row>Alaska</th><td>10.0</td><td>263 </td><td>48  </td><td>44.5</td></tr>\n",
       "\t<tr><th scope=row>Arizona</th><td> 8.1</td><td>294 </td><td>80  </td><td>31.0</td></tr>\n",
       "\t<tr><th scope=row>Arkansas</th><td> 8.8</td><td>190 </td><td>50  </td><td>19.5</td></tr>\n",
       "\t<tr><th scope=row>California</th><td> 9.0</td><td>276 </td><td>91  </td><td>40.6</td></tr>\n",
       "\t<tr><th scope=row>Colorado</th><td> 7.9</td><td>204 </td><td>78  </td><td>38.7</td></tr>\n",
       "</tbody>\n",
       "</table>\n"
      ],
      "text/latex": [
       "\\begin{tabular}{r|llll}\n",
       "  & Murder & Assault & UrbanPop & Rape\\\\\n",
       "\\hline\n",
       "\tAlabama & 13.2 & 236  & 58   & 21.2\\\\\n",
       "\tAlaska & 10.0 & 263  & 48   & 44.5\\\\\n",
       "\tArizona &  8.1 & 294  & 80   & 31.0\\\\\n",
       "\tArkansas &  8.8 & 190  & 50   & 19.5\\\\\n",
       "\tCalifornia &  9.0 & 276  & 91   & 40.6\\\\\n",
       "\tColorado &  7.9 & 204  & 78   & 38.7\\\\\n",
       "\\end{tabular}\n"
      ],
      "text/markdown": [
       "\n",
       "| <!--/--> | Murder | Assault | UrbanPop | Rape |\n",
       "|---|---|---|---|---|\n",
       "| Alabama | 13.2 | 236  | 58   | 21.2 |\n",
       "| Alaska | 10.0 | 263  | 48   | 44.5 |\n",
       "| Arizona |  8.1 | 294  | 80   | 31.0 |\n",
       "| Arkansas |  8.8 | 190  | 50   | 19.5 |\n",
       "| California |  9.0 | 276  | 91   | 40.6 |\n",
       "| Colorado |  7.9 | 204  | 78   | 38.7 |\n",
       "\n"
      ],
      "text/plain": [
       "           Murder Assault UrbanPop Rape\n",
       "Alabama    13.2   236     58       21.2\n",
       "Alaska     10.0   263     48       44.5\n",
       "Arizona     8.1   294     80       31.0\n",
       "Arkansas    8.8   190     50       19.5\n",
       "California  9.0   276     91       40.6\n",
       "Colorado    7.9   204     78       38.7"
      ]
     },
     "metadata": {},
     "output_type": "display_data"
    }
   ],
   "source": [
    "data(\"USArrests\")\n",
    "head(USArrests)"
   ]
  },
  {
   "cell_type": "code",
   "execution_count": 5,
   "metadata": {},
   "outputs": [
    {
     "name": "stdout",
     "output_type": "stream",
     "text": [
      "'data.frame':\t50 obs. of  4 variables:\n",
      " $ Murder  : num  13.2 10 8.1 8.8 9 7.9 3.3 5.9 15.4 17.4 ...\n",
      " $ Assault : int  236 263 294 190 276 204 110 238 335 211 ...\n",
      " $ UrbanPop: int  58 48 80 50 91 78 77 72 80 60 ...\n",
      " $ Rape    : num  21.2 44.5 31 19.5 40.6 38.7 11.1 15.8 31.9 25.8 ...\n"
     ]
    }
   ],
   "source": [
    "str(USArrests)"
   ]
  },
  {
   "cell_type": "code",
   "execution_count": 6,
   "metadata": {},
   "outputs": [],
   "source": [
    "fit <- princomp(USArrests, cor = TRUE)"
   ]
  },
  {
   "cell_type": "code",
   "execution_count": 7,
   "metadata": {},
   "outputs": [
    {
     "data": {
      "text/plain": [
       "Importance of components:\n",
       "                          Comp.1    Comp.2    Comp.3     Comp.4\n",
       "Standard deviation     1.5748783 0.9948694 0.5971291 0.41644938\n",
       "Proportion of Variance 0.6200604 0.2474413 0.0891408 0.04335752\n",
       "Cumulative Proportion  0.6200604 0.8675017 0.9566425 1.00000000"
      ]
     },
     "metadata": {},
     "output_type": "display_data"
    }
   ],
   "source": [
    "summary(fit)"
   ]
  },
  {
   "cell_type": "code",
   "execution_count": 10,
   "metadata": {},
   "outputs": [
    {
     "data": {
      "text/plain": [
       "\n",
       "Loadings:\n",
       "         Comp.1 Comp.2 Comp.3 Comp.4\n",
       "Murder    0.536  0.418  0.341  0.649\n",
       "Assault   0.583  0.188  0.268 -0.743\n",
       "UrbanPop  0.278 -0.873  0.378  0.134\n",
       "Rape      0.543 -0.167 -0.818       \n",
       "\n",
       "               Comp.1 Comp.2 Comp.3 Comp.4\n",
       "SS loadings      1.00   1.00   1.00   1.00\n",
       "Proportion Var   0.25   0.25   0.25   0.25\n",
       "Cumulative Var   0.25   0.50   0.75   1.00"
      ]
     },
     "metadata": {},
     "output_type": "display_data"
    }
   ],
   "source": [
    "loadings(fit)"
   ]
  },
  {
   "cell_type": "code",
   "execution_count": 12,
   "metadata": {},
   "outputs": [
    {
     "data": {
      "image/png": "[encoded data removed]",
      "text/plain": [
       "Plot with title \"fit\""
      ]
     },
     "metadata": {},
     "output_type": "display_data"
    }
   ],
   "source": [
    "plot(fit, type = \"lines\")"
   ]
  },
  {
   "cell_type": "code",
   "execution_count": 13,
   "metadata": {},
   "outputs": [
    {
     "data": {
      "text/html": [
       "<table>\n",
       "<thead><tr><th></th><th scope=col>Comp.1</th><th scope=col>Comp.2</th><th scope=col>Comp.3</th><th scope=col>Comp.4</th></tr></thead>\n",
       "<tbody>\n",
       "\t<tr><th scope=row>Alabama</th><td> 0.98556588 </td><td> 1.13339238 </td><td> 0.44426879 </td><td> 0.156267145</td></tr>\n",
       "\t<tr><th scope=row>Alaska</th><td> 1.95013775 </td><td> 1.07321326 </td><td>-2.04000333 </td><td>-0.438583440</td></tr>\n",
       "\t<tr><th scope=row>Arizona</th><td> 1.76316354 </td><td>-0.74595678 </td><td>-0.05478082 </td><td>-0.834652924</td></tr>\n",
       "\t<tr><th scope=row>Arkansas</th><td>-0.14142029 </td><td> 1.11979678 </td><td>-0.11457369 </td><td>-0.182810896</td></tr>\n",
       "\t<tr><th scope=row>California</th><td> 2.52398013 </td><td>-1.54293399 </td><td>-0.59855680 </td><td>-0.341996478</td></tr>\n",
       "\t<tr><th scope=row>Colorado</th><td> 1.51456286 </td><td>-0.98755509 </td><td>-1.09500699 </td><td> 0.001464887</td></tr>\n",
       "\t<tr><th scope=row>Connecticut</th><td>-1.35864746 </td><td>-1.08892789 </td><td> 0.64325757 </td><td>-0.118469414</td></tr>\n",
       "\t<tr><th scope=row>Delaware</th><td> 0.04770931 </td><td>-0.32535892 </td><td> 0.71863294 </td><td>-0.881977637</td></tr>\n",
       "\t<tr><th scope=row>Florida</th><td> 3.01304227 </td><td> 0.03922851 </td><td> 0.57682949 </td><td>-0.096284752</td></tr>\n",
       "\t<tr><th scope=row>Georgia</th><td> 1.63928304 </td><td> 1.27894240 </td><td> 0.34246008 </td><td> 1.076796812</td></tr>\n",
       "\t<tr><th scope=row>Hawaii</th><td>-0.91265715 </td><td>-1.57046001 </td><td>-0.05078189 </td><td> 0.902806864</td></tr>\n",
       "\t<tr><th scope=row>Idaho</th><td>-1.63979985 </td><td> 0.21097292 </td><td>-0.25980134 </td><td>-0.499104101</td></tr>\n",
       "\t<tr><th scope=row>Illinois</th><td> 1.37891072 </td><td>-0.68184119 </td><td> 0.67749564 </td><td>-0.122021292</td></tr>\n",
       "\t<tr><th scope=row>Indiana</th><td>-0.50546136 </td><td>-0.15156254 </td><td>-0.22805484 </td><td> 0.424665700</td></tr>\n",
       "\t<tr><th scope=row>Iowa</th><td>-2.25364607 </td><td>-0.10405407 </td><td>-0.16456432 </td><td> 0.017555916</td></tr>\n",
       "\t<tr><th scope=row>Kansas</th><td>-0.79688112 </td><td>-0.27016470 </td><td>-0.02555331 </td><td> 0.206496428</td></tr>\n",
       "\t<tr><th scope=row>Kentucky</th><td>-0.75085907 </td><td> 0.95844029 </td><td> 0.02836942 </td><td> 0.670556671</td></tr>\n",
       "\t<tr><th scope=row>Louisiana</th><td> 1.56481798 </td><td> 0.87105466 </td><td> 0.78348036 </td><td> 0.454728038</td></tr>\n",
       "\t<tr><th scope=row>Maine</th><td>-2.39682949 </td><td> 0.37639158 </td><td> 0.06568239 </td><td>-0.330459817</td></tr>\n",
       "\t<tr><th scope=row>Maryland</th><td> 1.76336939 </td><td> 0.42765519 </td><td> 0.15725013 </td><td>-0.559069521</td></tr>\n",
       "\t<tr><th scope=row>Massachusetts</th><td>-0.48616629 </td><td>-1.47449650 </td><td> 0.60949748 </td><td>-0.179598963</td></tr>\n",
       "\t<tr><th scope=row>Michigan</th><td> 2.10844115 </td><td>-0.15539682 </td><td>-0.38486858 </td><td> 0.102372019</td></tr>\n",
       "\t<tr><th scope=row>Minnesota</th><td>-1.69268181 </td><td>-0.63226125 </td><td>-0.15307043 </td><td> 0.067316885</td></tr>\n",
       "\t<tr><th scope=row>Mississippi</th><td> 0.99649446 </td><td> 2.39379599 </td><td> 0.74080840 </td><td> 0.215508013</td></tr>\n",
       "\t<tr><th scope=row>Missouri</th><td> 0.69678733 </td><td>-0.26335479 </td><td>-0.37744383 </td><td> 0.225824461</td></tr>\n",
       "\t<tr><th scope=row>Montana</th><td>-1.18545191 </td><td> 0.53687437 </td><td>-0.24688932 </td><td> 0.123742227</td></tr>\n",
       "\t<tr><th scope=row>Nebraska</th><td>-1.26563654 </td><td>-0.19395373 </td><td>-0.17557391 </td><td> 0.015892888</td></tr>\n",
       "\t<tr><th scope=row>Nevada</th><td> 2.87439454 </td><td>-0.77560020 </td><td>-1.16338049 </td><td> 0.314515476</td></tr>\n",
       "\t<tr><th scope=row>New Hampshire</th><td>-2.38391541 </td><td>-0.01808229 </td><td>-0.03685539 </td><td>-0.033137338</td></tr>\n",
       "\t<tr><th scope=row>New Jersey</th><td> 0.18156611 </td><td>-1.44950571 </td><td> 0.76445355 </td><td> 0.243382700</td></tr>\n",
       "\t<tr><th scope=row>New Mexico</th><td> 1.98002375 </td><td> 0.14284878 </td><td>-0.18369218 </td><td>-0.339533597</td></tr>\n",
       "\t<tr><th scope=row>New York</th><td> 1.68257738 </td><td>-0.82318414 </td><td> 0.64307509 </td><td>-0.013484369</td></tr>\n",
       "\t<tr><th scope=row>North Carolina</th><td> 1.12337861 </td><td> 2.22800338 </td><td> 0.86357179 </td><td>-0.954381667</td></tr>\n",
       "\t<tr><th scope=row>North Dakota</th><td>-2.99222562 </td><td> 0.59911882 </td><td>-0.30127728 </td><td>-0.253987327</td></tr>\n",
       "\t<tr><th scope=row>Ohio</th><td>-0.22596542 </td><td>-0.74223824 </td><td> 0.03113912 </td><td> 0.473915911</td></tr>\n",
       "\t<tr><th scope=row>Oklahoma</th><td>-0.31178286 </td><td>-0.28785421 </td><td> 0.01530979 </td><td> 0.010332321</td></tr>\n",
       "\t<tr><th scope=row>Oregon</th><td> 0.05912208 </td><td>-0.54141145 </td><td>-0.93983298 </td><td>-0.237780688</td></tr>\n",
       "\t<tr><th scope=row>Pennsylvania</th><td>-0.88841582 </td><td>-0.57110035 </td><td> 0.40062871 </td><td> 0.359061124</td></tr>\n",
       "\t<tr><th scope=row>Rhode Island</th><td>-0.86377206 </td><td>-1.49197842 </td><td> 1.36994570 </td><td>-0.613569430</td></tr>\n",
       "\t<tr><th scope=row>South Carolina</th><td> 1.32072380 </td><td> 1.93340466 </td><td> 0.30053779 </td><td>-0.131466685</td></tr>\n",
       "\t<tr><th scope=row>South Dakota</th><td>-1.98777484 </td><td> 0.82334324 </td><td>-0.38929333 </td><td>-0.109571764</td></tr>\n",
       "\t<tr><th scope=row>Tennessee</th><td> 0.99974168 </td><td> 0.86025130 </td><td>-0.18808295 </td><td> 0.652864291</td></tr>\n",
       "\t<tr><th scope=row>Texas</th><td> 1.35513821 </td><td>-0.41248082 </td><td> 0.49206886 </td><td> 0.643195491</td></tr>\n",
       "\t<tr><th scope=row>Utah</th><td>-0.55056526 </td><td>-1.47150461 </td><td>-0.29372804 </td><td>-0.082314047</td></tr>\n",
       "\t<tr><th scope=row>Vermont</th><td>-2.80141174 </td><td> 1.40228806 </td><td>-0.84126309 </td><td>-0.144889914</td></tr>\n",
       "\t<tr><th scope=row>Virginia</th><td>-0.09633491 </td><td> 0.19973529 </td><td>-0.01171254 </td><td> 0.211370813</td></tr>\n",
       "\t<tr><th scope=row>Washington</th><td>-0.21690338 </td><td>-0.97012418 </td><td>-0.62487094 </td><td>-0.220847793</td></tr>\n",
       "\t<tr><th scope=row>West Virginia</th><td>-2.10858541 </td><td> 1.42484670 </td><td>-0.10477467 </td><td> 0.131908831</td></tr>\n",
       "\t<tr><th scope=row>Wisconsin</th><td>-2.07971417 </td><td>-0.61126862 </td><td> 0.13886500 </td><td> 0.184103743</td></tr>\n",
       "\t<tr><th scope=row>Wyoming</th><td>-0.62942666 </td><td> 0.32101297 </td><td> 0.24065923 </td><td>-0.166651801</td></tr>\n",
       "</tbody>\n",
       "</table>\n"
      ],
      "text/latex": [
       "\\begin{tabular}{r|llll}\n",
       "  & Comp.1 & Comp.2 & Comp.3 & Comp.4\\\\\n",
       "\\hline\n",
       "\tAlabama &  0.98556588  &  1.13339238  &  0.44426879  &  0.156267145\\\\\n",
       "\tAlaska &  1.95013775  &  1.07321326  & -2.04000333  & -0.438583440\\\\\n",
       "\tArizona &  1.76316354  & -0.74595678  & -0.05478082  & -0.834652924\\\\\n",
       "\tArkansas & -0.14142029  &  1.11979678  & -0.11457369  & -0.182810896\\\\\n",
       "\tCalifornia &  2.52398013  & -1.54293399  & -0.59855680  & -0.341996478\\\\\n",
       "\tColorado &  1.51456286  & -0.98755509  & -1.09500699  &  0.001464887\\\\\n",
       "\tConnecticut & -1.35864746  & -1.08892789  &  0.64325757  & -0.118469414\\\\\n",
       "\tDelaware &  0.04770931  & -0.32535892  &  0.71863294  & -0.881977637\\\\\n",
       "\tFlorida &  3.01304227  &  0.03922851  &  0.57682949  & -0.096284752\\\\\n",
       "\tGeorgia &  1.63928304  &  1.27894240  &  0.34246008  &  1.076796812\\\\\n",
       "\tHawaii & -0.91265715  & -1.57046001  & -0.05078189  &  0.902806864\\\\\n",
       "\tIdaho & -1.63979985  &  0.21097292  & -0.25980134  & -0.499104101\\\\\n",
       "\tIllinois &  1.37891072  & -0.68184119  &  0.67749564  & -0.122021292\\\\\n",
       "\tIndiana & -0.50546136  & -0.15156254  & -0.22805484  &  0.424665700\\\\\n",
       "\tIowa & -2.25364607  & -0.10405407  & -0.16456432  &  0.017555916\\\\\n",
       "\tKansas & -0.79688112  & -0.27016470  & -0.02555331  &  0.206496428\\\\\n",
       "\tKentucky & -0.75085907  &  0.95844029  &  0.02836942  &  0.670556671\\\\\n",
       "\tLouisiana &  1.56481798  &  0.87105466  &  0.78348036  &  0.454728038\\\\\n",
       "\tMaine & -2.39682949  &  0.37639158  &  0.06568239  & -0.330459817\\\\\n",
       "\tMaryland &  1.76336939  &  0.42765519  &  0.15725013  & -0.559069521\\\\\n",
       "\tMassachusetts & -0.48616629  & -1.47449650  &  0.60949748  & -0.179598963\\\\\n",
       "\tMichigan &  2.10844115  & -0.15539682  & -0.38486858  &  0.102372019\\\\\n",
       "\tMinnesota & -1.69268181  & -0.63226125  & -0.15307043  &  0.067316885\\\\\n",
       "\tMississippi &  0.99649446  &  2.39379599  &  0.74080840  &  0.215508013\\\\\n",
       "\tMissouri &  0.69678733  & -0.26335479  & -0.37744383  &  0.225824461\\\\\n",
       "\tMontana & -1.18545191  &  0.53687437  & -0.24688932  &  0.123742227\\\\\n",
       "\tNebraska & -1.26563654  & -0.19395373  & -0.17557391  &  0.015892888\\\\\n",
       "\tNevada &  2.87439454  & -0.77560020  & -1.16338049  &  0.314515476\\\\\n",
       "\tNew Hampshire & -2.38391541  & -0.01808229  & -0.03685539  & -0.033137338\\\\\n",
       "\tNew Jersey &  0.18156611  & -1.44950571  &  0.76445355  &  0.243382700\\\\\n",
       "\tNew Mexico &  1.98002375  &  0.14284878  & -0.18369218  & -0.339533597\\\\\n",
       "\tNew York &  1.68257738  & -0.82318414  &  0.64307509  & -0.013484369\\\\\n",
       "\tNorth Carolina &  1.12337861  &  2.22800338  &  0.86357179  & -0.954381667\\\\\n",
       "\tNorth Dakota & -2.99222562  &  0.59911882  & -0.30127728  & -0.253987327\\\\\n",
       "\tOhio & -0.22596542  & -0.74223824  &  0.03113912  &  0.473915911\\\\\n",
       "\tOklahoma & -0.31178286  & -0.28785421  &  0.01530979  &  0.010332321\\\\\n",
       "\tOregon &  0.05912208  & -0.54141145  & -0.93983298  & -0.237780688\\\\\n",
       "\tPennsylvania & -0.88841582  & -0.57110035  &  0.40062871  &  0.359061124\\\\\n",
       "\tRhode Island & -0.86377206  & -1.49197842  &  1.36994570  & -0.613569430\\\\\n",
       "\tSouth Carolina &  1.32072380  &  1.93340466  &  0.30053779  & -0.131466685\\\\\n",
       "\tSouth Dakota & -1.98777484  &  0.82334324  & -0.38929333  & -0.109571764\\\\\n",
       "\tTennessee &  0.99974168  &  0.86025130  & -0.18808295  &  0.652864291\\\\\n",
       "\tTexas &  1.35513821  & -0.41248082  &  0.49206886  &  0.643195491\\\\\n",
       "\tUtah & -0.55056526  & -1.47150461  & -0.29372804  & -0.082314047\\\\\n",
       "\tVermont & -2.80141174  &  1.40228806  & -0.84126309  & -0.144889914\\\\\n",
       "\tVirginia & -0.09633491  &  0.19973529  & -0.01171254  &  0.211370813\\\\\n",
       "\tWashington & -0.21690338  & -0.97012418  & -0.62487094  & -0.220847793\\\\\n",
       "\tWest Virginia & -2.10858541  &  1.42484670  & -0.10477467  &  0.131908831\\\\\n",
       "\tWisconsin & -2.07971417  & -0.61126862  &  0.13886500  &  0.184103743\\\\\n",
       "\tWyoming & -0.62942666  &  0.32101297  &  0.24065923  & -0.166651801\\\\\n",
       "\\end{tabular}\n"
      ],
      "text/markdown": [
       "\n",
       "| <!--/--> | Comp.1 | Comp.2 | Comp.3 | Comp.4 |\n",
       "|---|---|---|---|---|\n",
       "| Alabama |  0.98556588  |  1.13339238  |  0.44426879  |  0.156267145 |\n",
       "| Alaska |  1.95013775  |  1.07321326  | -2.04000333  | -0.438583440 |\n",
       "| Arizona |  1.76316354  | -0.74595678  | -0.05478082  | -0.834652924 |\n",
       "| Arkansas | -0.14142029  |  1.11979678  | -0.11457369  | -0.182810896 |\n",
       "| California |  2.52398013  | -1.54293399  | -0.59855680  | -0.341996478 |\n",
       "| Colorado |  1.51456286  | -0.98755509  | -1.09500699  |  0.001464887 |\n",
       "| Connecticut | -1.35864746  | -1.08892789  |  0.64325757  | -0.118469414 |\n",
       "| Delaware |  0.04770931  | -0.32535892  |  0.71863294  | -0.881977637 |\n",
       "| Florida |  3.01304227  |  0.03922851  |  0.57682949  | -0.096284752 |\n",
       "| Georgia |  1.63928304  |  1.27894240  |  0.34246008  |  1.076796812 |\n",
       "| Hawaii | -0.91265715  | -1.57046001  | -0.05078189  |  0.902806864 |\n",
       "| Idaho | -1.63979985  |  0.21097292  | -0.25980134  | -0.499104101 |\n",
       "| Illinois |  1.37891072  | -0.68184119  |  0.67749564  | -0.122021292 |\n",
       "| Indiana | -0.50546136  | -0.15156254  | -0.22805484  |  0.424665700 |\n",
       "| Iowa | -2.25364607  | -0.10405407  | -0.16456432  |  0.017555916 |\n",
       "| Kansas | -0.79688112  | -0.27016470  | -0.02555331  |  0.206496428 |\n",
       "| Kentucky | -0.75085907  |  0.95844029  |  0.02836942  |  0.670556671 |\n",
       "| Louisiana |  1.56481798  |  0.87105466  |  0.78348036  |  0.454728038 |\n",
       "| Maine | -2.39682949  |  0.37639158  |  0.06568239  | -0.330459817 |\n",
       "| Maryland |  1.76336939  |  0.42765519  |  0.15725013  | -0.559069521 |\n",
       "| Massachusetts | -0.48616629  | -1.47449650  |  0.60949748  | -0.179598963 |\n",
       "| Michigan |  2.10844115  | -0.15539682  | -0.38486858  |  0.102372019 |\n",
       "| Minnesota | -1.69268181  | -0.63226125  | -0.15307043  |  0.067316885 |\n",
       "| Mississippi |  0.99649446  |  2.39379599  |  0.74080840  |  0.215508013 |\n",
       "| Missouri |  0.69678733  | -0.26335479  | -0.37744383  |  0.225824461 |\n",
       "| Montana | -1.18545191  |  0.53687437  | -0.24688932  |  0.123742227 |\n",
       "| Nebraska | -1.26563654  | -0.19395373  | -0.17557391  |  0.015892888 |\n",
       "| Nevada |  2.87439454  | -0.77560020  | -1.16338049  |  0.314515476 |\n",
       "| New Hampshire | -2.38391541  | -0.01808229  | -0.03685539  | -0.033137338 |\n",
       "| New Jersey |  0.18156611  | -1.44950571  |  0.76445355  |  0.243382700 |\n",
       "| New Mexico |  1.98002375  |  0.14284878  | -0.18369218  | -0.339533597 |\n",
       "| New York |  1.68257738  | -0.82318414  |  0.64307509  | -0.013484369 |\n",
       "| North Carolina |  1.12337861  |  2.22800338  |  0.86357179  | -0.954381667 |\n",
       "| North Dakota | -2.99222562  |  0.59911882  | -0.30127728  | -0.253987327 |\n",
       "| Ohio | -0.22596542  | -0.74223824  |  0.03113912  |  0.473915911 |\n",
       "| Oklahoma | -0.31178286  | -0.28785421  |  0.01530979  |  0.010332321 |\n",
       "| Oregon |  0.05912208  | -0.54141145  | -0.93983298  | -0.237780688 |\n",
       "| Pennsylvania | -0.88841582  | -0.57110035  |  0.40062871  |  0.359061124 |\n",
       "| Rhode Island | -0.86377206  | -1.49197842  |  1.36994570  | -0.613569430 |\n",
       "| South Carolina |  1.32072380  |  1.93340466  |  0.30053779  | -0.131466685 |\n",
       "| South Dakota | -1.98777484  |  0.82334324  | -0.38929333  | -0.109571764 |\n",
       "| Tennessee |  0.99974168  |  0.86025130  | -0.18808295  |  0.652864291 |\n",
       "| Texas |  1.35513821  | -0.41248082  |  0.49206886  |  0.643195491 |\n",
       "| Utah | -0.55056526  | -1.47150461  | -0.29372804  | -0.082314047 |\n",
       "| Vermont | -2.80141174  |  1.40228806  | -0.84126309  | -0.144889914 |\n",
       "| Virginia | -0.09633491  |  0.19973529  | -0.01171254  |  0.211370813 |\n",
       "| Washington | -0.21690338  | -0.97012418  | -0.62487094  | -0.220847793 |\n",
       "| West Virginia | -2.10858541  |  1.42484670  | -0.10477467  |  0.131908831 |\n",
       "| Wisconsin | -2.07971417  | -0.61126862  |  0.13886500  |  0.184103743 |\n",
       "| Wyoming | -0.62942666  |  0.32101297  |  0.24065923  | -0.166651801 |\n",
       "\n"
      ],
      "text/plain": [
       "               Comp.1      Comp.2      Comp.3      Comp.4      \n",
       "Alabama         0.98556588  1.13339238  0.44426879  0.156267145\n",
       "Alaska          1.95013775  1.07321326 -2.04000333 -0.438583440\n",
       "Arizona         1.76316354 -0.74595678 -0.05478082 -0.834652924\n",
       "Arkansas       -0.14142029  1.11979678 -0.11457369 -0.182810896\n",
       "California      2.52398013 -1.54293399 -0.59855680 -0.341996478\n",
       "Colorado        1.51456286 -0.98755509 -1.09500699  0.001464887\n",
       "Connecticut    -1.35864746 -1.08892789  0.64325757 -0.118469414\n",
       "Delaware        0.04770931 -0.32535892  0.71863294 -0.881977637\n",
       "Florida         3.01304227  0.03922851  0.57682949 -0.096284752\n",
       "Georgia         1.63928304  1.27894240  0.34246008  1.076796812\n",
       "Hawaii         -0.91265715 -1.57046001 -0.05078189  0.902806864\n",
       "Idaho          -1.63979985  0.21097292 -0.25980134 -0.499104101\n",
       "Illinois        1.37891072 -0.68184119  0.67749564 -0.122021292\n",
       "Indiana        -0.50546136 -0.15156254 -0.22805484  0.424665700\n",
       "Iowa           -2.25364607 -0.10405407 -0.16456432  0.017555916\n",
       "Kansas         -0.79688112 -0.27016470 -0.02555331  0.206496428\n",
       "Kentucky       -0.75085907  0.95844029  0.02836942  0.670556671\n",
       "Louisiana       1.56481798  0.87105466  0.78348036  0.454728038\n",
       "Maine          -2.39682949  0.37639158  0.06568239 -0.330459817\n",
       "Maryland        1.76336939  0.42765519  0.15725013 -0.559069521\n",
       "Massachusetts  -0.48616629 -1.47449650  0.60949748 -0.179598963\n",
       "Michigan        2.10844115 -0.15539682 -0.38486858  0.102372019\n",
       "Minnesota      -1.69268181 -0.63226125 -0.15307043  0.067316885\n",
       "Mississippi     0.99649446  2.39379599  0.74080840  0.215508013\n",
       "Missouri        0.69678733 -0.26335479 -0.37744383  0.225824461\n",
       "Montana        -1.18545191  0.53687437 -0.24688932  0.123742227\n",
       "Nebraska       -1.26563654 -0.19395373 -0.17557391  0.015892888\n",
       "Nevada          2.87439454 -0.77560020 -1.16338049  0.314515476\n",
       "New Hampshire  -2.38391541 -0.01808229 -0.03685539 -0.033137338\n",
       "New Jersey      0.18156611 -1.44950571  0.76445355  0.243382700\n",
       "New Mexico      1.98002375  0.14284878 -0.18369218 -0.339533597\n",
       "New York        1.68257738 -0.82318414  0.64307509 -0.013484369\n",
       "North Carolina  1.12337861  2.22800338  0.86357179 -0.954381667\n",
       "North Dakota   -2.99222562  0.59911882 -0.30127728 -0.253987327\n",
       "Ohio           -0.22596542 -0.74223824  0.03113912  0.473915911\n",
       "Oklahoma       -0.31178286 -0.28785421  0.01530979  0.010332321\n",
       "Oregon          0.05912208 -0.54141145 -0.93983298 -0.237780688\n",
       "Pennsylvania   -0.88841582 -0.57110035  0.40062871  0.359061124\n",
       "Rhode Island   -0.86377206 -1.49197842  1.36994570 -0.613569430\n",
       "South Carolina  1.32072380  1.93340466  0.30053779 -0.131466685\n",
       "South Dakota   -1.98777484  0.82334324 -0.38929333 -0.109571764\n",
       "Tennessee       0.99974168  0.86025130 -0.18808295  0.652864291\n",
       "Texas           1.35513821 -0.41248082  0.49206886  0.643195491\n",
       "Utah           -0.55056526 -1.47150461 -0.29372804 -0.082314047\n",
       "Vermont        -2.80141174  1.40228806 -0.84126309 -0.144889914\n",
       "Virginia       -0.09633491  0.19973529 -0.01171254  0.211370813\n",
       "Washington     -0.21690338 -0.97012418 -0.62487094 -0.220847793\n",
       "West Virginia  -2.10858541  1.42484670 -0.10477467  0.131908831\n",
       "Wisconsin      -2.07971417 -0.61126862  0.13886500  0.184103743\n",
       "Wyoming        -0.62942666  0.32101297  0.24065923 -0.166651801"
      ]
     },
     "metadata": {},
     "output_type": "display_data"
    }
   ],
   "source": [
    "fit$scores"
   ]
  },
  {
   "cell_type": "code",
   "execution_count": 14,
   "metadata": {},
   "outputs": [
    {
     "data": {
      "image/png": "[encoded data removed]",
      "text/plain": [
       "plot without title"
      ]
     },
     "metadata": {},
     "output_type": "display_data"
    }
   ],
   "source": [
    "biplot(fit)"
   ]
  },
  {
   "cell_type": "code",
   "execution_count": null,
   "metadata": {},
   "outputs": [],
   "source": []
  }
 ],
 "metadata": {
  "kernelspec": {
   "display_name": "R",
   "language": "R",
   "name": "ir"
  },
  "language_info": {
   "codemirror_mode": "r",
   "file_extension": ".r",
   "mimetype": "text/x-r-source",
   "name": "R",
   "pygments_lexer": "r",
   "version": "3.6.1"
  }
 },
 "nbformat": 4,
 "nbformat_minor": 4
}
