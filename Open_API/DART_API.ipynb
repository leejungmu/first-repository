{
 "cells": [
  {
   "cell_type": "code",
   "execution_count": 1,
   "metadata": {},
   "outputs": [],
   "source": [
    "import dart_fss as dart"
   ]
  },
  {
   "cell_type": "code",
   "execution_count": 3,
   "metadata": {},
   "outputs": [],
   "source": [
    "api_key = open(\"./api_key/DART_api_key.txt\").readlines()[0].strip()"
   ]
  },
  {
   "cell_type": "code",
   "execution_count": 5,
   "metadata": {},
   "outputs": [],
   "source": [
    "#dart.set_api_key(api_key=api_key)"
   ]
  },
  {
   "cell_type": "markdown",
   "metadata": {},
   "source": [
    "### 회사 코드 정보 가져오기"
   ]
  },
  {
   "cell_type": "code",
   "execution_count": 17,
   "metadata": {},
   "outputs": [],
   "source": [
    "corp_list = dart.get_corp_list()"
   ]
  },
  {
   "cell_type": "markdown",
   "metadata": {},
   "source": [
    "### 삼성전자 종목명으로 정보가져오기"
   ]
  },
  {
   "cell_type": "code",
   "execution_count": 18,
   "metadata": {},
   "outputs": [],
   "source": [
    "com_info = corp_list.find_by_corp_name('삼성전자', exactly = True)[0]"
   ]
  },
  {
   "cell_type": "markdown",
   "metadata": {},
   "source": [
    "### 2017년부터 연간 연결재무제표 불러오기"
   ]
  },
  {
   "cell_type": "code",
   "execution_count": 19,
   "metadata": {},
   "outputs": [
    {
     "data": {
      "application/vnd.jupyter.widget-view+json": {
       "model_id": "fe4e5ec924974432abb2b46933038006",
       "version_major": 2,
       "version_minor": 0
      },
      "text/plain": [
       "HBox(children=(FloatProgress(value=0.0, description='Annual reports', max=5.0, style=ProgressStyle(description…"
      ]
     },
     "metadata": {},
     "output_type": "display_data"
    },
    {
     "name": "stdout",
     "output_type": "stream",
     "text": [
      "\n"
     ]
    }
   ],
   "source": [
    "com_fs = com_info.extract_fs(bgn_de='20160101')"
   ]
  },
  {
   "cell_type": "code",
   "execution_count": 9,
   "metadata": {},
   "outputs": [
    {
     "name": "stdout",
     "output_type": "stream",
     "text": [
      "{'bgn_de': '20160101',\n",
      " 'corp_code': '00126380',\n",
      " 'end_de': None,\n",
      " 'financial statement': [{'title': '[D210000] Statement of financial position, '\n",
      "                                   'current/non-current - Consolidated '\n",
      "                                   'financial statements (Unit: KRW)'},\n",
      "                         {'title': '[D310000] Income statement, by function of '\n",
      "                                   'expense - Consolidated financial '\n",
      "                                   'statements (Unit: KRW)'},\n",
      "                         {'title': '[D410000] Statement of comprehensive '\n",
      "                                   'income - Consolidated financial statements '\n",
      "                                   '(Unit: KRW)'},\n",
      "                         {'title': '[D520000] Statement of cash flows, '\n",
      "                                   'indirect method - Consolidated financial '\n",
      "                                   'statements (Unit: KRW)'}],\n",
      " 'lang': 'ko',\n",
      " 'report_tp': 'annual',\n",
      " 'separate': False,\n",
      " 'separator': True}\n"
     ]
    }
   ],
   "source": [
    "print(com_fs)"
   ]
  },
  {
   "cell_type": "markdown",
   "metadata": {},
   "source": [
    "### 엑셀로 저장"
   ]
  },
  {
   "cell_type": "code",
   "execution_count": 10,
   "metadata": {},
   "outputs": [
    {
     "data": {
      "text/plain": [
       "'D:\\\\DataScience\\\\first-repository\\\\fsdata\\\\00126380_annual.xlsx'"
      ]
     },
     "execution_count": 10,
     "metadata": {},
     "output_type": "execute_result"
    }
   ],
   "source": [
    "com_fs.save()"
   ]
  },
  {
   "cell_type": "code",
   "execution_count": null,
   "metadata": {},
   "outputs": [],
   "source": []
  }
 ],
 "metadata": {
  "kernelspec": {
   "display_name": "Python 3",
   "language": "python",
   "name": "python3"
  },
  "language_info": {
   "codemirror_mode": {
    "name": "ipython",
    "version": 3
   },
   "file_extension": ".py",
   "mimetype": "text/x-python",
   "name": "python",
   "nbconvert_exporter": "python",
   "pygments_lexer": "ipython3",
   "version": "3.7.6"
  }
 },
 "nbformat": 4,
 "nbformat_minor": 4
}
