{
 "cells": [
  {
   "cell_type": "code",
   "execution_count": 4,
   "metadata": {},
   "outputs": [
    {
     "data": {
      "text/plain": [
       "\n",
       "   benign malignant \n",
       "      458       241 "
      ]
     },
     "metadata": {},
     "output_type": "display_data"
    },
    {
     "name": "stderr",
     "output_type": "stream",
     "text": [
      "Warning message:\n",
      "\"package 'caret' was built under R version 3.6.2\"Loading required package: lattice\n",
      "Loading required package: ggplot2\n",
      "Warning message:\n",
      "\"package 'ggplot2' was built under R version 3.6.2\""
     ]
    }
   ],
   "source": [
    "library(mlbench)\n",
    "data(BreastCancer)\n",
    "table(BreastCancer$Class)\n",
    "library(caret)"
   ]
  },
  {
   "cell_type": "code",
   "execution_count": 10,
   "metadata": {},
   "outputs": [
    {
     "data": {
      "text/plain": [
       "           Class\n",
       "Class       benign malignant\n",
       "  benign       458         0\n",
       "  malignant      0       458"
      ]
     },
     "metadata": {},
     "output_type": "display_data"
    },
    {
     "data": {
      "text/plain": [
       "           Class\n",
       "Class       benign malignant\n",
       "  benign       241         0\n",
       "  malignant      0       241"
      ]
     },
     "metadata": {},
     "output_type": "display_data"
    }
   ],
   "source": [
    "x <- upSample(subset(BreastCancer, select = Class), BreastCancer$Class)\n",
    "y <- downSample(subset(BreastCancer, select = Class), BreastCancer$Class)\n",
    "table(x)\n",
    "table(y)"
   ]
  },
  {
   "cell_type": "code",
   "execution_count": 13,
   "metadata": {},
   "outputs": [
    {
     "name": "stdout",
     "output_type": "stream",
     "text": [
      "'data.frame':\t699 obs. of  11 variables:\n",
      " $ Id             : chr  \"1000025\" \"1002945\" \"1015425\" \"1016277\" ...\n",
      " $ Cl.thickness   : Ord.factor w/ 10 levels \"1\"<\"2\"<\"3\"<\"4\"<..: 5 5 3 6 4 8 1 2 2 4 ...\n",
      " $ Cell.size      : Ord.factor w/ 10 levels \"1\"<\"2\"<\"3\"<\"4\"<..: 1 4 1 8 1 10 1 1 1 2 ...\n",
      " $ Cell.shape     : Ord.factor w/ 10 levels \"1\"<\"2\"<\"3\"<\"4\"<..: 1 4 1 8 1 10 1 2 1 1 ...\n",
      " $ Marg.adhesion  : Ord.factor w/ 10 levels \"1\"<\"2\"<\"3\"<\"4\"<..: 1 5 1 1 3 8 1 1 1 1 ...\n",
      " $ Epith.c.size   : Ord.factor w/ 10 levels \"1\"<\"2\"<\"3\"<\"4\"<..: 2 7 2 3 2 7 2 2 2 2 ...\n",
      " $ Bare.nuclei    : Factor w/ 10 levels \"1\",\"2\",\"3\",\"4\",..: 1 10 2 4 1 10 10 1 1 1 ...\n",
      " $ Bl.cromatin    : Factor w/ 10 levels \"1\",\"2\",\"3\",\"4\",..: 3 3 3 3 3 9 3 3 1 2 ...\n",
      " $ Normal.nucleoli: Factor w/ 10 levels \"1\",\"2\",\"3\",\"4\",..: 1 2 1 7 1 7 1 1 1 1 ...\n",
      " $ Mitoses        : Factor w/ 9 levels \"1\",\"2\",\"3\",\"4\",..: 1 1 1 1 1 1 1 1 5 1 ...\n",
      " $ Class          : Factor w/ 2 levels \"benign\",\"malignant\": 1 1 1 1 1 2 1 1 1 1 ...\n"
     ]
    },
    {
     "data": {
      "text/html": [
       "<table>\n",
       "<thead><tr><th scope=col>Id</th><th scope=col>Cl.thickness</th><th scope=col>Cell.size</th><th scope=col>Cell.shape</th><th scope=col>Marg.adhesion</th><th scope=col>Epith.c.size</th><th scope=col>Bare.nuclei</th><th scope=col>Bl.cromatin</th><th scope=col>Normal.nucleoli</th><th scope=col>Mitoses</th><th scope=col>Class</th></tr></thead>\n",
       "<tbody>\n",
       "\t<tr><td>1000025  </td><td>5        </td><td>1        </td><td>1        </td><td>1        </td><td>2        </td><td>1        </td><td>3        </td><td>1        </td><td>1        </td><td>benign   </td></tr>\n",
       "\t<tr><td>1002945  </td><td>5        </td><td>4        </td><td>4        </td><td>5        </td><td>7        </td><td>10       </td><td>3        </td><td>2        </td><td>1        </td><td>benign   </td></tr>\n",
       "\t<tr><td>1015425  </td><td>3        </td><td>1        </td><td>1        </td><td>1        </td><td>2        </td><td>2        </td><td>3        </td><td>1        </td><td>1        </td><td>benign   </td></tr>\n",
       "\t<tr><td>1016277  </td><td>6        </td><td>8        </td><td>8        </td><td>1        </td><td>3        </td><td>4        </td><td>3        </td><td>7        </td><td>1        </td><td>benign   </td></tr>\n",
       "\t<tr><td>1017023  </td><td>4        </td><td>1        </td><td>1        </td><td>3        </td><td>2        </td><td>1        </td><td>3        </td><td>1        </td><td>1        </td><td>benign   </td></tr>\n",
       "\t<tr><td>1017122  </td><td>8        </td><td>10       </td><td>10       </td><td>8        </td><td>7        </td><td>10       </td><td>9        </td><td>7        </td><td>1        </td><td>malignant</td></tr>\n",
       "</tbody>\n",
       "</table>\n"
      ],
      "text/latex": [
       "\\begin{tabular}{r|lllllllllll}\n",
       " Id & Cl.thickness & Cell.size & Cell.shape & Marg.adhesion & Epith.c.size & Bare.nuclei & Bl.cromatin & Normal.nucleoli & Mitoses & Class\\\\\n",
       "\\hline\n",
       "\t 1000025   & 5         & 1         & 1         & 1         & 2         & 1         & 3         & 1         & 1         & benign   \\\\\n",
       "\t 1002945   & 5         & 4         & 4         & 5         & 7         & 10        & 3         & 2         & 1         & benign   \\\\\n",
       "\t 1015425   & 3         & 1         & 1         & 1         & 2         & 2         & 3         & 1         & 1         & benign   \\\\\n",
       "\t 1016277   & 6         & 8         & 8         & 1         & 3         & 4         & 3         & 7         & 1         & benign   \\\\\n",
       "\t 1017023   & 4         & 1         & 1         & 3         & 2         & 1         & 3         & 1         & 1         & benign   \\\\\n",
       "\t 1017122   & 8         & 10        & 10        & 8         & 7         & 10        & 9         & 7         & 1         & malignant\\\\\n",
       "\\end{tabular}\n"
      ],
      "text/markdown": [
       "\n",
       "| Id | Cl.thickness | Cell.size | Cell.shape | Marg.adhesion | Epith.c.size | Bare.nuclei | Bl.cromatin | Normal.nucleoli | Mitoses | Class |\n",
       "|---|---|---|---|---|---|---|---|---|---|---|\n",
       "| 1000025   | 5         | 1         | 1         | 1         | 2         | 1         | 3         | 1         | 1         | benign    |\n",
       "| 1002945   | 5         | 4         | 4         | 5         | 7         | 10        | 3         | 2         | 1         | benign    |\n",
       "| 1015425   | 3         | 1         | 1         | 1         | 2         | 2         | 3         | 1         | 1         | benign    |\n",
       "| 1016277   | 6         | 8         | 8         | 1         | 3         | 4         | 3         | 7         | 1         | benign    |\n",
       "| 1017023   | 4         | 1         | 1         | 3         | 2         | 1         | 3         | 1         | 1         | benign    |\n",
       "| 1017122   | 8         | 10        | 10        | 8         | 7         | 10        | 9         | 7         | 1         | malignant |\n",
       "\n"
      ],
      "text/plain": [
       "  Id      Cl.thickness Cell.size Cell.shape Marg.adhesion Epith.c.size\n",
       "1 1000025 5            1         1          1             2           \n",
       "2 1002945 5            4         4          5             7           \n",
       "3 1015425 3            1         1          1             2           \n",
       "4 1016277 6            8         8          1             3           \n",
       "5 1017023 4            1         1          3             2           \n",
       "6 1017122 8            10        10         8             7           \n",
       "  Bare.nuclei Bl.cromatin Normal.nucleoli Mitoses Class    \n",
       "1 1           3           1               1       benign   \n",
       "2 10          3           2               1       benign   \n",
       "3 2           3           1               1       benign   \n",
       "4 4           3           7               1       benign   \n",
       "5 1           3           1               1       benign   \n",
       "6 10          9           7               1       malignant"
      ]
     },
     "metadata": {},
     "output_type": "display_data"
    }
   ],
   "source": [
    "library(party)\n",
    "str(BreastCancer)\n",
    "head(BreastCancer)\n",
    "data <- subset(BreastCancer, select = -Id)"
   ]
  },
  {
   "cell_type": "code",
   "execution_count": 23,
   "metadata": {},
   "outputs": [
    {
     "data": {
      "text/plain": [
       "n= 560 \n",
       "\n",
       "node), split, n, loss, yval, (yprob)\n",
       "      * denotes terminal node\n",
       "\n",
       "1) root 560 193 benign (0.65535714 0.34464286)  \n",
       "  2) Cell.shape=1,2,3 368  20 benign (0.94565217 0.05434783)  \n",
       "    4) Bare.nuclei=1,2,3,4,5 355   9 benign (0.97464789 0.02535211)  \n",
       "      8) Normal.nucleoli=1,2,3,6 348   4 benign (0.98850575 0.01149425) *\n",
       "      9) Normal.nucleoli=4,5,8,10 7   2 malignant (0.28571429 0.71428571) *\n",
       "    5) Bare.nuclei=6,7,10 13   2 malignant (0.15384615 0.84615385) *\n",
       "  3) Cell.shape=4,5,6,7,8,9,10 192  19 malignant (0.09895833 0.90104167)  \n",
       "    6) Cell.size=1,2 10   3 benign (0.70000000 0.30000000) *\n",
       "    7) Cell.size=3,4,5,6,7,8,9,10 182  12 malignant (0.06593407 0.93406593) *"
      ]
     },
     "metadata": {},
     "output_type": "display_data"
    }
   ],
   "source": [
    "library(rpart)\n",
    "parts <- createDataPartition(data$Class , p = 0.8)\n",
    "data.train <- data[parts$Resample1, ]\n",
    "data.test <- data[-parts$Resample1, ]\n",
    "(m <- rpart(Class ~ ., data = data.train))"
   ]
  },
  {
   "cell_type": "code",
   "execution_count": 25,
   "metadata": {},
   "outputs": [
    {
     "data": {
      "text/plain": [
       "Confusion Matrix and Statistics\n",
       "\n",
       "           Reference\n",
       "Prediction  benign malignant\n",
       "  benign        87         4\n",
       "  malignant      2        46\n",
       "                                         \n",
       "               Accuracy : 0.9568         \n",
       "                 95% CI : (0.9084, 0.984)\n",
       "    No Information Rate : 0.6403         \n",
       "    P-Value [Acc > NIR] : <2e-16         \n",
       "                                         \n",
       "                  Kappa : 0.9055         \n",
       "                                         \n",
       " Mcnemar's Test P-Value : 0.6831         \n",
       "                                         \n",
       "            Sensitivity : 0.9775         \n",
       "            Specificity : 0.9200         \n",
       "         Pos Pred Value : 0.9560         \n",
       "         Neg Pred Value : 0.9583         \n",
       "             Prevalence : 0.6403         \n",
       "         Detection Rate : 0.6259         \n",
       "   Detection Prevalence : 0.6547         \n",
       "      Balanced Accuracy : 0.9488         \n",
       "                                         \n",
       "       'Positive' Class : benign         \n",
       "                                         "
      ]
     },
     "metadata": {},
     "output_type": "display_data"
    }
   ],
   "source": [
    "confusionMatrix(data.test$Class, predict(m, newdata = data.test, type = \"class\"))"
   ]
  },
  {
   "cell_type": "code",
   "execution_count": 26,
   "metadata": {},
   "outputs": [
    {
     "data": {
      "text/plain": [
       "n= 734 \n",
       "\n",
       "node), split, n, loss, yval, (yprob)\n",
       "      * denotes terminal node\n",
       "\n",
       " 1) root 734 367 benign (0.50000000 0.50000000)  \n",
       "   2) Cell.size=1,2 347  15 benign (0.95677233 0.04322767)  \n",
       "     4) Cl.thickness=1,2,3,4,5,6 335   4 benign (0.98805970 0.01194030) *\n",
       "     5) Cl.thickness=7,8,9,10 12   1 malignant (0.08333333 0.91666667) *\n",
       "   3) Cell.size=3,4,5,6,7,8,9,10 387  35 malignant (0.09043928 0.90956072)  \n",
       "     6) Cell.shape=1,2 26  10 benign (0.61538462 0.38461538)  \n",
       "      12) Bl.cromatin=1,2,3,5 15   0 benign (1.00000000 0.00000000) *\n",
       "      13) Bl.cromatin=4,7,8 11   1 malignant (0.09090909 0.90909091) *\n",
       "     7) Cell.shape=3,4,5,6,7,8,9,10 361  19 malignant (0.05263158 0.94736842) *"
      ]
     },
     "metadata": {},
     "output_type": "display_data"
    }
   ],
   "source": [
    "data.up.train <- upSample(subset(data.train, select = -Class), data.train$Class)\n",
    "(m1 <- rpart(Class ~ ., data = data.up.train))"
   ]
  },
  {
   "cell_type": "code",
   "execution_count": 28,
   "metadata": {},
   "outputs": [
    {
     "data": {
      "text/plain": [
       "Confusion Matrix and Statistics\n",
       "\n",
       "           Reference\n",
       "Prediction  benign malignant\n",
       "  benign        86         5\n",
       "  malignant      3        45\n",
       "                                          \n",
       "               Accuracy : 0.9424          \n",
       "                 95% CI : (0.8897, 0.9748)\n",
       "    No Information Rate : 0.6403          \n",
       "    P-Value [Acc > NIR] : <2e-16          \n",
       "                                          \n",
       "                  Kappa : 0.874           \n",
       "                                          \n",
       " Mcnemar's Test P-Value : 0.7237          \n",
       "                                          \n",
       "            Sensitivity : 0.9663          \n",
       "            Specificity : 0.9000          \n",
       "         Pos Pred Value : 0.9451          \n",
       "         Neg Pred Value : 0.9375          \n",
       "             Prevalence : 0.6403          \n",
       "         Detection Rate : 0.6187          \n",
       "   Detection Prevalence : 0.6547          \n",
       "      Balanced Accuracy : 0.9331          \n",
       "                                          \n",
       "       'Positive' Class : benign          \n",
       "                                          "
      ]
     },
     "metadata": {},
     "output_type": "display_data"
    }
   ],
   "source": [
    "confusionMatrix(data.test$Class, predict(m1, data.test, type =\"class\"))"
   ]
  },
  {
   "cell_type": "code",
   "execution_count": 31,
   "metadata": {},
   "outputs": [
    {
     "name": "stderr",
     "output_type": "stream",
     "text": [
      "Warning message:\n",
      "\"`repeats` has no meaning for this resampling method.\"Warning message in randomForest.default(x, y, mtry = param$mtry, ...):\n",
      "\"invalid mtry: reset to within valid range\"Warning message in randomForest.default(x, y, mtry = param$mtry, ...):\n",
      "\"invalid mtry: reset to within valid range\"Warning message in randomForest.default(x, y, mtry = param$mtry, ...):\n",
      "\"invalid mtry: reset to within valid range\"Warning message in randomForest.default(x, y, mtry = param$mtry, ...):\n",
      "\"invalid mtry: reset to within valid range\"Warning message in randomForest.default(x, y, mtry = param$mtry, ...):\n",
      "\"invalid mtry: reset to within valid range\"Warning message in randomForest.default(x, y, mtry = param$mtry, ...):\n",
      "\"invalid mtry: reset to within valid range\"Warning message in randomForest.default(x, y, mtry = param$mtry, ...):\n",
      "\"invalid mtry: reset to within valid range\"Warning message in randomForest.default(x, y, mtry = param$mtry, ...):\n",
      "\"invalid mtry: reset to within valid range\"Warning message in randomForest.default(x, y, mtry = param$mtry, ...):\n",
      "\"invalid mtry: reset to within valid range\"Warning message in randomForest.default(x, y, mtry = param$mtry, ...):\n",
      "\"invalid mtry: reset to within valid range\"Warning message in randomForest.default(x, y, mtry = param$mtry, ...):\n",
      "\"invalid mtry: reset to within valid range\"Warning message in randomForest.default(x, y, mtry = param$mtry, ...):\n",
      "\"invalid mtry: reset to within valid range\"Warning message in randomForest.default(x, y, mtry = param$mtry, ...):\n",
      "\"invalid mtry: reset to within valid range\"Warning message in randomForest.default(x, y, mtry = param$mtry, ...):\n",
      "\"invalid mtry: reset to within valid range\"Warning message in randomForest.default(x, y, mtry = param$mtry, ...):\n",
      "\"invalid mtry: reset to within valid range\"Warning message in randomForest.default(x, y, mtry = param$mtry, ...):\n",
      "\"invalid mtry: reset to within valid range\"Warning message in randomForest.default(x, y, mtry = param$mtry, ...):\n",
      "\"invalid mtry: reset to within valid range\"Warning message in randomForest.default(x, y, mtry = param$mtry, ...):\n",
      "\"invalid mtry: reset to within valid range\"Warning message in randomForest.default(x, y, mtry = param$mtry, ...):\n",
      "\"invalid mtry: reset to within valid range\"Warning message in randomForest.default(x, y, mtry = param$mtry, ...):\n",
      "\"invalid mtry: reset to within valid range\""
     ]
    },
    {
     "data": {
      "text/plain": [
       "Random Forest \n",
       "\n",
       "120 samples\n",
       "  4 predictor\n",
       "  3 classes: 'setosa', 'versicolor', 'virginica' \n",
       "\n",
       "Pre-processing: principal component signal extraction (4), centered (4),\n",
       " scaled (4) \n",
       "Resampling: Cross-Validated (10 fold) \n",
       "Summary of sample sizes: 108, 108, 108, 108, 108, 108, ... \n",
       "Resampling results across tuning parameters:\n",
       "\n",
       "  mtry  Accuracy   Kappa \n",
       "  2     0.9000000  0.8500\n",
       "  3     0.8916667  0.8375\n",
       "  4     0.9000000  0.8500\n",
       "\n",
       "Accuracy was used to select the optimal model using the largest value.\n",
       "The final value used for the model was mtry = 2."
      ]
     },
     "metadata": {},
     "output_type": "display_data"
    }
   ],
   "source": [
    "library(caret)\n",
    "set.seed(137)\n",
    "train.idx <- createDataPartition(iris$Species, p = .8)[[1]]\n",
    "data.train <- iris[train.idx, ]\n",
    "data.test <- iris[-train.idx, ]\n",
    "(m <- train(Species ~ ., data = data.train, preProcess = c(\"pca\"), method = \"rf\", \n",
    "           ntree = 1000, trControl = trainControl(method = \"cv\", number = 10, repeats = 3)))"
   ]
  },
  {
   "cell_type": "code",
   "execution_count": 33,
   "metadata": {},
   "outputs": [
    {
     "data": {
      "text/plain": [
       "Confusion Matrix and Statistics\n",
       "\n",
       "            Reference\n",
       "Prediction   setosa versicolor virginica\n",
       "  setosa         10          0         0\n",
       "  versicolor      0          7         1\n",
       "  virginica       0          3         9\n",
       "\n",
       "Overall Statistics\n",
       "                                          \n",
       "               Accuracy : 0.8667          \n",
       "                 95% CI : (0.6928, 0.9624)\n",
       "    No Information Rate : 0.3333          \n",
       "    P-Value [Acc > NIR] : 2.296e-09       \n",
       "                                          \n",
       "                  Kappa : 0.8             \n",
       "                                          \n",
       " Mcnemar's Test P-Value : NA              \n",
       "\n",
       "Statistics by Class:\n",
       "\n",
       "                     Class: setosa Class: versicolor Class: virginica\n",
       "Sensitivity                 1.0000            0.7000           0.9000\n",
       "Specificity                 1.0000            0.9500           0.8500\n",
       "Pos Pred Value              1.0000            0.8750           0.7500\n",
       "Neg Pred Value              1.0000            0.8636           0.9444\n",
       "Prevalence                  0.3333            0.3333           0.3333\n",
       "Detection Rate              0.3333            0.2333           0.3000\n",
       "Detection Prevalence        0.3333            0.2667           0.4000\n",
       "Balanced Accuracy           1.0000            0.8250           0.8750"
      ]
     },
     "metadata": {},
     "output_type": "display_data"
    }
   ],
   "source": [
    "confusionMatrix(predict(m, newdata = data.test, type = \"raw\"), data.test$Species)"
   ]
  },
  {
   "cell_type": "code",
   "execution_count": 57,
   "metadata": {},
   "outputs": [
    {
     "data": {
      "text/plain": [
       "\n",
       "common   rare \n",
       "   100     50 "
      ]
     },
     "metadata": {},
     "output_type": "display_data"
    }
   ],
   "source": [
    "data(iris)\n",
    "data <- iris[, c(1, 2, 5)]\n",
    "data$Species <- factor(ifelse(data$Species == \"setosa\", \"rare\", \"common\"))\n",
    "table(data$Species)"
   ]
  },
  {
   "cell_type": "code",
   "execution_count": 58,
   "metadata": {},
   "outputs": [
    {
     "data": {
      "text/plain": [
       "\n",
       "common   rare \n",
       "   300    350 "
      ]
     },
     "metadata": {},
     "output_type": "display_data"
    }
   ],
   "source": [
    "library(DMwR)\n",
    "newData <- SMOTE(Species ~ ., data, perc.over = 600, perc.under=100)\n",
    "table(newData$Species)"
   ]
  },
  {
   "cell_type": "code",
   "execution_count": null,
   "metadata": {},
   "outputs": [],
   "source": []
  }
 ],
 "metadata": {
  "kernelspec": {
   "display_name": "R",
   "language": "R",
   "name": "ir"
  },
  "language_info": {
   "codemirror_mode": "r",
   "file_extension": ".r",
   "mimetype": "text/x-r-source",
   "name": "R",
   "pygments_lexer": "r",
   "version": "3.6.1"
  }
 },
 "nbformat": 4,
 "nbformat_minor": 4
}
