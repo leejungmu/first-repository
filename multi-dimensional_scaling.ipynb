{
 "cells": [
  {
   "cell_type": "code",
   "execution_count": 1,
   "metadata": {},
   "outputs": [
    {
     "data": {
      "text/plain": [
       "                Athens Barcelona Brussels Calais Cherbourg Cologne Copenhagen\n",
       "Barcelona         3313                                                       \n",
       "Brussels          2963      1318                                             \n",
       "Calais            3175      1326      204                                    \n",
       "Cherbourg         3339      1294      583    460                             \n",
       "Cologne           2762      1498      206    409       785                   \n",
       "Copenhagen        3276      2218      966   1136      1545     760           \n",
       "Geneva            2610       803      677    747       853    1662       1418\n",
       "Gibraltar         4485      1172     2256   2224      2047    2436       3196\n",
       "Hamburg           2977      2018      597    714      1115     460        460\n",
       "Hook of Holland   3030      1490      172    330       731     269        269\n",
       "Lisbon            4532      1305     2084   2052      1827    2290       2971\n",
       "Lyons             2753       645      690    739       789     714       1458\n",
       "Madrid            3949       636     1558   1550      1347    1764       2498\n",
       "Marseilles        2865       521     1011   1059      1101    1035       1778\n",
       "Milan             2282      1014      925   1077      1209     911       1537\n",
       "Munich            2179      1365      747    977      1160     583       1104\n",
       "Paris             3000      1033      285    280       340     465       1176\n",
       "Rome               817      1460     1511   1662      1794    1497       2050\n",
       "Stockholm         3927      2868     1616   1786      2196    1403        650\n",
       "Vienna            1991      1802     1175   1381      1588     937       1455\n",
       "                Geneva Gibraltar Hamburg Hook of Holland Lisbon Lyons Madrid\n",
       "Barcelona                                                                   \n",
       "Brussels                                                                    \n",
       "Calais                                                                      \n",
       "Cherbourg                                                                   \n",
       "Cologne                                                                     \n",
       "Copenhagen                                                                  \n",
       "Geneva                                                                      \n",
       "Gibraltar         1975                                                      \n",
       "Hamburg           1118      2897                                            \n",
       "Hook of Holland    895      2428     550                                    \n",
       "Lisbon            1936       676    2671            2280                    \n",
       "Lyons              158      1817    1159             863   1178             \n",
       "Madrid            1439       698    2198            1730    668  1281       \n",
       "Marseilles         425      1693    1479            1183   1762   320   1157\n",
       "Milan              328      2185    1238            1098   2250   328   1724\n",
       "Munich             591      2565     805             851   2507   724   2010\n",
       "Paris              513      1971     877             457   1799   471   1273\n",
       "Rome               995      2631    1751            1683   2700  1048   2097\n",
       "Stockholm         2068      3886     949            1500   3231  2108   3188\n",
       "Vienna            1019      2974    1155            1205   2937  1157   2409\n",
       "                Marseilles Milan Munich Paris Rome Stockholm\n",
       "Barcelona                                                   \n",
       "Brussels                                                    \n",
       "Calais                                                      \n",
       "Cherbourg                                                   \n",
       "Cologne                                                     \n",
       "Copenhagen                                                  \n",
       "Geneva                                                      \n",
       "Gibraltar                                                   \n",
       "Hamburg                                                     \n",
       "Hook of Holland                                             \n",
       "Lisbon                                                      \n",
       "Lyons                                                       \n",
       "Madrid                                                      \n",
       "Marseilles                                                  \n",
       "Milan                  618                                  \n",
       "Munich                1109   331                            \n",
       "Paris                  792   856    821                     \n",
       "Rome                  1011   586    946  1476               \n",
       "Stockholm             2428  2187   1754  1827 2707          \n",
       "Vienna                1363   898    428  1249 1209      2105"
      ]
     },
     "metadata": {},
     "output_type": "display_data"
    }
   ],
   "source": [
    "data(eurodist)\n",
    "eurodist"
   ]
  },
  {
   "cell_type": "code",
   "execution_count": 2,
   "metadata": {},
   "outputs": [],
   "source": [
    "loc <- cmdscale(eurodist)"
   ]
  },
  {
   "cell_type": "code",
   "execution_count": 3,
   "metadata": {},
   "outputs": [
    {
     "data": {
      "image/png": "[encoded data removed]",
      "text/plain": [
       "Plot with title \"eurodist\""
      ]
     },
     "metadata": {},
     "output_type": "display_data"
    }
   ],
   "source": [
    "x <- loc[, 1]\n",
    "y <- loc[, 2]\n",
    "plot(x, y, type = \"n\", main = \"eurodist\")\n",
    "text(x, y, rownames(loc), cex = 0.8)\n",
    "abline(v = 0, h = 0)"
   ]
  },
  {
   "cell_type": "code",
   "execution_count": null,
   "metadata": {},
   "outputs": [],
   "source": []
  }
 ],
 "metadata": {
  "kernelspec": {
   "display_name": "R",
   "language": "R",
   "name": "ir"
  },
  "language_info": {
   "codemirror_mode": "r",
   "file_extension": ".r",
   "mimetype": "text/x-r-source",
   "name": "R",
   "pygments_lexer": "r",
   "version": "3.6.1"
  }
 },
 "nbformat": 4,
 "nbformat_minor": 4
}
