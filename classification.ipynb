{
 "cells": [
  {
   "cell_type": "markdown",
   "metadata": {},
   "source": [
    "# Classification - tree"
   ]
  },
  {
   "cell_type": "code",
   "execution_count": 58,
   "metadata": {},
   "outputs": [
    {
     "data": {
      "text/html": [
       "'D:/DataScience/first-repository'"
      ],
      "text/latex": [
       "'D:/DataScience/first-repository'"
      ],
      "text/markdown": [
       "'D:/DataScience/first-repository'"
      ],
      "text/plain": [
       "[1] \"D:/DataScience/first-repository\""
      ]
     },
     "metadata": {},
     "output_type": "display_data"
    }
   ],
   "source": [
    "getwd()\n",
    "heart <- read.csv(\"heart.csv\")"
   ]
  },
  {
   "cell_type": "code",
   "execution_count": 59,
   "metadata": {},
   "outputs": [
    {
     "name": "stdout",
     "output_type": "stream",
     "text": [
      "'data.frame':\t303 obs. of  15 variables:\n",
      " $ X        : int  1 2 3 4 5 6 7 8 9 10 ...\n",
      " $ Age      : int  63 67 67 37 41 56 62 57 63 53 ...\n",
      " $ Sex      : int  1 1 1 1 0 1 0 0 1 1 ...\n",
      " $ ChestPain: Factor w/ 4 levels \"asymptomatic\",..: 4 1 1 2 3 3 1 1 1 1 ...\n",
      " $ RestBP   : int  145 160 120 130 130 120 140 120 130 140 ...\n",
      " $ Chol     : int  233 286 229 250 204 236 268 354 254 203 ...\n",
      " $ Fbs      : int  1 0 0 0 0 0 0 0 0 1 ...\n",
      " $ RestECG  : int  2 2 2 0 2 0 2 0 2 2 ...\n",
      " $ MaxHR    : int  150 108 129 187 172 178 160 163 147 155 ...\n",
      " $ ExAng    : int  0 1 1 0 0 0 0 1 0 1 ...\n",
      " $ Oldpeak  : num  2.3 1.5 2.6 3.5 1.4 0.8 3.6 0.6 1.4 3.1 ...\n",
      " $ Slope    : int  3 2 2 3 1 1 3 1 2 3 ...\n",
      " $ Ca       : int  0 3 2 0 0 0 2 0 1 0 ...\n",
      " $ Thal     : Factor w/ 3 levels \"fixed\",\"normal\",..: 1 2 3 2 2 2 2 2 3 3 ...\n",
      " $ AHD      : Factor w/ 2 levels \"No\",\"Yes\": 1 2 2 1 1 1 2 1 2 2 ...\n"
     ]
    }
   ],
   "source": [
    "str(heart)"
   ]
  },
  {
   "cell_type": "code",
   "execution_count": 60,
   "metadata": {},
   "outputs": [
    {
     "name": "stdout",
     "output_type": "stream",
     "text": [
      "'data.frame':\t303 obs. of  15 variables:\n",
      " $ x        : int  1 2 3 4 5 6 7 8 9 10 ...\n",
      " $ age      : int  63 67 67 37 41 56 62 57 63 53 ...\n",
      " $ sex      : int  1 1 1 1 0 1 0 0 1 1 ...\n",
      " $ chestpain: Factor w/ 4 levels \"asymptomatic\",..: 4 1 1 2 3 3 1 1 1 1 ...\n",
      " $ restbp   : int  145 160 120 130 130 120 140 120 130 140 ...\n",
      " $ chol     : int  233 286 229 250 204 236 268 354 254 203 ...\n",
      " $ fbs      : int  1 0 0 0 0 0 0 0 0 1 ...\n",
      " $ restecg  : int  2 2 2 0 2 0 2 0 2 2 ...\n",
      " $ maxhr    : int  150 108 129 187 172 178 160 163 147 155 ...\n",
      " $ exang    : int  0 1 1 0 0 0 0 1 0 1 ...\n",
      " $ oldpeak  : num  2.3 1.5 2.6 3.5 1.4 0.8 3.6 0.6 1.4 3.1 ...\n",
      " $ slope    : int  3 2 2 3 1 1 3 1 2 3 ...\n",
      " $ ca       : int  0 3 2 0 0 0 2 0 1 0 ...\n",
      " $ thal     : Factor w/ 3 levels \"fixed\",\"normal\",..: 1 2 3 2 2 2 2 2 3 3 ...\n",
      " $ ahd      : Factor w/ 2 levels \"No\",\"Yes\": 1 2 2 1 1 1 2 1 2 2 ...\n"
     ]
    }
   ],
   "source": [
    "names(heart) <- c(\"x\", \"age\", \"sex\", \"chestpain\", \"restbp\", \"chol\", \"fbs\", \"restecg\", \"maxhr\", \"exang\", \"oldpeak\", \"slope\", \"ca\", \"thal\", \"ahd\")\n",
    "str(heart)"
   ]
  },
  {
   "cell_type": "code",
   "execution_count": 61,
   "metadata": {},
   "outputs": [
    {
     "data": {
      "text/plain": [
       "\n",
       "asymptomatic   nonanginal   nontypical      typical \n",
       "         144           86           50           23 "
      ]
     },
     "metadata": {},
     "output_type": "display_data"
    }
   ],
   "source": [
    "table(heart$chestpain)"
   ]
  },
  {
   "cell_type": "code",
   "execution_count": 62,
   "metadata": {},
   "outputs": [
    {
     "data": {
      "text/plain": [
       "\n",
       "     fixed     normal reversable \n",
       "        18        166        117 "
      ]
     },
     "metadata": {},
     "output_type": "display_data"
    }
   ],
   "source": [
    "table(heart$thal)"
   ]
  },
  {
   "cell_type": "code",
   "execution_count": 63,
   "metadata": {},
   "outputs": [
    {
     "data": {
      "text/plain": [
       "\n",
       " No Yes \n",
       "164 139 "
      ]
     },
     "metadata": {},
     "output_type": "display_data"
    }
   ],
   "source": [
    "table(heart$ahd)"
   ]
  },
  {
   "cell_type": "code",
   "execution_count": 64,
   "metadata": {},
   "outputs": [
    {
     "name": "stdout",
     "output_type": "stream",
     "text": [
      "'data.frame':\t303 obs. of  16 variables:\n",
      " $ x        : int  1 2 3 4 5 6 7 8 9 10 ...\n",
      " $ age      : int  63 67 67 37 41 56 62 57 63 53 ...\n",
      " $ sex      : Factor w/ 2 levels \"0\",\"1\": 2 2 2 2 1 2 1 1 2 2 ...\n",
      " $ chestpain: Factor w/ 4 levels \"asymptomatic\",..: 4 1 1 2 3 3 1 1 1 1 ...\n",
      " $ restbp   : int  145 160 120 130 130 120 140 120 130 140 ...\n",
      " $ chol     : int  233 286 229 250 204 236 268 354 254 203 ...\n",
      " $ fbs      : Factor w/ 2 levels \"0\",\"1\": 2 1 1 1 1 1 1 1 1 2 ...\n",
      " $ restecg  : Factor w/ 3 levels \"0\",\"1\",\"2\": 3 3 3 1 3 1 3 1 3 3 ...\n",
      " $ maxhr    : int  150 108 129 187 172 178 160 163 147 155 ...\n",
      " $ exang    : Factor w/ 2 levels \"0\",\"1\": 1 2 2 1 1 1 1 2 1 2 ...\n",
      " $ oldpeak  : num  2.3 1.5 2.6 3.5 1.4 0.8 3.6 0.6 1.4 3.1 ...\n",
      " $ slope    : int  3 2 2 3 1 1 3 1 2 3 ...\n",
      " $ ca       : Factor w/ 4 levels \"0\",\"1\",\"2\",\"3\": 1 4 3 1 1 1 3 1 2 1 ...\n",
      " $ thal     : Factor w/ 3 levels \"fixed\",\"normal\",..: 1 2 3 2 2 2 2 2 3 3 ...\n",
      " $ ahd      : Factor w/ 2 levels \"No\",\"Yes\": 1 2 2 1 1 1 2 1 2 2 ...\n",
      " $ slop     : Factor w/ 3 levels \"1\",\"2\",\"3\": 3 2 2 3 1 1 3 1 2 3 ...\n"
     ]
    }
   ],
   "source": [
    "heart$sex <- as.factor(heart$sex)\n",
    "heart$fbs <- as.factor(heart$fbs)\n",
    "heart$restecg <- as.factor(heart$restecg)\n",
    "heart$exang <- as.factor(heart$exang)\n",
    "heart$slop <- as.factor(heart$slop)\n",
    "heart$ca <- as.factor(heart$ca)\n",
    "\n",
    "str(heart)"
   ]
  },
  {
   "cell_type": "code",
   "execution_count": 65,
   "metadata": {},
   "outputs": [],
   "source": [
    "library(caret)\n",
    "set.seed(137)\n",
    "idx <- createDataPartition(heart$ahd, p = 0.7)$Resample1\n",
    "heart.train <- heart[idx, ]\n",
    "heart.test <- heart[-idx, ]"
   ]
  },
  {
   "cell_type": "code",
   "execution_count": 66,
   "metadata": {},
   "outputs": [
    {
     "name": "stderr",
     "output_type": "stream",
     "text": [
      "Warning message:\n",
      "\"package 'tree' is in use and will not be installed\""
     ]
    }
   ],
   "source": [
    "install.packages(\"tree\")"
   ]
  },
  {
   "cell_type": "code",
   "execution_count": 67,
   "metadata": {},
   "outputs": [
    {
     "data": {
      "image/png": "[encoded data removed]",
      "text/plain": [
       "plot without title"
      ]
     },
     "metadata": {},
     "output_type": "display_data"
    }
   ],
   "source": [
    "library(tree)\n",
    "m_tree <- tree(ahd ~ ., data = heart.train)\n",
    "plot(m_tree)\n",
    "text(m_tree)"
   ]
  },
  {
   "cell_type": "code",
   "execution_count": 68,
   "metadata": {},
   "outputs": [
    {
     "data": {
      "text/html": [
       "10"
      ],
      "text/latex": [
       "10"
      ],
      "text/markdown": [
       "10"
      ],
      "text/plain": [
       "[1] 10"
      ]
     },
     "metadata": {},
     "output_type": "display_data"
    },
    {
     "data": {
      "image/png": "[encoded data removed]",
      "text/plain": [
       "plot without title"
      ]
     },
     "metadata": {},
     "output_type": "display_data"
    }
   ],
   "source": [
    "cv_tree <- cv.tree(m_tree, FUN = prune.misclass)\n",
    "plot(cv_tree)\n",
    "cv_tree$size[which.min(cv_tree$dev)]\n",
    "par(mfrow = c(1, 2))\n",
    "plot(cv_tree)\n",
    "plot(cv_tree$size, cv_tree$dev / nrow(heart.train), type = \"b\", xlab = \"Tree Size\", ylab = \"CV Missclassification Rate\")"
   ]
  },
  {
   "cell_type": "code",
   "execution_count": 69,
   "metadata": {},
   "outputs": [
    {
     "data": {
      "image/png": "[encoded data removed]",
      "text/plain": [
       "plot without title"
      ]
     },
     "metadata": {},
     "output_type": "display_data"
    }
   ],
   "source": [
    "prune_tree <- prune.tree(m_tree, best = 10)\n",
    "plot(prune_tree)\n",
    "text(prune_tree)"
   ]
  },
  {
   "cell_type": "code",
   "execution_count": 70,
   "metadata": {},
   "outputs": [],
   "source": [
    "pred_tree <- predict(prune_tree, heart.test, type='class')\n",
    "out <- data.frame(ahd = heart.test$ahd, pred = pred_tree)"
   ]
  },
  {
   "cell_type": "code",
   "execution_count": 71,
   "metadata": {},
   "outputs": [
    {
     "data": {
      "text/plain": [
       "Confusion Matrix and Statistics\n",
       "\n",
       "          Reference\n",
       "Prediction No Yes\n",
       "       No  40   6\n",
       "       Yes  9  35\n",
       "                                        \n",
       "               Accuracy : 0.8333        \n",
       "                 95% CI : (0.74, 0.9036)\n",
       "    No Information Rate : 0.5444        \n",
       "    P-Value [Acc > NIR] : 7.067e-09     \n",
       "                                        \n",
       "                  Kappa : 0.666         \n",
       "                                        \n",
       " Mcnemar's Test P-Value : 0.6056        \n",
       "                                        \n",
       "            Sensitivity : 0.8163        \n",
       "            Specificity : 0.8537        \n",
       "         Pos Pred Value : 0.8696        \n",
       "         Neg Pred Value : 0.7955        \n",
       "             Prevalence : 0.5444        \n",
       "         Detection Rate : 0.4444        \n",
       "   Detection Prevalence : 0.5111        \n",
       "      Balanced Accuracy : 0.8350        \n",
       "                                        \n",
       "       'Positive' Class : No            \n",
       "                                        "
      ]
     },
     "metadata": {},
     "output_type": "display_data"
    }
   ],
   "source": [
    "library(caret)\n",
    "confusionMatrix(pred_tree, heart.test$ahd)"
   ]
  },
  {
   "cell_type": "markdown",
   "metadata": {},
   "source": [
    "# Classification - rpart"
   ]
  },
  {
   "cell_type": "code",
   "execution_count": 72,
   "metadata": {},
   "outputs": [
    {
     "data": {
      "image/png": "[encoded data removed]",
      "text/plain": [
       "plot without title"
      ]
     },
     "metadata": {},
     "output_type": "display_data"
    }
   ],
   "source": [
    "library(rpart)\n",
    "m_rpart <- rpart(ahd ~ ., data = heart.train, method=\"class\")\n",
    "plot(m_rpart)\n",
    "text(m_rpart)"
   ]
  },
  {
   "cell_type": "code",
   "execution_count": 73,
   "metadata": {},
   "outputs": [
    {
     "name": "stdout",
     "output_type": "stream",
     "text": [
      "\n",
      "Classification tree:\n",
      "rpart(formula = ahd ~ ., data = heart.train, method = \"class\")\n",
      "\n",
      "Variables actually used in tree construction:\n",
      "[1] ca        chestpain maxhr     oldpeak   thal     \n",
      "\n",
      "Root node error: 98/213 = 0.46009\n",
      "\n",
      "n= 213 \n",
      "\n",
      "        CP nsplit rel error  xerror     xstd\n",
      "1 0.520408      0   1.00000 1.00000 0.074224\n",
      "2 0.040816      1   0.47959 0.47959 0.061757\n",
      "3 0.030612      2   0.43878 0.52041 0.063552\n",
      "4 0.020408      4   0.37755 0.56122 0.065177\n",
      "5 0.010000      7   0.31633 0.54082 0.064385\n"
     ]
    }
   ],
   "source": [
    "printcp(m_rpart)"
   ]
  },
  {
   "cell_type": "code",
   "execution_count": 74,
   "metadata": {},
   "outputs": [
    {
     "data": {
      "image/png": "[encoded data removed]",
      "text/plain": [
       "plot without title"
      ]
     },
     "metadata": {},
     "output_type": "display_data"
    }
   ],
   "source": [
    "plotcp(m_rpart)"
   ]
  },
  {
   "cell_type": "code",
   "execution_count": 75,
   "metadata": {},
   "outputs": [
    {
     "data": {
      "image/png": "[encoded data removed]",
      "text/plain": [
       "plot without title"
      ]
     },
     "metadata": {},
     "output_type": "display_data"
    }
   ],
   "source": [
    "prune_rpart <- prune(m_rpart, cp = m_rpart$cptable[which.min(m_rpart$cptable[, \"xerror\"]), \"CP\"])\n",
    "plot(prune_rpart)\n",
    "text(prune_rpart)"
   ]
  },
  {
   "cell_type": "code",
   "execution_count": 76,
   "metadata": {},
   "outputs": [],
   "source": [
    "pred_rpart <- predict(prune_rpart, heart.test, type='class')\n",
    "out_rpart <- heart.test\n",
    "out_rpart$pred <- pred_rpart"
   ]
  },
  {
   "cell_type": "code",
   "execution_count": 77,
   "metadata": {},
   "outputs": [
    {
     "data": {
      "text/plain": [
       "Confusion Matrix and Statistics\n",
       "\n",
       "          Reference\n",
       "Prediction No Yes\n",
       "       No  37  12\n",
       "       Yes 12  29\n",
       "                                          \n",
       "               Accuracy : 0.7333          \n",
       "                 95% CI : (0.6297, 0.8211)\n",
       "    No Information Rate : 0.5444          \n",
       "    P-Value [Acc > NIR] : 0.0001788       \n",
       "                                          \n",
       "                  Kappa : 0.4624          \n",
       "                                          \n",
       " Mcnemar's Test P-Value : 1.0000000       \n",
       "                                          \n",
       "            Sensitivity : 0.7551          \n",
       "            Specificity : 0.7073          \n",
       "         Pos Pred Value : 0.7551          \n",
       "         Neg Pred Value : 0.7073          \n",
       "             Prevalence : 0.5444          \n",
       "         Detection Rate : 0.4111          \n",
       "   Detection Prevalence : 0.5444          \n",
       "      Balanced Accuracy : 0.7312          \n",
       "                                          \n",
       "       'Positive' Class : No              \n",
       "                                          "
      ]
     },
     "metadata": {},
     "output_type": "display_data"
    }
   ],
   "source": [
    "confusionMatrix(pred_rpart, heart.test$ahd)"
   ]
  },
  {
   "cell_type": "code",
   "execution_count": 78,
   "metadata": {},
   "outputs": [],
   "source": [
    "a <- confusionMatrix(pred_rpart, heart.test$ahd)\n",
    "precision <- c(a$byClass['Pos Pred Value'])\n",
    "recall <- c(a$byClass['Sensitivity'])\n",
    "F1 <- 2*(precision*recall)/(precision+recall)"
   ]
  },
  {
   "cell_type": "code",
   "execution_count": 79,
   "metadata": {},
   "outputs": [
    {
     "data": {
      "text/html": [
       "<table>\n",
       "<thead><tr><th></th><th scope=col>No</th><th scope=col>Yes</th></tr></thead>\n",
       "<tbody>\n",
       "\t<tr><th scope=row>4</th><td>0.7881356</td><td>0.2118644</td></tr>\n",
       "\t<tr><th scope=row>8</th><td>0.7881356</td><td>0.2118644</td></tr>\n",
       "\t<tr><th scope=row>17</th><td>0.2315789</td><td>0.7684211</td></tr>\n",
       "\t<tr><th scope=row>19</th><td>0.7881356</td><td>0.2118644</td></tr>\n",
       "\t<tr><th scope=row>20</th><td>0.7881356</td><td>0.2118644</td></tr>\n",
       "\t<tr><th scope=row>23</th><td>0.7881356</td><td>0.2118644</td></tr>\n",
       "\t<tr><th scope=row>26</th><td>0.7881356</td><td>0.2118644</td></tr>\n",
       "\t<tr><th scope=row>29</th><td>0.7881356</td><td>0.2118644</td></tr>\n",
       "\t<tr><th scope=row>31</th><td>0.7881356</td><td>0.2118644</td></tr>\n",
       "\t<tr><th scope=row>36</th><td>0.7881356</td><td>0.2118644</td></tr>\n",
       "\t<tr><th scope=row>37</th><td>0.2315789</td><td>0.7684211</td></tr>\n",
       "\t<tr><th scope=row>39</th><td>0.2315789</td><td>0.7684211</td></tr>\n",
       "\t<tr><th scope=row>40</th><td>0.7881356</td><td>0.2118644</td></tr>\n",
       "\t<tr><th scope=row>41</th><td>0.2315789</td><td>0.7684211</td></tr>\n",
       "\t<tr><th scope=row>47</th><td>0.7881356</td><td>0.2118644</td></tr>\n",
       "\t<tr><th scope=row>49</th><td>0.7881356</td><td>0.2118644</td></tr>\n",
       "\t<tr><th scope=row>52</th><td>0.2315789</td><td>0.7684211</td></tr>\n",
       "\t<tr><th scope=row>54</th><td>0.7881356</td><td>0.2118644</td></tr>\n",
       "\t<tr><th scope=row>55</th><td>0.2315789</td><td>0.7684211</td></tr>\n",
       "\t<tr><th scope=row>58</th><td>0.2315789</td><td>0.7684211</td></tr>\n",
       "\t<tr><th scope=row>61</th><td>0.2315789</td><td>0.7684211</td></tr>\n",
       "\t<tr><th scope=row>69</th><td>0.2315789</td><td>0.7684211</td></tr>\n",
       "\t<tr><th scope=row>74</th><td>0.2315789</td><td>0.7684211</td></tr>\n",
       "\t<tr><th scope=row>79</th><td>0.7881356</td><td>0.2118644</td></tr>\n",
       "\t<tr><th scope=row>80</th><td>0.2315789</td><td>0.7684211</td></tr>\n",
       "\t<tr><th scope=row>90</th><td>0.7881356</td><td>0.2118644</td></tr>\n",
       "\t<tr><th scope=row>92</th><td>0.2315789</td><td>0.7684211</td></tr>\n",
       "\t<tr><th scope=row>96</th><td>0.2315789</td><td>0.7684211</td></tr>\n",
       "\t<tr><th scope=row>97</th><td>0.2315789</td><td>0.7684211</td></tr>\n",
       "\t<tr><th scope=row>98</th><td>0.2315789</td><td>0.7684211</td></tr>\n",
       "\t<tr><th scope=row>...</th><td>...</td><td>...</td></tr>\n",
       "\t<tr><th scope=row>200</th><td>0.7881356</td><td>0.2118644</td></tr>\n",
       "\t<tr><th scope=row>203</th><td>0.2315789</td><td>0.7684211</td></tr>\n",
       "\t<tr><th scope=row>204</th><td>0.2315789</td><td>0.7684211</td></tr>\n",
       "\t<tr><th scope=row>205</th><td>0.2315789</td><td>0.7684211</td></tr>\n",
       "\t<tr><th scope=row>206</th><td>0.2315789</td><td>0.7684211</td></tr>\n",
       "\t<tr><th scope=row>208</th><td>0.2315789</td><td>0.7684211</td></tr>\n",
       "\t<tr><th scope=row>209</th><td>0.7881356</td><td>0.2118644</td></tr>\n",
       "\t<tr><th scope=row>211</th><td>0.7881356</td><td>0.2118644</td></tr>\n",
       "\t<tr><th scope=row>213</th><td>0.7881356</td><td>0.2118644</td></tr>\n",
       "\t<tr><th scope=row>217</th><td>0.7881356</td><td>0.2118644</td></tr>\n",
       "\t<tr><th scope=row>220</th><td>0.7881356</td><td>0.2118644</td></tr>\n",
       "\t<tr><th scope=row>224</th><td>0.2315789</td><td>0.7684211</td></tr>\n",
       "\t<tr><th scope=row>225</th><td>0.7881356</td><td>0.2118644</td></tr>\n",
       "\t<tr><th scope=row>228</th><td>0.7881356</td><td>0.2118644</td></tr>\n",
       "\t<tr><th scope=row>230</th><td>0.7881356</td><td>0.2118644</td></tr>\n",
       "\t<tr><th scope=row>236</th><td>0.7881356</td><td>0.2118644</td></tr>\n",
       "\t<tr><th scope=row>245</th><td>0.7881356</td><td>0.2118644</td></tr>\n",
       "\t<tr><th scope=row>248</th><td>0.7881356</td><td>0.2118644</td></tr>\n",
       "\t<tr><th scope=row>251</th><td>0.2315789</td><td>0.7684211</td></tr>\n",
       "\t<tr><th scope=row>263</th><td>0.7881356</td><td>0.2118644</td></tr>\n",
       "\t<tr><th scope=row>277</th><td>0.7881356</td><td>0.2118644</td></tr>\n",
       "\t<tr><th scope=row>282</th><td>0.7881356</td><td>0.2118644</td></tr>\n",
       "\t<tr><th scope=row>285</th><td>0.2315789</td><td>0.7684211</td></tr>\n",
       "\t<tr><th scope=row>287</th><td>0.2315789</td><td>0.7684211</td></tr>\n",
       "\t<tr><th scope=row>290</th><td>0.7881356</td><td>0.2118644</td></tr>\n",
       "\t<tr><th scope=row>297</th><td>0.2315789</td><td>0.7684211</td></tr>\n",
       "\t<tr><th scope=row>298</th><td>0.2315789</td><td>0.7684211</td></tr>\n",
       "\t<tr><th scope=row>300</th><td>0.2315789</td><td>0.7684211</td></tr>\n",
       "\t<tr><th scope=row>301</th><td>0.2315789</td><td>0.7684211</td></tr>\n",
       "\t<tr><th scope=row>302</th><td>0.7881356</td><td>0.2118644</td></tr>\n",
       "</tbody>\n",
       "</table>\n"
      ],
      "text/latex": [
       "\\begin{tabular}{r|ll}\n",
       "  & No & Yes\\\\\n",
       "\\hline\n",
       "\t4 & 0.7881356 & 0.2118644\\\\\n",
       "\t8 & 0.7881356 & 0.2118644\\\\\n",
       "\t17 & 0.2315789 & 0.7684211\\\\\n",
       "\t19 & 0.7881356 & 0.2118644\\\\\n",
       "\t20 & 0.7881356 & 0.2118644\\\\\n",
       "\t23 & 0.7881356 & 0.2118644\\\\\n",
       "\t26 & 0.7881356 & 0.2118644\\\\\n",
       "\t29 & 0.7881356 & 0.2118644\\\\\n",
       "\t31 & 0.7881356 & 0.2118644\\\\\n",
       "\t36 & 0.7881356 & 0.2118644\\\\\n",
       "\t37 & 0.2315789 & 0.7684211\\\\\n",
       "\t39 & 0.2315789 & 0.7684211\\\\\n",
       "\t40 & 0.7881356 & 0.2118644\\\\\n",
       "\t41 & 0.2315789 & 0.7684211\\\\\n",
       "\t47 & 0.7881356 & 0.2118644\\\\\n",
       "\t49 & 0.7881356 & 0.2118644\\\\\n",
       "\t52 & 0.2315789 & 0.7684211\\\\\n",
       "\t54 & 0.7881356 & 0.2118644\\\\\n",
       "\t55 & 0.2315789 & 0.7684211\\\\\n",
       "\t58 & 0.2315789 & 0.7684211\\\\\n",
       "\t61 & 0.2315789 & 0.7684211\\\\\n",
       "\t69 & 0.2315789 & 0.7684211\\\\\n",
       "\t74 & 0.2315789 & 0.7684211\\\\\n",
       "\t79 & 0.7881356 & 0.2118644\\\\\n",
       "\t80 & 0.2315789 & 0.7684211\\\\\n",
       "\t90 & 0.7881356 & 0.2118644\\\\\n",
       "\t92 & 0.2315789 & 0.7684211\\\\\n",
       "\t96 & 0.2315789 & 0.7684211\\\\\n",
       "\t97 & 0.2315789 & 0.7684211\\\\\n",
       "\t98 & 0.2315789 & 0.7684211\\\\\n",
       "\t... & ... & ...\\\\\n",
       "\t200 & 0.7881356 & 0.2118644\\\\\n",
       "\t203 & 0.2315789 & 0.7684211\\\\\n",
       "\t204 & 0.2315789 & 0.7684211\\\\\n",
       "\t205 & 0.2315789 & 0.7684211\\\\\n",
       "\t206 & 0.2315789 & 0.7684211\\\\\n",
       "\t208 & 0.2315789 & 0.7684211\\\\\n",
       "\t209 & 0.7881356 & 0.2118644\\\\\n",
       "\t211 & 0.7881356 & 0.2118644\\\\\n",
       "\t213 & 0.7881356 & 0.2118644\\\\\n",
       "\t217 & 0.7881356 & 0.2118644\\\\\n",
       "\t220 & 0.7881356 & 0.2118644\\\\\n",
       "\t224 & 0.2315789 & 0.7684211\\\\\n",
       "\t225 & 0.7881356 & 0.2118644\\\\\n",
       "\t228 & 0.7881356 & 0.2118644\\\\\n",
       "\t230 & 0.7881356 & 0.2118644\\\\\n",
       "\t236 & 0.7881356 & 0.2118644\\\\\n",
       "\t245 & 0.7881356 & 0.2118644\\\\\n",
       "\t248 & 0.7881356 & 0.2118644\\\\\n",
       "\t251 & 0.2315789 & 0.7684211\\\\\n",
       "\t263 & 0.7881356 & 0.2118644\\\\\n",
       "\t277 & 0.7881356 & 0.2118644\\\\\n",
       "\t282 & 0.7881356 & 0.2118644\\\\\n",
       "\t285 & 0.2315789 & 0.7684211\\\\\n",
       "\t287 & 0.2315789 & 0.7684211\\\\\n",
       "\t290 & 0.7881356 & 0.2118644\\\\\n",
       "\t297 & 0.2315789 & 0.7684211\\\\\n",
       "\t298 & 0.2315789 & 0.7684211\\\\\n",
       "\t300 & 0.2315789 & 0.7684211\\\\\n",
       "\t301 & 0.2315789 & 0.7684211\\\\\n",
       "\t302 & 0.7881356 & 0.2118644\\\\\n",
       "\\end{tabular}\n"
      ],
      "text/markdown": [
       "\n",
       "| <!--/--> | No | Yes |\n",
       "|---|---|---|\n",
       "| 4 | 0.7881356 | 0.2118644 |\n",
       "| 8 | 0.7881356 | 0.2118644 |\n",
       "| 17 | 0.2315789 | 0.7684211 |\n",
       "| 19 | 0.7881356 | 0.2118644 |\n",
       "| 20 | 0.7881356 | 0.2118644 |\n",
       "| 23 | 0.7881356 | 0.2118644 |\n",
       "| 26 | 0.7881356 | 0.2118644 |\n",
       "| 29 | 0.7881356 | 0.2118644 |\n",
       "| 31 | 0.7881356 | 0.2118644 |\n",
       "| 36 | 0.7881356 | 0.2118644 |\n",
       "| 37 | 0.2315789 | 0.7684211 |\n",
       "| 39 | 0.2315789 | 0.7684211 |\n",
       "| 40 | 0.7881356 | 0.2118644 |\n",
       "| 41 | 0.2315789 | 0.7684211 |\n",
       "| 47 | 0.7881356 | 0.2118644 |\n",
       "| 49 | 0.7881356 | 0.2118644 |\n",
       "| 52 | 0.2315789 | 0.7684211 |\n",
       "| 54 | 0.7881356 | 0.2118644 |\n",
       "| 55 | 0.2315789 | 0.7684211 |\n",
       "| 58 | 0.2315789 | 0.7684211 |\n",
       "| 61 | 0.2315789 | 0.7684211 |\n",
       "| 69 | 0.2315789 | 0.7684211 |\n",
       "| 74 | 0.2315789 | 0.7684211 |\n",
       "| 79 | 0.7881356 | 0.2118644 |\n",
       "| 80 | 0.2315789 | 0.7684211 |\n",
       "| 90 | 0.7881356 | 0.2118644 |\n",
       "| 92 | 0.2315789 | 0.7684211 |\n",
       "| 96 | 0.2315789 | 0.7684211 |\n",
       "| 97 | 0.2315789 | 0.7684211 |\n",
       "| 98 | 0.2315789 | 0.7684211 |\n",
       "| ... | ... | ... |\n",
       "| 200 | 0.7881356 | 0.2118644 |\n",
       "| 203 | 0.2315789 | 0.7684211 |\n",
       "| 204 | 0.2315789 | 0.7684211 |\n",
       "| 205 | 0.2315789 | 0.7684211 |\n",
       "| 206 | 0.2315789 | 0.7684211 |\n",
       "| 208 | 0.2315789 | 0.7684211 |\n",
       "| 209 | 0.7881356 | 0.2118644 |\n",
       "| 211 | 0.7881356 | 0.2118644 |\n",
       "| 213 | 0.7881356 | 0.2118644 |\n",
       "| 217 | 0.7881356 | 0.2118644 |\n",
       "| 220 | 0.7881356 | 0.2118644 |\n",
       "| 224 | 0.2315789 | 0.7684211 |\n",
       "| 225 | 0.7881356 | 0.2118644 |\n",
       "| 228 | 0.7881356 | 0.2118644 |\n",
       "| 230 | 0.7881356 | 0.2118644 |\n",
       "| 236 | 0.7881356 | 0.2118644 |\n",
       "| 245 | 0.7881356 | 0.2118644 |\n",
       "| 248 | 0.7881356 | 0.2118644 |\n",
       "| 251 | 0.2315789 | 0.7684211 |\n",
       "| 263 | 0.7881356 | 0.2118644 |\n",
       "| 277 | 0.7881356 | 0.2118644 |\n",
       "| 282 | 0.7881356 | 0.2118644 |\n",
       "| 285 | 0.2315789 | 0.7684211 |\n",
       "| 287 | 0.2315789 | 0.7684211 |\n",
       "| 290 | 0.7881356 | 0.2118644 |\n",
       "| 297 | 0.2315789 | 0.7684211 |\n",
       "| 298 | 0.2315789 | 0.7684211 |\n",
       "| 300 | 0.2315789 | 0.7684211 |\n",
       "| 301 | 0.2315789 | 0.7684211 |\n",
       "| 302 | 0.7881356 | 0.2118644 |\n",
       "\n"
      ],
      "text/plain": [
       "    No        Yes      \n",
       "4   0.7881356 0.2118644\n",
       "8   0.7881356 0.2118644\n",
       "17  0.2315789 0.7684211\n",
       "19  0.7881356 0.2118644\n",
       "20  0.7881356 0.2118644\n",
       "23  0.7881356 0.2118644\n",
       "26  0.7881356 0.2118644\n",
       "29  0.7881356 0.2118644\n",
       "31  0.7881356 0.2118644\n",
       "36  0.7881356 0.2118644\n",
       "37  0.2315789 0.7684211\n",
       "39  0.2315789 0.7684211\n",
       "40  0.7881356 0.2118644\n",
       "41  0.2315789 0.7684211\n",
       "47  0.7881356 0.2118644\n",
       "49  0.7881356 0.2118644\n",
       "52  0.2315789 0.7684211\n",
       "54  0.7881356 0.2118644\n",
       "55  0.2315789 0.7684211\n",
       "58  0.2315789 0.7684211\n",
       "61  0.2315789 0.7684211\n",
       "69  0.2315789 0.7684211\n",
       "74  0.2315789 0.7684211\n",
       "79  0.7881356 0.2118644\n",
       "80  0.2315789 0.7684211\n",
       "90  0.7881356 0.2118644\n",
       "92  0.2315789 0.7684211\n",
       "96  0.2315789 0.7684211\n",
       "97  0.2315789 0.7684211\n",
       "98  0.2315789 0.7684211\n",
       "... ...       ...      \n",
       "200 0.7881356 0.2118644\n",
       "203 0.2315789 0.7684211\n",
       "204 0.2315789 0.7684211\n",
       "205 0.2315789 0.7684211\n",
       "206 0.2315789 0.7684211\n",
       "208 0.2315789 0.7684211\n",
       "209 0.7881356 0.2118644\n",
       "211 0.7881356 0.2118644\n",
       "213 0.7881356 0.2118644\n",
       "217 0.7881356 0.2118644\n",
       "220 0.7881356 0.2118644\n",
       "224 0.2315789 0.7684211\n",
       "225 0.7881356 0.2118644\n",
       "228 0.7881356 0.2118644\n",
       "230 0.7881356 0.2118644\n",
       "236 0.7881356 0.2118644\n",
       "245 0.7881356 0.2118644\n",
       "248 0.7881356 0.2118644\n",
       "251 0.2315789 0.7684211\n",
       "263 0.7881356 0.2118644\n",
       "277 0.7881356 0.2118644\n",
       "282 0.7881356 0.2118644\n",
       "285 0.2315789 0.7684211\n",
       "287 0.2315789 0.7684211\n",
       "290 0.7881356 0.2118644\n",
       "297 0.2315789 0.7684211\n",
       "298 0.2315789 0.7684211\n",
       "300 0.2315789 0.7684211\n",
       "301 0.2315789 0.7684211\n",
       "302 0.7881356 0.2118644"
      ]
     },
     "metadata": {},
     "output_type": "display_data"
    },
    {
     "data": {
      "image/png": "[encoded data removed]",
      "text/plain": [
       "plot without title"
      ]
     },
     "metadata": {},
     "output_type": "display_data"
    }
   ],
   "source": [
    "library(ROCR)\n",
    "pred_rpart_prob <- predict(prune_rpart, heart.test, type='prob')\n",
    "out_rpart_prob <- heart.test\n",
    "out_rpart_prob$prob <- pred_rpart_prob\n",
    "out_rpart_prob$prob\n",
    "d_r <- prediction(out_rpart_prob$prob[,2], out_rpart_prob$ahd)\n",
    "plot(performance(d_r, \"tpr\", \"fpr\"))"
   ]
  },
  {
   "cell_type": "code",
   "execution_count": 80,
   "metadata": {},
   "outputs": [
    {
     "data": {
      "text/plain": [
       "An object of class \"performance\"\n",
       "Slot \"x.name\":\n",
       "[1] \"None\"\n",
       "\n",
       "Slot \"y.name\":\n",
       "[1] \"Area under the ROC curve\"\n",
       "\n",
       "Slot \"alpha.name\":\n",
       "[1] \"none\"\n",
       "\n",
       "Slot \"x.values\":\n",
       "list()\n",
       "\n",
       "Slot \"y.values\":\n",
       "[[1]]\n",
       "[1] 0.7312096\n",
       "\n",
       "\n",
       "Slot \"alpha.values\":\n",
       "list()\n"
      ]
     },
     "metadata": {},
     "output_type": "display_data"
    }
   ],
   "source": [
    "performance(d_r, \"auc\")"
   ]
  },
  {
   "cell_type": "code",
   "execution_count": 81,
   "metadata": {},
   "outputs": [
    {
     "data": {
      "image/png": "[encoded data removed]",
      "text/plain": [
       "plot without title"
      ]
     },
     "metadata": {},
     "output_type": "display_data"
    }
   ],
   "source": [
    "d_lift <- performance(d_r, \"lift\", \"rpp\")\n",
    "plot(d_lift)"
   ]
  },
  {
   "cell_type": "markdown",
   "metadata": {},
   "source": [
    "# Classification - ctree"
   ]
  },
  {
   "cell_type": "code",
   "execution_count": 82,
   "metadata": {},
   "outputs": [
    {
     "data": {
      "image/png": "[encoded data removed]",
      "text/plain": [
       "plot without title"
      ]
     },
     "metadata": {},
     "output_type": "display_data"
    }
   ],
   "source": [
    "library(party)\n",
    "m_ctree <- ctree(ahd ~ ., data = heart.train)\n",
    "plot(m_ctree)"
   ]
  },
  {
   "cell_type": "code",
   "execution_count": 83,
   "metadata": {},
   "outputs": [],
   "source": [
    "pred_ctree <- predict(m_ctree, heart.test)"
   ]
  },
  {
   "cell_type": "code",
   "execution_count": 84,
   "metadata": {},
   "outputs": [
    {
     "data": {
      "text/plain": [
       "Confusion Matrix and Statistics\n",
       "\n",
       "          Reference\n",
       "Prediction No Yes\n",
       "       No  39   8\n",
       "       Yes 10  33\n",
       "                                          \n",
       "               Accuracy : 0.8             \n",
       "                 95% CI : (0.7025, 0.8769)\n",
       "    No Information Rate : 0.5444          \n",
       "    P-Value [Acc > NIR] : 3.697e-07       \n",
       "                                          \n",
       "                  Kappa : 0.5984          \n",
       "                                          \n",
       " Mcnemar's Test P-Value : 0.8137          \n",
       "                                          \n",
       "            Sensitivity : 0.7959          \n",
       "            Specificity : 0.8049          \n",
       "         Pos Pred Value : 0.8298          \n",
       "         Neg Pred Value : 0.7674          \n",
       "             Prevalence : 0.5444          \n",
       "         Detection Rate : 0.4333          \n",
       "   Detection Prevalence : 0.5222          \n",
       "      Balanced Accuracy : 0.8004          \n",
       "                                          \n",
       "       'Positive' Class : No              \n",
       "                                          "
      ]
     },
     "metadata": {},
     "output_type": "display_data"
    }
   ],
   "source": [
    "confusionMatrix(pred_ctree, heart.test$ahd)"
   ]
  },
  {
   "cell_type": "markdown",
   "metadata": {},
   "source": [
    "# Classification - random forest"
   ]
  },
  {
   "cell_type": "code",
   "execution_count": 85,
   "metadata": {},
   "outputs": [
    {
     "data": {
      "text/html": [
       "<table>\n",
       "<thead><tr><th></th><th scope=col>x</th><th scope=col>age</th><th scope=col>sex</th><th scope=col>chestpain</th><th scope=col>restbp</th><th scope=col>chol</th><th scope=col>fbs</th><th scope=col>restecg</th><th scope=col>maxhr</th><th scope=col>exang</th><th scope=col>oldpeak</th><th scope=col>slope</th><th scope=col>ca</th><th scope=col>thal</th><th scope=col>ahd</th><th scope=col>slop</th></tr></thead>\n",
       "<tbody>\n",
       "\t<tr><th scope=row>88</th><td> 88         </td><td>53          </td><td>0           </td><td>nonanginal  </td><td>128         </td><td>216         </td><td>0           </td><td>2           </td><td>115         </td><td>0           </td><td>0.0         </td><td>1           </td><td>0           </td><td>NA          </td><td>No          </td><td>1           </td></tr>\n",
       "\t<tr><th scope=row>167</th><td>167         </td><td>52          </td><td>1           </td><td>nonanginal  </td><td>138         </td><td>223         </td><td>0           </td><td>0           </td><td>169         </td><td>0           </td><td>0.0         </td><td>1           </td><td>NA          </td><td>normal      </td><td>No          </td><td>1           </td></tr>\n",
       "\t<tr><th scope=row>193</th><td>193         </td><td>43          </td><td>1           </td><td>asymptomatic</td><td>132         </td><td>247         </td><td>1           </td><td>2           </td><td>143         </td><td>1           </td><td>0.1         </td><td>2           </td><td>NA          </td><td>reversable  </td><td>Yes         </td><td>2           </td></tr>\n",
       "\t<tr><th scope=row>267</th><td>267         </td><td>52          </td><td>1           </td><td>asymptomatic</td><td>128         </td><td>204         </td><td>1           </td><td>0           </td><td>156         </td><td>1           </td><td>1.0         </td><td>2           </td><td>0           </td><td>NA          </td><td>Yes         </td><td>2           </td></tr>\n",
       "\t<tr><th scope=row>288</th><td>288         </td><td>58          </td><td>1           </td><td>nontypical  </td><td>125         </td><td>220         </td><td>0           </td><td>0           </td><td>144         </td><td>0           </td><td>0.4         </td><td>2           </td><td>NA          </td><td>reversable  </td><td>No          </td><td>2           </td></tr>\n",
       "\t<tr><th scope=row>303</th><td>303         </td><td>38          </td><td>1           </td><td>nonanginal  </td><td>138         </td><td>175         </td><td>0           </td><td>0           </td><td>173         </td><td>0           </td><td>0.0         </td><td>1           </td><td>NA          </td><td>normal      </td><td>No          </td><td>1           </td></tr>\n",
       "</tbody>\n",
       "</table>\n"
      ],
      "text/latex": [
       "\\begin{tabular}{r|llllllllllllllll}\n",
       "  & x & age & sex & chestpain & restbp & chol & fbs & restecg & maxhr & exang & oldpeak & slope & ca & thal & ahd & slop\\\\\n",
       "\\hline\n",
       "\t88 &  88          & 53           & 0            & nonanginal   & 128          & 216          & 0            & 2            & 115          & 0            & 0.0          & 1            & 0            & NA           & No           & 1           \\\\\n",
       "\t167 & 167          & 52           & 1            & nonanginal   & 138          & 223          & 0            & 0            & 169          & 0            & 0.0          & 1            & NA           & normal       & No           & 1           \\\\\n",
       "\t193 & 193          & 43           & 1            & asymptomatic & 132          & 247          & 1            & 2            & 143          & 1            & 0.1          & 2            & NA           & reversable   & Yes          & 2           \\\\\n",
       "\t267 & 267          & 52           & 1            & asymptomatic & 128          & 204          & 1            & 0            & 156          & 1            & 1.0          & 2            & 0            & NA           & Yes          & 2           \\\\\n",
       "\t288 & 288          & 58           & 1            & nontypical   & 125          & 220          & 0            & 0            & 144          & 0            & 0.4          & 2            & NA           & reversable   & No           & 2           \\\\\n",
       "\t303 & 303          & 38           & 1            & nonanginal   & 138          & 175          & 0            & 0            & 173          & 0            & 0.0          & 1            & NA           & normal       & No           & 1           \\\\\n",
       "\\end{tabular}\n"
      ],
      "text/markdown": [
       "\n",
       "| <!--/--> | x | age | sex | chestpain | restbp | chol | fbs | restecg | maxhr | exang | oldpeak | slope | ca | thal | ahd | slop |\n",
       "|---|---|---|---|---|---|---|---|---|---|---|---|---|---|---|---|---|\n",
       "| 88 |  88          | 53           | 0            | nonanginal   | 128          | 216          | 0            | 2            | 115          | 0            | 0.0          | 1            | 0            | NA           | No           | 1            |\n",
       "| 167 | 167          | 52           | 1            | nonanginal   | 138          | 223          | 0            | 0            | 169          | 0            | 0.0          | 1            | NA           | normal       | No           | 1            |\n",
       "| 193 | 193          | 43           | 1            | asymptomatic | 132          | 247          | 1            | 2            | 143          | 1            | 0.1          | 2            | NA           | reversable   | Yes          | 2            |\n",
       "| 267 | 267          | 52           | 1            | asymptomatic | 128          | 204          | 1            | 0            | 156          | 1            | 1.0          | 2            | 0            | NA           | Yes          | 2            |\n",
       "| 288 | 288          | 58           | 1            | nontypical   | 125          | 220          | 0            | 0            | 144          | 0            | 0.4          | 2            | NA           | reversable   | No           | 2            |\n",
       "| 303 | 303          | 38           | 1            | nonanginal   | 138          | 175          | 0            | 0            | 173          | 0            | 0.0          | 1            | NA           | normal       | No           | 1            |\n",
       "\n"
      ],
      "text/plain": [
       "    x   age sex chestpain    restbp chol fbs restecg maxhr exang oldpeak slope\n",
       "88   88 53  0   nonanginal   128    216  0   2       115   0     0.0     1    \n",
       "167 167 52  1   nonanginal   138    223  0   0       169   0     0.0     1    \n",
       "193 193 43  1   asymptomatic 132    247  1   2       143   1     0.1     2    \n",
       "267 267 52  1   asymptomatic 128    204  1   0       156   1     1.0     2    \n",
       "288 288 58  1   nontypical   125    220  0   0       144   0     0.4     2    \n",
       "303 303 38  1   nonanginal   138    175  0   0       173   0     0.0     1    \n",
       "    ca thal       ahd slop\n",
       "88  0  NA         No  1   \n",
       "167 NA normal     No  1   \n",
       "193 NA reversable Yes 2   \n",
       "267 0  NA         Yes 2   \n",
       "288 NA reversable No  2   \n",
       "303 NA normal     No  1   "
      ]
     },
     "metadata": {},
     "output_type": "display_data"
    }
   ],
   "source": [
    "heart[!complete.cases(heart), ]"
   ]
  },
  {
   "cell_type": "code",
   "execution_count": 86,
   "metadata": {},
   "outputs": [],
   "source": [
    "rfheart <- heart[complete.cases(heart), ]"
   ]
  },
  {
   "cell_type": "code",
   "execution_count": 87,
   "metadata": {},
   "outputs": [],
   "source": [
    "library(caret)\n",
    "set.seed(137)\n",
    "idx <- createDataPartition(rfheart$ahd, p = 0.7)$Resample1\n",
    "rfheart.train <- rfheart[idx, ]\n",
    "rfheart.test <- rfheart[-idx, ]"
   ]
  },
  {
   "cell_type": "code",
   "execution_count": 88,
   "metadata": {},
   "outputs": [
    {
     "data": {
      "text/plain": [
       "\n",
       "Call:\n",
       " randomForest(formula = ahd ~ ., data = rfheart.train, ntree = 500,      proximity = TRUE, importance = TRUE) \n",
       "               Type of random forest: classification\n",
       "                     Number of trees: 500\n",
       "No. of variables tried at each split: 3\n",
       "\n",
       "        OOB estimate of  error rate: 18.75%\n",
       "Confusion matrix:\n",
       "    No Yes class.error\n",
       "No  97  15   0.1339286\n",
       "Yes 24  72   0.2500000"
      ]
     },
     "metadata": {},
     "output_type": "display_data"
    }
   ],
   "source": [
    "library(randomForest)\n",
    "m_rf <- randomForest(ahd ~ ., data = rfheart.train, ntree = 500, proximity = TRUE, importance = TRUE)\n",
    "m_rf"
   ]
  },
  {
   "cell_type": "code",
   "execution_count": 89,
   "metadata": {},
   "outputs": [
    {
     "data": {
      "image/png": "[encoded data removed]",
      "text/plain": [
       "Plot with title \"m_rf\""
      ]
     },
     "metadata": {},
     "output_type": "display_data"
    }
   ],
   "source": [
    "plot(m_rf)"
   ]
  },
  {
   "cell_type": "code",
   "execution_count": 94,
   "metadata": {},
   "outputs": [
    {
     "data": {
      "text/html": [
       "<table>\n",
       "<thead><tr><th></th><th scope=col>No</th><th scope=col>Yes</th><th scope=col>MeanDecreaseAccuracy</th><th scope=col>MeanDecreaseGini</th></tr></thead>\n",
       "<tbody>\n",
       "\t<tr><th scope=row>x</th><td> 0.20534560</td><td>-0.3123435 </td><td>-0.1365999 </td><td> 6.8408632 </td></tr>\n",
       "\t<tr><th scope=row>age</th><td> 3.18441067</td><td> 1.6333929 </td><td> 3.2625873 </td><td> 7.6145854 </td></tr>\n",
       "\t<tr><th scope=row>sex</th><td>10.23994043</td><td> 8.8206696 </td><td>13.5515877 </td><td> 4.3115829 </td></tr>\n",
       "\t<tr><th scope=row>chestpain</th><td> 9.26279778</td><td>12.9992543 </td><td>14.7443162 </td><td> 9.8410664 </td></tr>\n",
       "\t<tr><th scope=row>restbp</th><td> 4.58047494</td><td> 3.2744574 </td><td> 5.5837952 </td><td> 6.8206160 </td></tr>\n",
       "\t<tr><th scope=row>chol</th><td>-1.57313712</td><td>-0.5956864 </td><td>-1.5156589 </td><td> 7.1042068 </td></tr>\n",
       "\t<tr><th scope=row>fbs</th><td> 0.05699544</td><td>-2.1466626 </td><td>-1.5660745 </td><td> 0.7362595 </td></tr>\n",
       "\t<tr><th scope=row>restecg</th><td> 1.44371618</td><td>-0.3797432 </td><td> 0.6834403 </td><td> 2.0678356 </td></tr>\n",
       "\t<tr><th scope=row>maxhr</th><td> 2.24412401</td><td> 3.6594176 </td><td> 4.2775513 </td><td> 9.3438494 </td></tr>\n",
       "\t<tr><th scope=row>exang</th><td> 6.63716918</td><td> 8.9538951 </td><td>10.2441834 </td><td> 4.8361849 </td></tr>\n",
       "\t<tr><th scope=row>oldpeak</th><td> 8.60556870</td><td>11.4645537 </td><td>14.9467627 </td><td>10.0739976 </td></tr>\n",
       "\t<tr><th scope=row>slope</th><td> 2.97993714</td><td> 8.3361148 </td><td> 7.9227749 </td><td> 3.7679244 </td></tr>\n",
       "\t<tr><th scope=row>ca</th><td>16.43717069</td><td>15.2967515 </td><td>21.0088083 </td><td>12.4077804 </td></tr>\n",
       "\t<tr><th scope=row>thal</th><td>16.53715958</td><td>14.3562147 </td><td>19.9337420 </td><td>12.2049979 </td></tr>\n",
       "\t<tr><th scope=row>slop</th><td> 1.72275051</td><td> 8.9914148 </td><td> 8.2050748 </td><td> 3.9139589 </td></tr>\n",
       "</tbody>\n",
       "</table>\n"
      ],
      "text/latex": [
       "\\begin{tabular}{r|llll}\n",
       "  & No & Yes & MeanDecreaseAccuracy & MeanDecreaseGini\\\\\n",
       "\\hline\n",
       "\tx &  0.20534560 & -0.3123435  & -0.1365999  &  6.8408632 \\\\\n",
       "\tage &  3.18441067 &  1.6333929  &  3.2625873  &  7.6145854 \\\\\n",
       "\tsex & 10.23994043 &  8.8206696  & 13.5515877  &  4.3115829 \\\\\n",
       "\tchestpain &  9.26279778 & 12.9992543  & 14.7443162  &  9.8410664 \\\\\n",
       "\trestbp &  4.58047494 &  3.2744574  &  5.5837952  &  6.8206160 \\\\\n",
       "\tchol & -1.57313712 & -0.5956864  & -1.5156589  &  7.1042068 \\\\\n",
       "\tfbs &  0.05699544 & -2.1466626  & -1.5660745  &  0.7362595 \\\\\n",
       "\trestecg &  1.44371618 & -0.3797432  &  0.6834403  &  2.0678356 \\\\\n",
       "\tmaxhr &  2.24412401 &  3.6594176  &  4.2775513  &  9.3438494 \\\\\n",
       "\texang &  6.63716918 &  8.9538951  & 10.2441834  &  4.8361849 \\\\\n",
       "\toldpeak &  8.60556870 & 11.4645537  & 14.9467627  & 10.0739976 \\\\\n",
       "\tslope &  2.97993714 &  8.3361148  &  7.9227749  &  3.7679244 \\\\\n",
       "\tca & 16.43717069 & 15.2967515  & 21.0088083  & 12.4077804 \\\\\n",
       "\tthal & 16.53715958 & 14.3562147  & 19.9337420  & 12.2049979 \\\\\n",
       "\tslop &  1.72275051 &  8.9914148  &  8.2050748  &  3.9139589 \\\\\n",
       "\\end{tabular}\n"
      ],
      "text/markdown": [
       "\n",
       "| <!--/--> | No | Yes | MeanDecreaseAccuracy | MeanDecreaseGini |\n",
       "|---|---|---|---|---|\n",
       "| x |  0.20534560 | -0.3123435  | -0.1365999  |  6.8408632  |\n",
       "| age |  3.18441067 |  1.6333929  |  3.2625873  |  7.6145854  |\n",
       "| sex | 10.23994043 |  8.8206696  | 13.5515877  |  4.3115829  |\n",
       "| chestpain |  9.26279778 | 12.9992543  | 14.7443162  |  9.8410664  |\n",
       "| restbp |  4.58047494 |  3.2744574  |  5.5837952  |  6.8206160  |\n",
       "| chol | -1.57313712 | -0.5956864  | -1.5156589  |  7.1042068  |\n",
       "| fbs |  0.05699544 | -2.1466626  | -1.5660745  |  0.7362595  |\n",
       "| restecg |  1.44371618 | -0.3797432  |  0.6834403  |  2.0678356  |\n",
       "| maxhr |  2.24412401 |  3.6594176  |  4.2775513  |  9.3438494  |\n",
       "| exang |  6.63716918 |  8.9538951  | 10.2441834  |  4.8361849  |\n",
       "| oldpeak |  8.60556870 | 11.4645537  | 14.9467627  | 10.0739976  |\n",
       "| slope |  2.97993714 |  8.3361148  |  7.9227749  |  3.7679244  |\n",
       "| ca | 16.43717069 | 15.2967515  | 21.0088083  | 12.4077804  |\n",
       "| thal | 16.53715958 | 14.3562147  | 19.9337420  | 12.2049979  |\n",
       "| slop |  1.72275051 |  8.9914148  |  8.2050748  |  3.9139589  |\n",
       "\n"
      ],
      "text/plain": [
       "          No          Yes        MeanDecreaseAccuracy MeanDecreaseGini\n",
       "x          0.20534560 -0.3123435 -0.1365999            6.8408632      \n",
       "age        3.18441067  1.6333929  3.2625873            7.6145854      \n",
       "sex       10.23994043  8.8206696 13.5515877            4.3115829      \n",
       "chestpain  9.26279778 12.9992543 14.7443162            9.8410664      \n",
       "restbp     4.58047494  3.2744574  5.5837952            6.8206160      \n",
       "chol      -1.57313712 -0.5956864 -1.5156589            7.1042068      \n",
       "fbs        0.05699544 -2.1466626 -1.5660745            0.7362595      \n",
       "restecg    1.44371618 -0.3797432  0.6834403            2.0678356      \n",
       "maxhr      2.24412401  3.6594176  4.2775513            9.3438494      \n",
       "exang      6.63716918  8.9538951 10.2441834            4.8361849      \n",
       "oldpeak    8.60556870 11.4645537 14.9467627           10.0739976      \n",
       "slope      2.97993714  8.3361148  7.9227749            3.7679244      \n",
       "ca        16.43717069 15.2967515 21.0088083           12.4077804      \n",
       "thal      16.53715958 14.3562147 19.9337420           12.2049979      \n",
       "slop       1.72275051  8.9914148  8.2050748            3.9139589      "
      ]
     },
     "metadata": {},
     "output_type": "display_data"
    }
   ],
   "source": [
    "importance(m_rf)"
   ]
  },
  {
   "cell_type": "code",
   "execution_count": 95,
   "metadata": {},
   "outputs": [
    {
     "data": {
      "image/png": "[encoded data removed]",
      "text/plain": [
       "plot without title"
      ]
     },
     "metadata": {},
     "output_type": "display_data"
    }
   ],
   "source": [
    "varImpPlot(m_rf)"
   ]
  },
  {
   "cell_type": "code",
   "execution_count": 96,
   "metadata": {},
   "outputs": [],
   "source": [
    "pred_rf <- predict(m_rf, rfheart.test)"
   ]
  },
  {
   "cell_type": "code",
   "execution_count": 97,
   "metadata": {},
   "outputs": [
    {
     "data": {
      "text/plain": [
       "Confusion Matrix and Statistics\n",
       "\n",
       "          Reference\n",
       "Prediction No Yes\n",
       "       No  46   9\n",
       "       Yes  2  32\n",
       "                                          \n",
       "               Accuracy : 0.8764          \n",
       "                 95% CI : (0.7896, 0.9367)\n",
       "    No Information Rate : 0.5393          \n",
       "    P-Value [Acc > NIR] : 1.047e-11       \n",
       "                                          \n",
       "                  Kappa : 0.7481          \n",
       "                                          \n",
       " Mcnemar's Test P-Value : 0.07044         \n",
       "                                          \n",
       "            Sensitivity : 0.9583          \n",
       "            Specificity : 0.7805          \n",
       "         Pos Pred Value : 0.8364          \n",
       "         Neg Pred Value : 0.9412          \n",
       "             Prevalence : 0.5393          \n",
       "         Detection Rate : 0.5169          \n",
       "   Detection Prevalence : 0.6180          \n",
       "      Balanced Accuracy : 0.8694          \n",
       "                                          \n",
       "       'Positive' Class : No              \n",
       "                                          "
      ]
     },
     "metadata": {},
     "output_type": "display_data"
    }
   ],
   "source": [
    "confusionMatrix(pred_rf, rfheart.test$ahd)"
   ]
  },
  {
   "cell_type": "code",
   "execution_count": 90,
   "metadata": {},
   "outputs": [
    {
     "name": "stderr",
     "output_type": "stream",
     "text": [
      "Warning message:\n",
      "\"package 'Epi' is in use and will not be installed\""
     ]
    }
   ],
   "source": [
    "install.packages(\"Epi\")"
   ]
  },
  {
   "cell_type": "code",
   "execution_count": 98,
   "metadata": {},
   "outputs": [
    {
     "name": "stderr",
     "output_type": "stream",
     "text": [
      "Warning message in plot.window(...):\n",
      "\"\"pilot\"는 그래픽 매개변수가 아닙니다\"Warning message in plot.xy(xy, type, ...):\n",
      "\"\"pilot\"는 그래픽 매개변수가 아닙니다\"Warning message in axis(side = side, at = at, labels = labels, ...):\n",
      "\"\"pilot\"는 그래픽 매개변수가 아닙니다\"Warning message in axis(side = side, at = at, labels = labels, ...):\n",
      "\"\"pilot\"는 그래픽 매개변수가 아닙니다\"Warning message in box(...):\n",
      "\"\"pilot\"는 그래픽 매개변수가 아닙니다\"Warning message in title(...):\n",
      "\"\"pilot\"는 그래픽 매개변수가 아닙니다\""
     ]
    },
    {
     "data": {
      "image/png": "[encoded data removed]",
      "text/plain": [
       "plot without title"
      ]
     },
     "metadata": {},
     "output_type": "display_data"
    },
    {
     "data": {
      "image/png": "[encoded data removed]",
      "text/plain": [
       "plot without title"
      ]
     },
     "metadata": {},
     "output_type": "display_data"
    }
   ],
   "source": [
    "library(Epi)\n",
    "rf_ROC <- ROC(form = ahd ~ pred_rf, data = rfheart.test, pilot=\"ROC\")"
   ]
  },
  {
   "cell_type": "code",
   "execution_count": null,
   "metadata": {},
   "outputs": [],
   "source": []
  }
 ],
 "metadata": {
  "kernelspec": {
   "display_name": "R",
   "language": "R",
   "name": "ir"
  },
  "language_info": {
   "codemirror_mode": "r",
   "file_extension": ".r",
   "mimetype": "text/x-r-source",
   "name": "R",
   "pygments_lexer": "r",
   "version": "3.6.1"
  }
 },
 "nbformat": 4,
 "nbformat_minor": 2
}
