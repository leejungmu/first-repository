{
 "cells": [
  {
   "cell_type": "code",
   "execution_count": 36,
   "metadata": {},
   "outputs": [],
   "source": [
    "data <- read.csv(\"D:/DataScience/first-repository/raw_data/dust.csv\", encoding=\"UTF-8\")"
   ]
  },
  {
   "cell_type": "code",
   "execution_count": 37,
   "metadata": {},
   "outputs": [
    {
     "name": "stdout",
     "output_type": "stream",
     "text": [
      "'data.frame':\t600 obs. of  8 variables:\n",
      " $ MSRDT    : num  2.02e+11 2.02e+11 2.02e+11 2.02e+11 2.02e+11 ...\n",
      " $ MSRSTE_NM: Factor w/ 329 levels \"강남구,0.022\",..: 5 7 10 11 14 4 2 14 14 16 ...\n",
      " $ NO2      : num  0.021 0.021 0.018 0.017 0.013 0.027 0.031 0.021 0.018 0.014 ...\n",
      " $ O3       : num  0.6 0.6 0.7 0.7 0.7 0.6 0.6 0.8 0.8 0.8 ...\n",
      " $ CO       : num  0.003 0.003 0.003 0.003 0.003 0.003 0.003 0.003 0.003 0.003 ...\n",
      " $ SO2      : num  38 40 41 45 43 43 41 72 65 60 ...\n",
      " $ PM10     : num  32 31 30 32 33 33 30 54 50 43 ...\n",
      " $ PM25     : num  NA NA NA NA NA NA NA NA NA NA ...\n"
     ]
    }
   ],
   "source": [
    "str(data)"
   ]
  },
  {
   "cell_type": "code",
   "execution_count": 38,
   "metadata": {},
   "outputs": [
    {
     "data": {
      "text/html": [
       "<dl class=dl-horizontal>\n",
       "\t<dt>MSRDT</dt>\n",
       "\t\t<dd>0</dd>\n",
       "\t<dt>MSRSTE_NM</dt>\n",
       "\t\t<dd>0</dd>\n",
       "\t<dt>NO2</dt>\n",
       "\t\t<dd>0</dd>\n",
       "\t<dt>O3</dt>\n",
       "\t\t<dd>0</dd>\n",
       "\t<dt>CO</dt>\n",
       "\t\t<dd>0</dd>\n",
       "\t<dt>SO2</dt>\n",
       "\t\t<dd>0</dd>\n",
       "\t<dt>PM10</dt>\n",
       "\t\t<dd>0</dd>\n",
       "\t<dt>PM25</dt>\n",
       "\t\t<dd>456</dd>\n",
       "</dl>\n"
      ],
      "text/latex": [
       "\\begin{description*}\n",
       "\\item[MSRDT] 0\n",
       "\\item[MSRSTE\\textbackslash{}\\_NM] 0\n",
       "\\item[NO2] 0\n",
       "\\item[O3] 0\n",
       "\\item[CO] 0\n",
       "\\item[SO2] 0\n",
       "\\item[PM10] 0\n",
       "\\item[PM25] 456\n",
       "\\end{description*}\n"
      ],
      "text/markdown": [
       "MSRDT\n",
       ":   0MSRSTE_NM\n",
       ":   0NO2\n",
       ":   0O3\n",
       ":   0CO\n",
       ":   0SO2\n",
       ":   0PM10\n",
       ":   0PM25\n",
       ":   456\n",
       "\n"
      ],
      "text/plain": [
       "    MSRDT MSRSTE_NM       NO2        O3        CO       SO2      PM10      PM25 \n",
       "        0         0         0         0         0         0         0       456 "
      ]
     },
     "metadata": {},
     "output_type": "display_data"
    }
   ],
   "source": [
    "colSums(is.na(data))"
   ]
  },
  {
   "cell_type": "code",
   "execution_count": 39,
   "metadata": {},
   "outputs": [],
   "source": [
    "data.mod <- na.omit(data)"
   ]
  },
  {
   "cell_type": "code",
   "execution_count": 40,
   "metadata": {},
   "outputs": [
    {
     "data": {
      "text/html": [
       "<dl class=dl-horizontal>\n",
       "\t<dt>MSRDT</dt>\n",
       "\t\t<dd>0</dd>\n",
       "\t<dt>MSRSTE_NM</dt>\n",
       "\t\t<dd>0</dd>\n",
       "\t<dt>NO2</dt>\n",
       "\t\t<dd>0</dd>\n",
       "\t<dt>O3</dt>\n",
       "\t\t<dd>0</dd>\n",
       "\t<dt>CO</dt>\n",
       "\t\t<dd>0</dd>\n",
       "\t<dt>SO2</dt>\n",
       "\t\t<dd>0</dd>\n",
       "\t<dt>PM10</dt>\n",
       "\t\t<dd>0</dd>\n",
       "\t<dt>PM25</dt>\n",
       "\t\t<dd>0</dd>\n",
       "</dl>\n"
      ],
      "text/latex": [
       "\\begin{description*}\n",
       "\\item[MSRDT] 0\n",
       "\\item[MSRSTE\\textbackslash{}\\_NM] 0\n",
       "\\item[NO2] 0\n",
       "\\item[O3] 0\n",
       "\\item[CO] 0\n",
       "\\item[SO2] 0\n",
       "\\item[PM10] 0\n",
       "\\item[PM25] 0\n",
       "\\end{description*}\n"
      ],
      "text/markdown": [
       "MSRDT\n",
       ":   0MSRSTE_NM\n",
       ":   0NO2\n",
       ":   0O3\n",
       ":   0CO\n",
       ":   0SO2\n",
       ":   0PM10\n",
       ":   0PM25\n",
       ":   0\n",
       "\n"
      ],
      "text/plain": [
       "    MSRDT MSRSTE_NM       NO2        O3        CO       SO2      PM10      PM25 \n",
       "        0         0         0         0         0         0         0         0 "
      ]
     },
     "metadata": {},
     "output_type": "display_data"
    }
   ],
   "source": [
    "colSums(is.na(data.mod))"
   ]
  },
  {
   "cell_type": "code",
   "execution_count": 41,
   "metadata": {},
   "outputs": [
    {
     "name": "stdout",
     "output_type": "stream",
     "text": [
      "'data.frame':\t144 obs. of  8 variables:\n",
      " $ MSRDT    : num  2.02e+11 2.02e+11 2.02e+11 2.02e+11 2.02e+11 ...\n",
      " $ MSRSTE_NM: Factor w/ 329 levels \"강남구,0.022\",..: 76 76 76 76 76 76 76 76 76 76 ...\n",
      " $ NO2      : num  0.045 0.04 0.046 0.05 0.038 0.043 0.049 0.028 0.034 0.036 ...\n",
      " $ O3       : num  0.007 0.01 0.007 0.007 0.016 0.013 0.012 0.03 0.024 0.019 ...\n",
      " $ CO       : num  0.6 0.7 0.8 0.7 0.7 0.7 0.7 0.8 0.8 0.8 ...\n",
      " $ SO2      : num  0.005 0.003 0.004 0.003 0.004 0.004 0.004 0.004 0.004 0.004 ...\n",
      " $ PM10     : num  38 47 45 45 47 52 50 82 77 64 ...\n",
      " $ PM25     : num  29 33 33 33 35 38 35 62 60 49 ...\n",
      " - attr(*, \"na.action\")= 'omit' Named int  1 2 3 4 5 6 7 8 9 10 ...\n",
      "  ..- attr(*, \"names\")= chr  \"1\" \"2\" \"3\" \"4\" ...\n"
     ]
    }
   ],
   "source": [
    "str(data.mod)"
   ]
  },
  {
   "cell_type": "code",
   "execution_count": 117,
   "metadata": {},
   "outputs": [
    {
     "ename": "ERROR",
     "evalue": "Error in as.Date.numeric(data.mod$MSRDT, format = \"%Y%m%d%H%M\"): 'origin' must be supplied\n",
     "output_type": "error",
     "traceback": [
      "Error in as.Date.numeric(data.mod$MSRDT, format = \"%Y%m%d%H%M\"): 'origin' must be supplied\nTraceback:\n",
      "1. as.Date(data.mod$MSRDT, format = \"%Y%m%d%H%M\")",
      "2. as.Date.numeric(data.mod$MSRDT, format = \"%Y%m%d%H%M\")",
      "3. stop(\"'origin' must be supplied\")"
     ]
    }
   ],
   "source": [
    "data.mod <- data\n",
    "data.mod$MSRDT <- as.Date(data.mod$MSRDT, format= \"%Y%m%d%H%M\")\n",
    "head(data.mod$MSRDT)"
   ]
  },
  {
   "cell_type": "code",
   "execution_count": 116,
   "metadata": {},
   "outputs": [
    {
     "data": {
      "text/html": [
       "<table>\n",
       "<thead><tr><th scope=col>MSRDT</th><th scope=col>MSRSTE_NM</th><th scope=col>NO2</th><th scope=col>O3</th><th scope=col>CO</th><th scope=col>SO2</th><th scope=col>PM10</th><th scope=col>PM25</th></tr></thead>\n",
       "<tbody>\n",
       "\t<tr><td>2.02002e+11 </td><td>강남구,0.028</td><td>0.021       </td><td>0.6         </td><td>0.003       </td><td>38          </td><td>32          </td><td>NA          </td></tr>\n",
       "\t<tr><td>2.02002e+11 </td><td>강남구,0.03 </td><td>0.021       </td><td>0.6         </td><td>0.003       </td><td>40          </td><td>31          </td><td>NA          </td></tr>\n",
       "\t<tr><td>2.02002e+11 </td><td>강남구,0.033</td><td>0.018       </td><td>0.7         </td><td>0.003       </td><td>41          </td><td>30          </td><td>NA          </td></tr>\n",
       "\t<tr><td>2.02002e+11 </td><td>강남구,0.034</td><td>0.017       </td><td>0.7         </td><td>0.003       </td><td>45          </td><td>32          </td><td>NA          </td></tr>\n",
       "\t<tr><td>2.02002e+11 </td><td>강남구,0.041</td><td>0.013       </td><td>0.7         </td><td>0.003       </td><td>43          </td><td>33          </td><td>NA          </td></tr>\n",
       "\t<tr><td>2.02002e+11 </td><td>강남구,0.027</td><td>0.027       </td><td>0.6         </td><td>0.003       </td><td>43          </td><td>33          </td><td>NA          </td></tr>\n",
       "</tbody>\n",
       "</table>\n"
      ],
      "text/latex": [
       "\\begin{tabular}{r|llllllll}\n",
       " MSRDT & MSRSTE\\_NM & NO2 & O3 & CO & SO2 & PM10 & PM25\\\\\n",
       "\\hline\n",
       "\t 2.02002e+11  & 강남구,0.028 & 0.021        & 0.6          & 0.003        & 38           & 32           & NA          \\\\\n",
       "\t 2.02002e+11  & 강남구,0.03  & 0.021        & 0.6          & 0.003        & 40           & 31           & NA          \\\\\n",
       "\t 2.02002e+11  & 강남구,0.033 & 0.018        & 0.7          & 0.003        & 41           & 30           & NA          \\\\\n",
       "\t 2.02002e+11  & 강남구,0.034 & 0.017        & 0.7          & 0.003        & 45           & 32           & NA          \\\\\n",
       "\t 2.02002e+11  & 강남구,0.041 & 0.013        & 0.7          & 0.003        & 43           & 33           & NA          \\\\\n",
       "\t 2.02002e+11  & 강남구,0.027 & 0.027        & 0.6          & 0.003        & 43           & 33           & NA          \\\\\n",
       "\\end{tabular}\n"
      ],
      "text/markdown": [
       "\n",
       "| MSRDT | MSRSTE_NM | NO2 | O3 | CO | SO2 | PM10 | PM25 |\n",
       "|---|---|---|---|---|---|---|---|\n",
       "| 2.02002e+11  | 강남구,0.028 | 0.021        | 0.6          | 0.003        | 38           | 32           | NA           |\n",
       "| 2.02002e+11  | 강남구,0.03  | 0.021        | 0.6          | 0.003        | 40           | 31           | NA           |\n",
       "| 2.02002e+11  | 강남구,0.033 | 0.018        | 0.7          | 0.003        | 41           | 30           | NA           |\n",
       "| 2.02002e+11  | 강남구,0.034 | 0.017        | 0.7          | 0.003        | 45           | 32           | NA           |\n",
       "| 2.02002e+11  | 강남구,0.041 | 0.013        | 0.7          | 0.003        | 43           | 33           | NA           |\n",
       "| 2.02002e+11  | 강남구,0.027 | 0.027        | 0.6          | 0.003        | 43           | 33           | NA           |\n",
       "\n"
      ],
      "text/plain": [
       "  MSRDT       MSRSTE_NM    NO2   O3  CO    SO2 PM10 PM25\n",
       "1 2.02002e+11 강남구,0.028 0.021 0.6 0.003 38  32   NA  \n",
       "2 2.02002e+11 강남구,0.03  0.021 0.6 0.003 40  31   NA  \n",
       "3 2.02002e+11 강남구,0.033 0.018 0.7 0.003 41  30   NA  \n",
       "4 2.02002e+11 강남구,0.034 0.017 0.7 0.003 45  32   NA  \n",
       "5 2.02002e+11 강남구,0.041 0.013 0.7 0.003 43  33   NA  \n",
       "6 2.02002e+11 강남구,0.027 0.027 0.6 0.003 43  33   NA  "
      ]
     },
     "metadata": {},
     "output_type": "display_data"
    }
   ],
   "source": [
    "head(data)"
   ]
  },
  {
   "cell_type": "code",
   "execution_count": 114,
   "metadata": {},
   "outputs": [
    {
     "data": {
      "text/html": [
       "<time datetime=\"2020-02-01\">2020-02-01</time>"
      ],
      "text/latex": [
       "2020-02-01"
      ],
      "text/markdown": [
       "2020-02-01"
      ],
      "text/plain": [
       "[1] \"2020-02-01\""
      ]
     },
     "metadata": {},
     "output_type": "display_data"
    }
   ],
   "source": [
    "as.Date('202002010100', \"%Y%m%d%H%M\")"
   ]
  },
  {
   "cell_type": "code",
   "execution_count": 103,
   "metadata": {},
   "outputs": [
    {
     "name": "stdout",
     "output_type": "stream",
     "text": [
      "'data.frame':\t137 obs. of  8 variables:\n",
      " $ MSRDT    : Date, format: \"-5877641-06-23\" \"-5877641-06-23\" ...\n",
      " $ MSRSTE_NM: num  76 76 76 76 76 76 76 76 76 76 ...\n",
      " $ NO2      : num  0.045 0.04 0.046 0.05 0.038 0.043 0.049 0.028 0.034 0.036 ...\n",
      " $ O3       : num  0.007 0.01 0.007 0.007 0.016 0.013 0.012 0.03 0.024 0.019 ...\n",
      " $ CO       : num  0.6 0.7 0.8 0.7 0.7 0.7 0.7 0.8 0.8 0.8 ...\n",
      " $ SO2      : num  0.005 0.003 0.004 0.003 0.004 0.004 0.004 0.004 0.004 0.004 ...\n",
      " $ PM10     : num  38 47 45 45 47 52 50 82 77 64 ...\n",
      " $ PM25     : num  29 33 33 33 35 38 35 62 60 49 ...\n",
      " - attr(*, \"na.action\")= 'omit' Named int  52 53 54 55 56 71 72\n",
      "  ..- attr(*, \"names\")= chr  \"316\" \"317\" \"318\" \"319\" ...\n"
     ]
    }
   ],
   "source": [
    "str(data.mod)"
   ]
  },
  {
   "cell_type": "code",
   "execution_count": 42,
   "metadata": {},
   "outputs": [
    {
     "data": {
      "text/html": [
       "<table>\n",
       "<tbody>\n",
       "\t<tr><td>0.5</td></tr>\n",
       "\t<tr><td>0.7</td></tr>\n",
       "\t<tr><td>0.9</td></tr>\n",
       "\t<tr><td>1.0</td></tr>\n",
       "\t<tr><td>1.4</td></tr>\n",
       "</tbody>\n",
       "</table>\n"
      ],
      "text/latex": [
       "\\begin{tabular}{l}\n",
       "\t 0.5\\\\\n",
       "\t 0.7\\\\\n",
       "\t 0.9\\\\\n",
       "\t 1.0\\\\\n",
       "\t 1.4\\\\\n",
       "\\end{tabular}\n"
      ],
      "text/markdown": [
       "\n",
       "| 0.5 |\n",
       "| 0.7 |\n",
       "| 0.9 |\n",
       "| 1.0 |\n",
       "| 1.4 |\n",
       "\n"
      ],
      "text/plain": [
       "     [,1]\n",
       "[1,] 0.5 \n",
       "[2,] 0.7 \n",
       "[3,] 0.9 \n",
       "[4,] 1.0 \n",
       "[5,] 1.4 "
      ]
     },
     "metadata": {},
     "output_type": "display_data"
    },
    {
     "data": {
      "image/png": "[encoded data removed]",
      "text/plain": [
       "plot without title"
      ]
     },
     "metadata": {},
     "output_type": "display_data"
    }
   ],
   "source": [
    "boxplot(data.mod$CO)$stats"
   ]
  },
  {
   "cell_type": "code",
   "execution_count": 43,
   "metadata": {},
   "outputs": [],
   "source": [
    "data.mod$CO <- ifelse(data.mod$CO < 0.5 | data.mod$CO > 1.4, NA, data.mod$CO)"
   ]
  },
  {
   "cell_type": "code",
   "execution_count": 44,
   "metadata": {},
   "outputs": [],
   "source": [
    "data.mod <- na.omit(data.mod)"
   ]
  },
  {
   "cell_type": "code",
   "execution_count": 45,
   "metadata": {},
   "outputs": [
    {
     "name": "stdout",
     "output_type": "stream",
     "text": [
      "'data.frame':\t137 obs. of  8 variables:\n",
      " $ MSRDT    : num  2.02e+11 2.02e+11 2.02e+11 2.02e+11 2.02e+11 ...\n",
      " $ MSRSTE_NM: Factor w/ 329 levels \"강남구,0.022\",..: 76 76 76 76 76 76 76 76 76 76 ...\n",
      " $ NO2      : num  0.045 0.04 0.046 0.05 0.038 0.043 0.049 0.028 0.034 0.036 ...\n",
      " $ O3       : num  0.007 0.01 0.007 0.007 0.016 0.013 0.012 0.03 0.024 0.019 ...\n",
      " $ CO       : num  0.6 0.7 0.8 0.7 0.7 0.7 0.7 0.8 0.8 0.8 ...\n",
      " $ SO2      : num  0.005 0.003 0.004 0.003 0.004 0.004 0.004 0.004 0.004 0.004 ...\n",
      " $ PM10     : num  38 47 45 45 47 52 50 82 77 64 ...\n",
      " $ PM25     : num  29 33 33 33 35 38 35 62 60 49 ...\n",
      " - attr(*, \"na.action\")= 'omit' Named int  52 53 54 55 56 71 72\n",
      "  ..- attr(*, \"names\")= chr  \"316\" \"317\" \"318\" \"319\" ...\n"
     ]
    }
   ],
   "source": [
    "str(data.mod)"
   ]
  },
  {
   "cell_type": "code",
   "execution_count": 46,
   "metadata": {},
   "outputs": [],
   "source": [
    "library(caret)"
   ]
  },
  {
   "cell_type": "code",
   "execution_count": 47,
   "metadata": {},
   "outputs": [
    {
     "name": "stderr",
     "output_type": "stream",
     "text": [
      "Warning message in createDataPartition(data.mod$MSRSTE_NM, p = 0.7):\n",
      "\"Some classes have no records ( 강남구,0.022, 강남구,0.025, 강남구,0.026, 강남구,0.027, 강남구,0.028, 강남구,0.029, 강남구,0.03, 강남구,0.031, 강남구,0.032, 강남구,0.033, 강남구,0.034, 강남구,0.035, 강남구,0.036, 강남구,0.041, 강남구,0.042, 강남구,0.043, 강남구,0.044, 강남구,0.049, 강남구,0.052, 강남구,0.053, 강남구,0.054, 강동구,0.024, 강동구,0.025, 강동구,0.031, 강동구,0.034, 강동구,0.036, 강동구,0.037, 강동구,0.038, 강동구,0.04, 강동구,0.041, 강동구,0.042, 강동구,0.045, 강동구,0.046, 강동구,0.047, 강동구,0.048, 강동구,0.049, 강동구,0.05, 강동구,0.053, 강동구,0.055, 강북구,0.027, 강북구,0.029, 강북구,0.03, 강북구,0.031, 강북구,0.032, 강북구,0.033, 강북구,0.035, 강북구,0.038, 강북구,0.039, 강북구,0.04, 강북구,0.042, 강북구,0.045, 강북구,0.046, 강북구,0.048, 강북구,0.049, 강북구,0.056, 강북구,0.059, 강서구,0.014, 강서구,0.016, 강서구,0.017, 강서구,0.019, 강서구,0.024, 강서구,0.025, 강서구,0.029, 강서구,0.03, 강서구,0.031, 강서구,0.033, 강서구,0.035, 강서구,0.036, 강서구,0.04, 강서구,0.042, 강서구,0.044, 강서구,0.045, 강서구,0.048, 강서구,0.049, 강서구,0.056, 광진구,0.02, 광진구,0.023, 광진구,0.028, 광진구,0.03, 광진구,0.031, 광진구,0.034, 광진구,0.036, 광진구,0.037, 광진구,0.038, 광진구,0.039, 광진구,0.041, 광진구,0.042, 광진구,0.043, 광진구,0.044, 구로구,0.017, 구로구,0.018, 구로구,0.02, 구로구,0.026, 구로구,0.028, 구로구,0.03, 구로구,0.033, 구로구,0.034, 구로구,0.035, 구로구,0.036, 구로구,0.037, 구로구,0.038, 구로구,0.039, 구로구,0.04, 구로구,0.041, 구로구,0.042, 구로구,0.044, 구로구,0.045, 금천구,0.021, 금천구,0.022, 금천구,0.025, 금천구,0.026, 금천구,0.028, 금천구,0.033, 금천구,0.037, 금천구,0.038, 금천구,0.04, 금천구,0.041, 금천구,0.043, 금천구,0.046, 금천구,0.049, 금천구,0.05, 금천구,0.052, 노원구,0.021, 노원구,0.022, 노원구,0.025, 노원구,0.031, 노원구,0.038, 노원구,0.039, 노원구,0.042, 노원구,0.043, 노원구,0.044, 노원구,0.045, 노원구,0.046, 노원구,0.047, 노원구,0.049, 노원구,0.05, 노원구,0.051, 노원구,0.055, 도봉구,0.016, 도봉구,0.017, 도봉구,0.018, 도봉구,0.019, 도봉구,0.02, 도봉구,0.021, 도봉구,0.025, 도봉구,0.028, 도봉구,0.029, 도봉구,0.032, 도봉구,0.033, 도봉구,0.035, 도봉구,0.036, 도봉구,0.037, 도봉구,0.039, 도봉구,0.04, 도봉구,0.041, 도봉구,0.044, 동작구,0.02, 동작구,0.021, 동작구,0.023, 동작구,0.026, 동작구,0.028, 동작구,0.029, 동작구,0.03, 동작구,0.031, 동작구,0.035, 동작구,0.038, 동작구,0.04, 동작구,0.042, 동작구,0.045, 동작구,0.047, 동작구,0.048, 동작구,0.051, 마포구,0.025, 마포구,0.026, 마포구,0.027, 마포구,0.028, 마포구,0.03, 마포구,0.032, 마포구,0.039, 마포구,0.042, 마포구,0.045, 마포구,0.047, 마포구,0.048, 마포구,0.049, 마포구,0.05, 마포구,0.051, 마포구,0.052, 마포구,0.053, 마포구,0.054, 마포구,0.06, 서초구,0.021, 서초구,0.022, 서초구,0.029, 서초구,0.031, 서초구,0.032, 서초구,0.033, 서초구,0.034, 서초구,0.036, 서초구,0.04, 서초구,0.042, 서초구,0.043, 서초구,0.044, 서초구,0.045, 서초구,0.047, 서초구,0.049, 서초구,0.051, 서초구,0.052, 성동구,0.024, 성동구,0.027, 성동구,0.029, 성동구,0.032, 성동구,0.033, 성동구,0.038, 성동구,0.039, 성동구,0.04, 성동구,0.041, 성동구,0.042, 성동구,0.044, 성동구,0.045, 성동구,0.047, 성동구,0.048, 성동구,0.051, 성북구,0.023, 성북구,0.025, 성북구,0.027, 성북구,0.029, 성북구,0.033, 성북구,0.034, 성북구,0.036, 성북구,0.037, 성북구,0.045, 성북구,0.046, 성북구,0.049, 성북구,0.051, 성북구,0.052, 성북구,0.053, 성북구,0.054, 성북구,0.055, 성북구,0.058, 송파구,0.031, 송파구,0.033, 송파구,0.034, 송파구,0.035, 송파구,0.036, 송파구,0.038, 송파구,0.039, 송파구,0.041, 송파구,0.042, 송파구,0.043, 송파구,0.044, 송파구,0.046, 송파구,0.047, 송파구,0.049, 송파구,0.05, 송파구,0.052, 양천구,0.022, 양천구,0.023, 양천구,0.024, 양천구,0.03, 양천구,0.031, 양천구,0.033, 양천구,0.036, 양천구,0.038, 양천구,0.04, 양천구,0.041, 양천구,0.043, 양천구,0.044, 양천구,0.046, 양천구,0.047, 양천구,0.051, 양천구,0.054, 용산구,0.02, 용산구,0.021, 용산구,0.024, 용산구,0.025, 용산구,0.026, 용산구,0.031, 용산구,0.032, 용산구,0.034, 용산구,0.035, 용산구,0.036, 용산구,0.037, 용산구,0.038, 용산구,0.039, 용산구,0.04, 용산구,0.042, 용산구,0.047, 종로구,0.018, 종로구,0.021, 종로구,0.024, 종로구,0.026, 종로구,0.027, 종로구,0.028, 종로구,0.029, 종로구,0.03, 종로구,0.031, 종로구,0.033, 종로구,0.035, 종로구,0.043, 종로구,0.044, 종로구,0.045, 종로구,0.046, 종로구,0.048, 종로구,0.049, 종로구,0.05, 종로구,0.051, 종로구,0.052, 종로구,0.053, 중랑구,0.021, 중랑구,0.026, 중랑구,0.029, 중랑구,0.031, 중랑구,0.036, 중랑구,0.038, 중랑구,0.04, 중랑구,0.042, 중랑구,0.043, 중랑구,0.044, 중랑구,0.046, 중랑구,0.047, 중랑구,0.049, 중랑구,0.05, 중랑구,0.051 ) and these will be ignored\""
     ]
    }
   ],
   "source": [
    "set.seed(123)\n",
    "idx  <- createDataPartition(data.mod$MSRSTE_NM, p=.7)$Resample1\n",
    "data.mod.train <- data.mod[idx, ]\n",
    "data.mod.test <- data.mod[-idx, ]"
   ]
  },
  {
   "cell_type": "code",
   "execution_count": 91,
   "metadata": {},
   "outputs": [
    {
     "data": {
      "text/html": [
       "<table>\n",
       "<thead><tr><th></th><th scope=col>MSRDT</th><th scope=col>MSRSTE_NM</th><th scope=col>NO2</th><th scope=col>O3</th><th scope=col>CO</th><th scope=col>SO2</th><th scope=col>PM10</th><th scope=col>PM25</th></tr></thead>\n",
       "<tbody>\n",
       "\t<tr><th scope=row>99</th><td>2.02002e+11</td><td>관악구     </td><td>0.046      </td><td>0.007      </td><td>0.8        </td><td>0.004      </td><td> 45        </td><td>33         </td></tr>\n",
       "\t<tr><th scope=row>100</th><td>2.02002e+11</td><td>관악구     </td><td>0.050      </td><td>0.007      </td><td>0.7        </td><td>0.003      </td><td> 45        </td><td>33         </td></tr>\n",
       "\t<tr><th scope=row>101</th><td>2.02002e+11</td><td>관악구     </td><td>0.038      </td><td>0.016      </td><td>0.7        </td><td>0.004      </td><td> 47        </td><td>35         </td></tr>\n",
       "\t<tr><th scope=row>102</th><td>2.02002e+11</td><td>관악구     </td><td>0.043      </td><td>0.013      </td><td>0.7        </td><td>0.004      </td><td> 52        </td><td>38         </td></tr>\n",
       "\t<tr><th scope=row>105</th><td>2.02002e+11</td><td>관악구     </td><td>0.034      </td><td>0.024      </td><td>0.8        </td><td>0.004      </td><td> 77        </td><td>60         </td></tr>\n",
       "\t<tr><th scope=row>106</th><td>2.02002e+11</td><td>관악구     </td><td>0.036      </td><td>0.019      </td><td>0.8        </td><td>0.004      </td><td> 64        </td><td>49         </td></tr>\n",
       "\t<tr><th scope=row>107</th><td>2.02002e+11</td><td>관악구     </td><td>0.047      </td><td>0.009      </td><td>0.8        </td><td>0.004      </td><td> 55        </td><td>41         </td></tr>\n",
       "\t<tr><th scope=row>109</th><td>2.02002e+11</td><td>관악구     </td><td>0.055      </td><td>0.003      </td><td>0.8        </td><td>0.004      </td><td> 43        </td><td>32         </td></tr>\n",
       "\t<tr><th scope=row>110</th><td>2.02002e+11</td><td>관악구     </td><td>0.054      </td><td>0.002      </td><td>0.7        </td><td>0.004      </td><td> 40        </td><td>29         </td></tr>\n",
       "\t<tr><th scope=row>111</th><td>2.02002e+11</td><td>관악구     </td><td>0.047      </td><td>0.006      </td><td>0.7        </td><td>0.004      </td><td> 38        </td><td>28         </td></tr>\n",
       "\t<tr><th scope=row>113</th><td>2.02002e+11</td><td>관악구     </td><td>0.044      </td><td>0.022      </td><td>1.1        </td><td>0.005      </td><td> 91        </td><td>69         </td></tr>\n",
       "\t<tr><th scope=row>114</th><td>2.02002e+11</td><td>관악구     </td><td>0.041      </td><td>0.026      </td><td>1.1        </td><td>0.005      </td><td>108        </td><td>81         </td></tr>\n",
       "\t<tr><th scope=row>115</th><td>2.02002e+11</td><td>관악구     </td><td>0.035      </td><td>0.033      </td><td>1.0        </td><td>0.005      </td><td> 98        </td><td>73         </td></tr>\n",
       "\t<tr><th scope=row>116</th><td>2.02002e+11</td><td>관악구     </td><td>0.026      </td><td>0.038      </td><td>0.9        </td><td>0.005      </td><td> 93        </td><td>63         </td></tr>\n",
       "\t<tr><th scope=row>117</th><td>2.02002e+11</td><td>관악구     </td><td>0.021      </td><td>0.039      </td><td>0.8        </td><td>0.004      </td><td> 85        </td><td>63         </td></tr>\n",
       "\t<tr><th scope=row>118</th><td>2.02002e+11</td><td>관악구     </td><td>0.025      </td><td>0.036      </td><td>0.8        </td><td>0.004      </td><td> 90        </td><td>67         </td></tr>\n",
       "\t<tr><th scope=row>119</th><td>2.02002e+11</td><td>관악구     </td><td>0.049      </td><td>0.015      </td><td>1.1        </td><td>0.004      </td><td> 85        </td><td>68         </td></tr>\n",
       "\t<tr><th scope=row>241</th><td>2.02002e+11</td><td>동대문구   </td><td>0.026      </td><td>0.018      </td><td>0.6        </td><td>0.003      </td><td> 35        </td><td>25         </td></tr>\n",
       "\t<tr><th scope=row>243</th><td>2.02002e+11</td><td>동대문구   </td><td>0.029      </td><td>0.017      </td><td>0.6        </td><td>0.003      </td><td> 43        </td><td>30         </td></tr>\n",
       "\t<tr><th scope=row>244</th><td>2.02002e+11</td><td>동대문구   </td><td>0.047      </td><td>0.005      </td><td>0.8        </td><td>0.002      </td><td> 47        </td><td>33         </td></tr>\n",
       "\t<tr><th scope=row>245</th><td>2.02002e+11</td><td>동대문구   </td><td>0.038      </td><td>0.013      </td><td>0.7        </td><td>0.003      </td><td> 46        </td><td>31         </td></tr>\n",
       "\t<tr><th scope=row>247</th><td>2.02002e+11</td><td>동대문구   </td><td>0.056      </td><td>0.004      </td><td>0.8        </td><td>0.003      </td><td> 46        </td><td>32         </td></tr>\n",
       "\t<tr><th scope=row>248</th><td>2.02002e+11</td><td>동대문구   </td><td>0.049      </td><td>0.009      </td><td>0.7        </td><td>0.003      </td><td> 42        </td><td>29         </td></tr>\n",
       "\t<tr><th scope=row>249</th><td>2.02002e+11</td><td>동대문구   </td><td>0.044      </td><td>0.016      </td><td>0.9        </td><td>0.003      </td><td> 73        </td><td>52         </td></tr>\n",
       "\t<tr><th scope=row>250</th><td>2.02002e+11</td><td>동대문구   </td><td>0.046      </td><td>0.011      </td><td>0.8        </td><td>0.003      </td><td> 71        </td><td>52         </td></tr>\n",
       "\t<tr><th scope=row>251</th><td>2.02002e+11</td><td>동대문구   </td><td>0.051      </td><td>0.006      </td><td>0.9        </td><td>0.003      </td><td> 62        </td><td>47         </td></tr>\n",
       "\t<tr><th scope=row>252</th><td>2.02002e+11</td><td>동대문구   </td><td>0.049      </td><td>0.004      </td><td>1.0        </td><td>0.003      </td><td> 56        </td><td>40         </td></tr>\n",
       "\t<tr><th scope=row>254</th><td>2.02002e+11</td><td>동대문구   </td><td>0.048      </td><td>0.002      </td><td>0.9        </td><td>0.003      </td><td> 53        </td><td>39         </td></tr>\n",
       "\t<tr><th scope=row>256</th><td>2.02002e+11</td><td>동대문구   </td><td>0.028      </td><td>0.028      </td><td>0.9        </td><td>0.003      </td><td> 80        </td><td>61         </td></tr>\n",
       "\t<tr><th scope=row>257</th><td>2.02002e+11</td><td>동대문구   </td><td>0.028      </td><td>0.029      </td><td>0.9        </td><td>0.004      </td><td> 93        </td><td>68         </td></tr>\n",
       "\t<tr><th scope=row>...</th><td>...</td><td>...</td><td>...</td><td>...</td><td>...</td><td>...</td><td>...</td><td>...</td></tr>\n",
       "\t<tr><th scope=row>510</th><td>2.02002e+11</td><td>은평구     </td><td>0.039      </td><td>0.005      </td><td>0.9        </td><td>0.002      </td><td> 48        </td><td>35         </td></tr>\n",
       "\t<tr><th scope=row>511</th><td>2.02002e+11</td><td>은평구     </td><td>0.035      </td><td>0.009      </td><td>0.8        </td><td>0.003      </td><td> 52        </td><td>33         </td></tr>\n",
       "\t<tr><th scope=row>513</th><td>2.02002e+11</td><td>은평구     </td><td>0.032      </td><td>0.025      </td><td>1.0        </td><td>0.003      </td><td> 81        </td><td>60         </td></tr>\n",
       "\t<tr><th scope=row>514</th><td>2.02002e+11</td><td>은평구     </td><td>0.044      </td><td>0.011      </td><td>1.0        </td><td>0.003      </td><td> 81        </td><td>56         </td></tr>\n",
       "\t<tr><th scope=row>517</th><td>2.02002e+11</td><td>은평구     </td><td>0.039      </td><td>0.006      </td><td>1.0        </td><td>0.003      </td><td> 46        </td><td>35         </td></tr>\n",
       "\t<tr><th scope=row>519</th><td>2.02002e+11</td><td>은평구     </td><td>0.032      </td><td>0.003      </td><td>0.9        </td><td>0.002      </td><td> 45        </td><td>36         </td></tr>\n",
       "\t<tr><th scope=row>520</th><td>2.02002e+11</td><td>은평구     </td><td>0.028      </td><td>0.027      </td><td>1.0        </td><td>0.003      </td><td> 95        </td><td>74         </td></tr>\n",
       "\t<tr><th scope=row>521</th><td>2.02002e+11</td><td>은평구     </td><td>0.021      </td><td>0.037      </td><td>1.1        </td><td>0.003      </td><td> 98        </td><td>77         </td></tr>\n",
       "\t<tr><th scope=row>522</th><td>2.02002e+11</td><td>은평구     </td><td>0.020      </td><td>0.041      </td><td>1.1        </td><td>0.004      </td><td>102        </td><td>75         </td></tr>\n",
       "\t<tr><th scope=row>524</th><td>2.02002e+11</td><td>은평구     </td><td>0.016      </td><td>0.049      </td><td>1.0        </td><td>0.004      </td><td> 83        </td><td>65         </td></tr>\n",
       "\t<tr><th scope=row>525</th><td>2.02002e+11</td><td>은평구     </td><td>0.014      </td><td>0.048      </td><td>0.9        </td><td>0.003      </td><td> 88        </td><td>60         </td></tr>\n",
       "\t<tr><th scope=row>526</th><td>2.02002e+11</td><td>은평구     </td><td>0.016      </td><td>0.044      </td><td>0.9        </td><td>0.003      </td><td> 86        </td><td>62         </td></tr>\n",
       "\t<tr><th scope=row>528</th><td>2.02002e+11</td><td>은평구     </td><td>0.036      </td><td>0.011      </td><td>1.1        </td><td>0.003      </td><td> 81        </td><td>65         </td></tr>\n",
       "\t<tr><th scope=row>554</th><td>2.02002e+11</td><td>중구       </td><td>0.031      </td><td>0.016      </td><td>0.5        </td><td>0.003      </td><td> 32        </td><td>28         </td></tr>\n",
       "\t<tr><th scope=row>555</th><td>2.02002e+11</td><td>중구       </td><td>0.026      </td><td>0.019      </td><td>0.5        </td><td>0.003      </td><td> 38        </td><td>33         </td></tr>\n",
       "\t<tr><th scope=row>557</th><td>2.02002e+11</td><td>중구       </td><td>0.044      </td><td>0.005      </td><td>0.7        </td><td>0.003      </td><td> 49        </td><td>41         </td></tr>\n",
       "\t<tr><th scope=row>558</th><td>2.02002e+11</td><td>중구       </td><td>0.044      </td><td>0.006      </td><td>0.7        </td><td>0.003      </td><td> 47        </td><td>39         </td></tr>\n",
       "\t<tr><th scope=row>559</th><td>2.02002e+11</td><td>중구       </td><td>0.040      </td><td>0.011      </td><td>0.6        </td><td>0.003      </td><td> 49        </td><td>43         </td></tr>\n",
       "\t<tr><th scope=row>560</th><td>2.02002e+11</td><td>중구       </td><td>0.043      </td><td>0.009      </td><td>0.7        </td><td>0.003      </td><td> 45        </td><td>40         </td></tr>\n",
       "\t<tr><th scope=row>562</th><td>2.02002e+11</td><td>중구       </td><td>0.044      </td><td>0.011      </td><td>0.8        </td><td>0.004      </td><td> 72        </td><td>62         </td></tr>\n",
       "\t<tr><th scope=row>564</th><td>2.02002e+11</td><td>중구       </td><td>0.050      </td><td>0.004      </td><td>1.0        </td><td>0.004      </td><td> 64        </td><td>54         </td></tr>\n",
       "\t<tr><th scope=row>566</th><td>2.02002e+11</td><td>중구       </td><td>0.041      </td><td>0.004      </td><td>0.7        </td><td>0.003      </td><td> 50        </td><td>44         </td></tr>\n",
       "\t<tr><th scope=row>568</th><td>2.02002e+11</td><td>중구       </td><td>0.027      </td><td>0.027      </td><td>0.9        </td><td>0.003      </td><td> 84        </td><td>73         </td></tr>\n",
       "\t<tr><th scope=row>569</th><td>2.02002e+11</td><td>중구       </td><td>0.034      </td><td>0.022      </td><td>0.9        </td><td>0.003      </td><td> 90        </td><td>78         </td></tr>\n",
       "\t<tr><th scope=row>571</th><td>2.02002e+11</td><td>중구       </td><td>0.025      </td><td>0.033      </td><td>0.9        </td><td>0.004      </td><td> 89        </td><td>77         </td></tr>\n",
       "\t<tr><th scope=row>572</th><td>2.02002e+11</td><td>중구       </td><td>0.020      </td><td>0.041      </td><td>0.8        </td><td>0.004      </td><td> 82        </td><td>69         </td></tr>\n",
       "\t<tr><th scope=row>573</th><td>2.02002e+11</td><td>중구       </td><td>0.019      </td><td>0.040      </td><td>0.7        </td><td>0.004      </td><td> 82        </td><td>69         </td></tr>\n",
       "\t<tr><th scope=row>574</th><td>2.02002e+11</td><td>중구       </td><td>0.016      </td><td>0.042      </td><td>0.6        </td><td>0.004      </td><td> 77        </td><td>66         </td></tr>\n",
       "\t<tr><th scope=row>575</th><td>2.02002e+11</td><td>중구       </td><td>0.017      </td><td>0.041      </td><td>0.7        </td><td>0.004      </td><td> 85        </td><td>75         </td></tr>\n",
       "\t<tr><th scope=row>576</th><td>2.02002e+11</td><td>중구       </td><td>0.029      </td><td>0.023      </td><td>0.9        </td><td>0.003      </td><td> 83        </td><td>74         </td></tr>\n",
       "</tbody>\n",
       "</table>\n"
      ],
      "text/latex": [
       "\\begin{tabular}{r|llllllll}\n",
       "  & MSRDT & MSRSTE\\_NM & NO2 & O3 & CO & SO2 & PM10 & PM25\\\\\n",
       "\\hline\n",
       "\t99 & 2.02002e+11 & 관악구      & 0.046       & 0.007       & 0.8         & 0.004       &  45         & 33         \\\\\n",
       "\t100 & 2.02002e+11 & 관악구      & 0.050       & 0.007       & 0.7         & 0.003       &  45         & 33         \\\\\n",
       "\t101 & 2.02002e+11 & 관악구      & 0.038       & 0.016       & 0.7         & 0.004       &  47         & 35         \\\\\n",
       "\t102 & 2.02002e+11 & 관악구      & 0.043       & 0.013       & 0.7         & 0.004       &  52         & 38         \\\\\n",
       "\t105 & 2.02002e+11 & 관악구      & 0.034       & 0.024       & 0.8         & 0.004       &  77         & 60         \\\\\n",
       "\t106 & 2.02002e+11 & 관악구      & 0.036       & 0.019       & 0.8         & 0.004       &  64         & 49         \\\\\n",
       "\t107 & 2.02002e+11 & 관악구      & 0.047       & 0.009       & 0.8         & 0.004       &  55         & 41         \\\\\n",
       "\t109 & 2.02002e+11 & 관악구      & 0.055       & 0.003       & 0.8         & 0.004       &  43         & 32         \\\\\n",
       "\t110 & 2.02002e+11 & 관악구      & 0.054       & 0.002       & 0.7         & 0.004       &  40         & 29         \\\\\n",
       "\t111 & 2.02002e+11 & 관악구      & 0.047       & 0.006       & 0.7         & 0.004       &  38         & 28         \\\\\n",
       "\t113 & 2.02002e+11 & 관악구      & 0.044       & 0.022       & 1.1         & 0.005       &  91         & 69         \\\\\n",
       "\t114 & 2.02002e+11 & 관악구      & 0.041       & 0.026       & 1.1         & 0.005       & 108         & 81         \\\\\n",
       "\t115 & 2.02002e+11 & 관악구      & 0.035       & 0.033       & 1.0         & 0.005       &  98         & 73         \\\\\n",
       "\t116 & 2.02002e+11 & 관악구      & 0.026       & 0.038       & 0.9         & 0.005       &  93         & 63         \\\\\n",
       "\t117 & 2.02002e+11 & 관악구      & 0.021       & 0.039       & 0.8         & 0.004       &  85         & 63         \\\\\n",
       "\t118 & 2.02002e+11 & 관악구      & 0.025       & 0.036       & 0.8         & 0.004       &  90         & 67         \\\\\n",
       "\t119 & 2.02002e+11 & 관악구      & 0.049       & 0.015       & 1.1         & 0.004       &  85         & 68         \\\\\n",
       "\t241 & 2.02002e+11 & 동대문구    & 0.026       & 0.018       & 0.6         & 0.003       &  35         & 25         \\\\\n",
       "\t243 & 2.02002e+11 & 동대문구    & 0.029       & 0.017       & 0.6         & 0.003       &  43         & 30         \\\\\n",
       "\t244 & 2.02002e+11 & 동대문구    & 0.047       & 0.005       & 0.8         & 0.002       &  47         & 33         \\\\\n",
       "\t245 & 2.02002e+11 & 동대문구    & 0.038       & 0.013       & 0.7         & 0.003       &  46         & 31         \\\\\n",
       "\t247 & 2.02002e+11 & 동대문구    & 0.056       & 0.004       & 0.8         & 0.003       &  46         & 32         \\\\\n",
       "\t248 & 2.02002e+11 & 동대문구    & 0.049       & 0.009       & 0.7         & 0.003       &  42         & 29         \\\\\n",
       "\t249 & 2.02002e+11 & 동대문구    & 0.044       & 0.016       & 0.9         & 0.003       &  73         & 52         \\\\\n",
       "\t250 & 2.02002e+11 & 동대문구    & 0.046       & 0.011       & 0.8         & 0.003       &  71         & 52         \\\\\n",
       "\t251 & 2.02002e+11 & 동대문구    & 0.051       & 0.006       & 0.9         & 0.003       &  62         & 47         \\\\\n",
       "\t252 & 2.02002e+11 & 동대문구    & 0.049       & 0.004       & 1.0         & 0.003       &  56         & 40         \\\\\n",
       "\t254 & 2.02002e+11 & 동대문구    & 0.048       & 0.002       & 0.9         & 0.003       &  53         & 39         \\\\\n",
       "\t256 & 2.02002e+11 & 동대문구    & 0.028       & 0.028       & 0.9         & 0.003       &  80         & 61         \\\\\n",
       "\t257 & 2.02002e+11 & 동대문구    & 0.028       & 0.029       & 0.9         & 0.004       &  93         & 68         \\\\\n",
       "\t... & ... & ... & ... & ... & ... & ... & ... & ...\\\\\n",
       "\t510 & 2.02002e+11 & 은평구      & 0.039       & 0.005       & 0.9         & 0.002       &  48         & 35         \\\\\n",
       "\t511 & 2.02002e+11 & 은평구      & 0.035       & 0.009       & 0.8         & 0.003       &  52         & 33         \\\\\n",
       "\t513 & 2.02002e+11 & 은평구      & 0.032       & 0.025       & 1.0         & 0.003       &  81         & 60         \\\\\n",
       "\t514 & 2.02002e+11 & 은평구      & 0.044       & 0.011       & 1.0         & 0.003       &  81         & 56         \\\\\n",
       "\t517 & 2.02002e+11 & 은평구      & 0.039       & 0.006       & 1.0         & 0.003       &  46         & 35         \\\\\n",
       "\t519 & 2.02002e+11 & 은평구      & 0.032       & 0.003       & 0.9         & 0.002       &  45         & 36         \\\\\n",
       "\t520 & 2.02002e+11 & 은평구      & 0.028       & 0.027       & 1.0         & 0.003       &  95         & 74         \\\\\n",
       "\t521 & 2.02002e+11 & 은평구      & 0.021       & 0.037       & 1.1         & 0.003       &  98         & 77         \\\\\n",
       "\t522 & 2.02002e+11 & 은평구      & 0.020       & 0.041       & 1.1         & 0.004       & 102         & 75         \\\\\n",
       "\t524 & 2.02002e+11 & 은평구      & 0.016       & 0.049       & 1.0         & 0.004       &  83         & 65         \\\\\n",
       "\t525 & 2.02002e+11 & 은평구      & 0.014       & 0.048       & 0.9         & 0.003       &  88         & 60         \\\\\n",
       "\t526 & 2.02002e+11 & 은평구      & 0.016       & 0.044       & 0.9         & 0.003       &  86         & 62         \\\\\n",
       "\t528 & 2.02002e+11 & 은평구      & 0.036       & 0.011       & 1.1         & 0.003       &  81         & 65         \\\\\n",
       "\t554 & 2.02002e+11 & 중구        & 0.031       & 0.016       & 0.5         & 0.003       &  32         & 28         \\\\\n",
       "\t555 & 2.02002e+11 & 중구        & 0.026       & 0.019       & 0.5         & 0.003       &  38         & 33         \\\\\n",
       "\t557 & 2.02002e+11 & 중구        & 0.044       & 0.005       & 0.7         & 0.003       &  49         & 41         \\\\\n",
       "\t558 & 2.02002e+11 & 중구        & 0.044       & 0.006       & 0.7         & 0.003       &  47         & 39         \\\\\n",
       "\t559 & 2.02002e+11 & 중구        & 0.040       & 0.011       & 0.6         & 0.003       &  49         & 43         \\\\\n",
       "\t560 & 2.02002e+11 & 중구        & 0.043       & 0.009       & 0.7         & 0.003       &  45         & 40         \\\\\n",
       "\t562 & 2.02002e+11 & 중구        & 0.044       & 0.011       & 0.8         & 0.004       &  72         & 62         \\\\\n",
       "\t564 & 2.02002e+11 & 중구        & 0.050       & 0.004       & 1.0         & 0.004       &  64         & 54         \\\\\n",
       "\t566 & 2.02002e+11 & 중구        & 0.041       & 0.004       & 0.7         & 0.003       &  50         & 44         \\\\\n",
       "\t568 & 2.02002e+11 & 중구        & 0.027       & 0.027       & 0.9         & 0.003       &  84         & 73         \\\\\n",
       "\t569 & 2.02002e+11 & 중구        & 0.034       & 0.022       & 0.9         & 0.003       &  90         & 78         \\\\\n",
       "\t571 & 2.02002e+11 & 중구        & 0.025       & 0.033       & 0.9         & 0.004       &  89         & 77         \\\\\n",
       "\t572 & 2.02002e+11 & 중구        & 0.020       & 0.041       & 0.8         & 0.004       &  82         & 69         \\\\\n",
       "\t573 & 2.02002e+11 & 중구        & 0.019       & 0.040       & 0.7         & 0.004       &  82         & 69         \\\\\n",
       "\t574 & 2.02002e+11 & 중구        & 0.016       & 0.042       & 0.6         & 0.004       &  77         & 66         \\\\\n",
       "\t575 & 2.02002e+11 & 중구        & 0.017       & 0.041       & 0.7         & 0.004       &  85         & 75         \\\\\n",
       "\t576 & 2.02002e+11 & 중구        & 0.029       & 0.023       & 0.9         & 0.003       &  83         & 74         \\\\\n",
       "\\end{tabular}\n"
      ],
      "text/markdown": [
       "\n",
       "| <!--/--> | MSRDT | MSRSTE_NM | NO2 | O3 | CO | SO2 | PM10 | PM25 |\n",
       "|---|---|---|---|---|---|---|---|---|\n",
       "| 99 | 2.02002e+11 | 관악구      | 0.046       | 0.007       | 0.8         | 0.004       |  45         | 33          |\n",
       "| 100 | 2.02002e+11 | 관악구      | 0.050       | 0.007       | 0.7         | 0.003       |  45         | 33          |\n",
       "| 101 | 2.02002e+11 | 관악구      | 0.038       | 0.016       | 0.7         | 0.004       |  47         | 35          |\n",
       "| 102 | 2.02002e+11 | 관악구      | 0.043       | 0.013       | 0.7         | 0.004       |  52         | 38          |\n",
       "| 105 | 2.02002e+11 | 관악구      | 0.034       | 0.024       | 0.8         | 0.004       |  77         | 60          |\n",
       "| 106 | 2.02002e+11 | 관악구      | 0.036       | 0.019       | 0.8         | 0.004       |  64         | 49          |\n",
       "| 107 | 2.02002e+11 | 관악구      | 0.047       | 0.009       | 0.8         | 0.004       |  55         | 41          |\n",
       "| 109 | 2.02002e+11 | 관악구      | 0.055       | 0.003       | 0.8         | 0.004       |  43         | 32          |\n",
       "| 110 | 2.02002e+11 | 관악구      | 0.054       | 0.002       | 0.7         | 0.004       |  40         | 29          |\n",
       "| 111 | 2.02002e+11 | 관악구      | 0.047       | 0.006       | 0.7         | 0.004       |  38         | 28          |\n",
       "| 113 | 2.02002e+11 | 관악구      | 0.044       | 0.022       | 1.1         | 0.005       |  91         | 69          |\n",
       "| 114 | 2.02002e+11 | 관악구      | 0.041       | 0.026       | 1.1         | 0.005       | 108         | 81          |\n",
       "| 115 | 2.02002e+11 | 관악구      | 0.035       | 0.033       | 1.0         | 0.005       |  98         | 73          |\n",
       "| 116 | 2.02002e+11 | 관악구      | 0.026       | 0.038       | 0.9         | 0.005       |  93         | 63          |\n",
       "| 117 | 2.02002e+11 | 관악구      | 0.021       | 0.039       | 0.8         | 0.004       |  85         | 63          |\n",
       "| 118 | 2.02002e+11 | 관악구      | 0.025       | 0.036       | 0.8         | 0.004       |  90         | 67          |\n",
       "| 119 | 2.02002e+11 | 관악구      | 0.049       | 0.015       | 1.1         | 0.004       |  85         | 68          |\n",
       "| 241 | 2.02002e+11 | 동대문구    | 0.026       | 0.018       | 0.6         | 0.003       |  35         | 25          |\n",
       "| 243 | 2.02002e+11 | 동대문구    | 0.029       | 0.017       | 0.6         | 0.003       |  43         | 30          |\n",
       "| 244 | 2.02002e+11 | 동대문구    | 0.047       | 0.005       | 0.8         | 0.002       |  47         | 33          |\n",
       "| 245 | 2.02002e+11 | 동대문구    | 0.038       | 0.013       | 0.7         | 0.003       |  46         | 31          |\n",
       "| 247 | 2.02002e+11 | 동대문구    | 0.056       | 0.004       | 0.8         | 0.003       |  46         | 32          |\n",
       "| 248 | 2.02002e+11 | 동대문구    | 0.049       | 0.009       | 0.7         | 0.003       |  42         | 29          |\n",
       "| 249 | 2.02002e+11 | 동대문구    | 0.044       | 0.016       | 0.9         | 0.003       |  73         | 52          |\n",
       "| 250 | 2.02002e+11 | 동대문구    | 0.046       | 0.011       | 0.8         | 0.003       |  71         | 52          |\n",
       "| 251 | 2.02002e+11 | 동대문구    | 0.051       | 0.006       | 0.9         | 0.003       |  62         | 47          |\n",
       "| 252 | 2.02002e+11 | 동대문구    | 0.049       | 0.004       | 1.0         | 0.003       |  56         | 40          |\n",
       "| 254 | 2.02002e+11 | 동대문구    | 0.048       | 0.002       | 0.9         | 0.003       |  53         | 39          |\n",
       "| 256 | 2.02002e+11 | 동대문구    | 0.028       | 0.028       | 0.9         | 0.003       |  80         | 61          |\n",
       "| 257 | 2.02002e+11 | 동대문구    | 0.028       | 0.029       | 0.9         | 0.004       |  93         | 68          |\n",
       "| ... | ... | ... | ... | ... | ... | ... | ... | ... |\n",
       "| 510 | 2.02002e+11 | 은평구      | 0.039       | 0.005       | 0.9         | 0.002       |  48         | 35          |\n",
       "| 511 | 2.02002e+11 | 은평구      | 0.035       | 0.009       | 0.8         | 0.003       |  52         | 33          |\n",
       "| 513 | 2.02002e+11 | 은평구      | 0.032       | 0.025       | 1.0         | 0.003       |  81         | 60          |\n",
       "| 514 | 2.02002e+11 | 은평구      | 0.044       | 0.011       | 1.0         | 0.003       |  81         | 56          |\n",
       "| 517 | 2.02002e+11 | 은평구      | 0.039       | 0.006       | 1.0         | 0.003       |  46         | 35          |\n",
       "| 519 | 2.02002e+11 | 은평구      | 0.032       | 0.003       | 0.9         | 0.002       |  45         | 36          |\n",
       "| 520 | 2.02002e+11 | 은평구      | 0.028       | 0.027       | 1.0         | 0.003       |  95         | 74          |\n",
       "| 521 | 2.02002e+11 | 은평구      | 0.021       | 0.037       | 1.1         | 0.003       |  98         | 77          |\n",
       "| 522 | 2.02002e+11 | 은평구      | 0.020       | 0.041       | 1.1         | 0.004       | 102         | 75          |\n",
       "| 524 | 2.02002e+11 | 은평구      | 0.016       | 0.049       | 1.0         | 0.004       |  83         | 65          |\n",
       "| 525 | 2.02002e+11 | 은평구      | 0.014       | 0.048       | 0.9         | 0.003       |  88         | 60          |\n",
       "| 526 | 2.02002e+11 | 은평구      | 0.016       | 0.044       | 0.9         | 0.003       |  86         | 62          |\n",
       "| 528 | 2.02002e+11 | 은평구      | 0.036       | 0.011       | 1.1         | 0.003       |  81         | 65          |\n",
       "| 554 | 2.02002e+11 | 중구        | 0.031       | 0.016       | 0.5         | 0.003       |  32         | 28          |\n",
       "| 555 | 2.02002e+11 | 중구        | 0.026       | 0.019       | 0.5         | 0.003       |  38         | 33          |\n",
       "| 557 | 2.02002e+11 | 중구        | 0.044       | 0.005       | 0.7         | 0.003       |  49         | 41          |\n",
       "| 558 | 2.02002e+11 | 중구        | 0.044       | 0.006       | 0.7         | 0.003       |  47         | 39          |\n",
       "| 559 | 2.02002e+11 | 중구        | 0.040       | 0.011       | 0.6         | 0.003       |  49         | 43          |\n",
       "| 560 | 2.02002e+11 | 중구        | 0.043       | 0.009       | 0.7         | 0.003       |  45         | 40          |\n",
       "| 562 | 2.02002e+11 | 중구        | 0.044       | 0.011       | 0.8         | 0.004       |  72         | 62          |\n",
       "| 564 | 2.02002e+11 | 중구        | 0.050       | 0.004       | 1.0         | 0.004       |  64         | 54          |\n",
       "| 566 | 2.02002e+11 | 중구        | 0.041       | 0.004       | 0.7         | 0.003       |  50         | 44          |\n",
       "| 568 | 2.02002e+11 | 중구        | 0.027       | 0.027       | 0.9         | 0.003       |  84         | 73          |\n",
       "| 569 | 2.02002e+11 | 중구        | 0.034       | 0.022       | 0.9         | 0.003       |  90         | 78          |\n",
       "| 571 | 2.02002e+11 | 중구        | 0.025       | 0.033       | 0.9         | 0.004       |  89         | 77          |\n",
       "| 572 | 2.02002e+11 | 중구        | 0.020       | 0.041       | 0.8         | 0.004       |  82         | 69          |\n",
       "| 573 | 2.02002e+11 | 중구        | 0.019       | 0.040       | 0.7         | 0.004       |  82         | 69          |\n",
       "| 574 | 2.02002e+11 | 중구        | 0.016       | 0.042       | 0.6         | 0.004       |  77         | 66          |\n",
       "| 575 | 2.02002e+11 | 중구        | 0.017       | 0.041       | 0.7         | 0.004       |  85         | 75          |\n",
       "| 576 | 2.02002e+11 | 중구        | 0.029       | 0.023       | 0.9         | 0.003       |  83         | 74          |\n",
       "\n"
      ],
      "text/plain": [
       "    MSRDT       MSRSTE_NM NO2   O3    CO  SO2   PM10 PM25\n",
       "99  2.02002e+11 관악구    0.046 0.007 0.8 0.004  45  33  \n",
       "100 2.02002e+11 관악구    0.050 0.007 0.7 0.003  45  33  \n",
       "101 2.02002e+11 관악구    0.038 0.016 0.7 0.004  47  35  \n",
       "102 2.02002e+11 관악구    0.043 0.013 0.7 0.004  52  38  \n",
       "105 2.02002e+11 관악구    0.034 0.024 0.8 0.004  77  60  \n",
       "106 2.02002e+11 관악구    0.036 0.019 0.8 0.004  64  49  \n",
       "107 2.02002e+11 관악구    0.047 0.009 0.8 0.004  55  41  \n",
       "109 2.02002e+11 관악구    0.055 0.003 0.8 0.004  43  32  \n",
       "110 2.02002e+11 관악구    0.054 0.002 0.7 0.004  40  29  \n",
       "111 2.02002e+11 관악구    0.047 0.006 0.7 0.004  38  28  \n",
       "113 2.02002e+11 관악구    0.044 0.022 1.1 0.005  91  69  \n",
       "114 2.02002e+11 관악구    0.041 0.026 1.1 0.005 108  81  \n",
       "115 2.02002e+11 관악구    0.035 0.033 1.0 0.005  98  73  \n",
       "116 2.02002e+11 관악구    0.026 0.038 0.9 0.005  93  63  \n",
       "117 2.02002e+11 관악구    0.021 0.039 0.8 0.004  85  63  \n",
       "118 2.02002e+11 관악구    0.025 0.036 0.8 0.004  90  67  \n",
       "119 2.02002e+11 관악구    0.049 0.015 1.1 0.004  85  68  \n",
       "241 2.02002e+11 동대문구  0.026 0.018 0.6 0.003  35  25  \n",
       "243 2.02002e+11 동대문구  0.029 0.017 0.6 0.003  43  30  \n",
       "244 2.02002e+11 동대문구  0.047 0.005 0.8 0.002  47  33  \n",
       "245 2.02002e+11 동대문구  0.038 0.013 0.7 0.003  46  31  \n",
       "247 2.02002e+11 동대문구  0.056 0.004 0.8 0.003  46  32  \n",
       "248 2.02002e+11 동대문구  0.049 0.009 0.7 0.003  42  29  \n",
       "249 2.02002e+11 동대문구  0.044 0.016 0.9 0.003  73  52  \n",
       "250 2.02002e+11 동대문구  0.046 0.011 0.8 0.003  71  52  \n",
       "251 2.02002e+11 동대문구  0.051 0.006 0.9 0.003  62  47  \n",
       "252 2.02002e+11 동대문구  0.049 0.004 1.0 0.003  56  40  \n",
       "254 2.02002e+11 동대문구  0.048 0.002 0.9 0.003  53  39  \n",
       "256 2.02002e+11 동대문구  0.028 0.028 0.9 0.003  80  61  \n",
       "257 2.02002e+11 동대문구  0.028 0.029 0.9 0.004  93  68  \n",
       "... ...         ...       ...   ...   ... ...   ...  ... \n",
       "510 2.02002e+11 은평구    0.039 0.005 0.9 0.002  48  35  \n",
       "511 2.02002e+11 은평구    0.035 0.009 0.8 0.003  52  33  \n",
       "513 2.02002e+11 은평구    0.032 0.025 1.0 0.003  81  60  \n",
       "514 2.02002e+11 은평구    0.044 0.011 1.0 0.003  81  56  \n",
       "517 2.02002e+11 은평구    0.039 0.006 1.0 0.003  46  35  \n",
       "519 2.02002e+11 은평구    0.032 0.003 0.9 0.002  45  36  \n",
       "520 2.02002e+11 은평구    0.028 0.027 1.0 0.003  95  74  \n",
       "521 2.02002e+11 은평구    0.021 0.037 1.1 0.003  98  77  \n",
       "522 2.02002e+11 은평구    0.020 0.041 1.1 0.004 102  75  \n",
       "524 2.02002e+11 은평구    0.016 0.049 1.0 0.004  83  65  \n",
       "525 2.02002e+11 은평구    0.014 0.048 0.9 0.003  88  60  \n",
       "526 2.02002e+11 은평구    0.016 0.044 0.9 0.003  86  62  \n",
       "528 2.02002e+11 은평구    0.036 0.011 1.1 0.003  81  65  \n",
       "554 2.02002e+11 중구      0.031 0.016 0.5 0.003  32  28  \n",
       "555 2.02002e+11 중구      0.026 0.019 0.5 0.003  38  33  \n",
       "557 2.02002e+11 중구      0.044 0.005 0.7 0.003  49  41  \n",
       "558 2.02002e+11 중구      0.044 0.006 0.7 0.003  47  39  \n",
       "559 2.02002e+11 중구      0.040 0.011 0.6 0.003  49  43  \n",
       "560 2.02002e+11 중구      0.043 0.009 0.7 0.003  45  40  \n",
       "562 2.02002e+11 중구      0.044 0.011 0.8 0.004  72  62  \n",
       "564 2.02002e+11 중구      0.050 0.004 1.0 0.004  64  54  \n",
       "566 2.02002e+11 중구      0.041 0.004 0.7 0.003  50  44  \n",
       "568 2.02002e+11 중구      0.027 0.027 0.9 0.003  84  73  \n",
       "569 2.02002e+11 중구      0.034 0.022 0.9 0.003  90  78  \n",
       "571 2.02002e+11 중구      0.025 0.033 0.9 0.004  89  77  \n",
       "572 2.02002e+11 중구      0.020 0.041 0.8 0.004  82  69  \n",
       "573 2.02002e+11 중구      0.019 0.040 0.7 0.004  82  69  \n",
       "574 2.02002e+11 중구      0.016 0.042 0.6 0.004  77  66  \n",
       "575 2.02002e+11 중구      0.017 0.041 0.7 0.004  85  75  \n",
       "576 2.02002e+11 중구      0.029 0.023 0.9 0.003  83  74  "
      ]
     },
     "metadata": {},
     "output_type": "display_data"
    }
   ],
   "source": [
    "data.mod.train"
   ]
  },
  {
   "cell_type": "code",
   "execution_count": 57,
   "metadata": {},
   "outputs": [],
   "source": [
    "library(Hmisc)"
   ]
  },
  {
   "cell_type": "code",
   "execution_count": 59,
   "metadata": {},
   "outputs": [],
   "source": [
    "MSRSTE_NM <- data.mod$MSRSTE_NM\n",
    "CO <- data.mod$CO"
   ]
  },
  {
   "cell_type": "code",
   "execution_count": 60,
   "metadata": {},
   "outputs": [
    {
     "data": {
      "image/png": "[encoded data removed]",
      "text/plain": [
       "plot without title"
      ]
     },
     "metadata": {},
     "output_type": "display_data"
    }
   ],
   "source": [
    "plot(MSRSTE_NM, CO)"
   ]
  },
  {
   "cell_type": "code",
   "execution_count": 71,
   "metadata": {},
   "outputs": [
    {
     "data": {
      "text/plain": [
       "\n",
       "\tPearson's product-moment correlation\n",
       "\n",
       "data:  data.mod$CO and data.mod$NO2\n",
       "t = 0.16981, df = 135, p-value = 0.8654\n",
       "alternative hypothesis: true correlation is not equal to 0\n",
       "95 percent confidence interval:\n",
       " -0.1534781  0.1818833\n",
       "sample estimates:\n",
       "       cor \n",
       "0.01461358 \n"
      ]
     },
     "metadata": {},
     "output_type": "display_data"
    }
   ],
   "source": [
    "cor.test(data.mod$CO, data.mod$NO2)"
   ]
  },
  {
   "cell_type": "code",
   "execution_count": 73,
   "metadata": {},
   "outputs": [
    {
     "ename": "ERROR",
     "evalue": "Error in library(corrplot): there is no package called 'corrplot'\n",
     "output_type": "error",
     "traceback": [
      "Error in library(corrplot): there is no package called 'corrplot'\nTraceback:\n",
      "1. library(corrplot)"
     ]
    }
   ],
   "source": [
    "library(corrplot)"
   ]
  },
  {
   "cell_type": "code",
   "execution_count": 75,
   "metadata": {},
   "outputs": [
    {
     "data": {
      "text/html": [
       "<table>\n",
       "<thead><tr><th></th><th scope=col>MSRDT</th><th scope=col>MSRSTE_NM</th><th scope=col>NO2</th><th scope=col>O3</th><th scope=col>CO</th><th scope=col>SO2</th><th scope=col>PM10</th><th scope=col>PM25</th></tr></thead>\n",
       "<tbody>\n",
       "\t<tr><th scope=row>97</th><td>2.02002e+11</td><td>관악구     </td><td>0.045      </td><td>0.007      </td><td>0.6        </td><td>0.005      </td><td>38         </td><td>29         </td></tr>\n",
       "\t<tr><th scope=row>98</th><td>2.02002e+11</td><td>관악구     </td><td>0.040      </td><td>0.010      </td><td>0.7        </td><td>0.003      </td><td>47         </td><td>33         </td></tr>\n",
       "\t<tr><th scope=row>99</th><td>2.02002e+11</td><td>관악구     </td><td>0.046      </td><td>0.007      </td><td>0.8        </td><td>0.004      </td><td>45         </td><td>33         </td></tr>\n",
       "\t<tr><th scope=row>100</th><td>2.02002e+11</td><td>관악구     </td><td>0.050      </td><td>0.007      </td><td>0.7        </td><td>0.003      </td><td>45         </td><td>33         </td></tr>\n",
       "\t<tr><th scope=row>101</th><td>2.02002e+11</td><td>관악구     </td><td>0.038      </td><td>0.016      </td><td>0.7        </td><td>0.004      </td><td>47         </td><td>35         </td></tr>\n",
       "\t<tr><th scope=row>102</th><td>2.02002e+11</td><td>관악구     </td><td>0.043      </td><td>0.013      </td><td>0.7        </td><td>0.004      </td><td>52         </td><td>38         </td></tr>\n",
       "</tbody>\n",
       "</table>\n"
      ],
      "text/latex": [
       "\\begin{tabular}{r|llllllll}\n",
       "  & MSRDT & MSRSTE\\_NM & NO2 & O3 & CO & SO2 & PM10 & PM25\\\\\n",
       "\\hline\n",
       "\t97 & 2.02002e+11 & 관악구      & 0.045       & 0.007       & 0.6         & 0.005       & 38          & 29         \\\\\n",
       "\t98 & 2.02002e+11 & 관악구      & 0.040       & 0.010       & 0.7         & 0.003       & 47          & 33         \\\\\n",
       "\t99 & 2.02002e+11 & 관악구      & 0.046       & 0.007       & 0.8         & 0.004       & 45          & 33         \\\\\n",
       "\t100 & 2.02002e+11 & 관악구      & 0.050       & 0.007       & 0.7         & 0.003       & 45          & 33         \\\\\n",
       "\t101 & 2.02002e+11 & 관악구      & 0.038       & 0.016       & 0.7         & 0.004       & 47          & 35         \\\\\n",
       "\t102 & 2.02002e+11 & 관악구      & 0.043       & 0.013       & 0.7         & 0.004       & 52          & 38         \\\\\n",
       "\\end{tabular}\n"
      ],
      "text/markdown": [
       "\n",
       "| <!--/--> | MSRDT | MSRSTE_NM | NO2 | O3 | CO | SO2 | PM10 | PM25 |\n",
       "|---|---|---|---|---|---|---|---|---|\n",
       "| 97 | 2.02002e+11 | 관악구      | 0.045       | 0.007       | 0.6         | 0.005       | 38          | 29          |\n",
       "| 98 | 2.02002e+11 | 관악구      | 0.040       | 0.010       | 0.7         | 0.003       | 47          | 33          |\n",
       "| 99 | 2.02002e+11 | 관악구      | 0.046       | 0.007       | 0.8         | 0.004       | 45          | 33          |\n",
       "| 100 | 2.02002e+11 | 관악구      | 0.050       | 0.007       | 0.7         | 0.003       | 45          | 33          |\n",
       "| 101 | 2.02002e+11 | 관악구      | 0.038       | 0.016       | 0.7         | 0.004       | 47          | 35          |\n",
       "| 102 | 2.02002e+11 | 관악구      | 0.043       | 0.013       | 0.7         | 0.004       | 52          | 38          |\n",
       "\n"
      ],
      "text/plain": [
       "    MSRDT       MSRSTE_NM NO2   O3    CO  SO2   PM10 PM25\n",
       "97  2.02002e+11 관악구    0.045 0.007 0.6 0.005 38   29  \n",
       "98  2.02002e+11 관악구    0.040 0.010 0.7 0.003 47   33  \n",
       "99  2.02002e+11 관악구    0.046 0.007 0.8 0.004 45   33  \n",
       "100 2.02002e+11 관악구    0.050 0.007 0.7 0.003 45   33  \n",
       "101 2.02002e+11 관악구    0.038 0.016 0.7 0.004 47   35  \n",
       "102 2.02002e+11 관악구    0.043 0.013 0.7 0.004 52   38  "
      ]
     },
     "metadata": {},
     "output_type": "display_data"
    }
   ],
   "source": [
    "head(data.mod)"
   ]
  },
  {
   "cell_type": "code",
   "execution_count": 78,
   "metadata": {},
   "outputs": [
    {
     "data": {
      "text/html": [
       "<table>\n",
       "<thead><tr><th></th><th scope=col>NO2</th><th scope=col>O3</th><th scope=col>CO</th><th scope=col>SO2</th><th scope=col>PM10</th></tr></thead>\n",
       "<tbody>\n",
       "\t<tr><th scope=row>NO2</th><td> 1.00000000</td><td>-0.8394797 </td><td>0.01461358 </td><td>-0.0145564 </td><td>-0.4540619 </td></tr>\n",
       "\t<tr><th scope=row>O3</th><td>-0.83947971</td><td> 1.0000000 </td><td>0.10701966 </td><td> 0.1606418 </td><td> 0.7594408 </td></tr>\n",
       "\t<tr><th scope=row>CO</th><td> 0.01461358</td><td> 0.1070197 </td><td>1.00000000 </td><td> 0.5105232 </td><td> 0.4876160 </td></tr>\n",
       "\t<tr><th scope=row>SO2</th><td>-0.01455640</td><td> 0.1606418 </td><td>0.51052319 </td><td> 1.0000000 </td><td> 0.2142982 </td></tr>\n",
       "\t<tr><th scope=row>PM10</th><td>-0.45406192</td><td> 0.7594408 </td><td>0.48761599 </td><td> 0.2142982 </td><td> 1.0000000 </td></tr>\n",
       "</tbody>\n",
       "</table>\n"
      ],
      "text/latex": [
       "\\begin{tabular}{r|lllll}\n",
       "  & NO2 & O3 & CO & SO2 & PM10\\\\\n",
       "\\hline\n",
       "\tNO2 &  1.00000000 & -0.8394797  & 0.01461358  & -0.0145564  & -0.4540619 \\\\\n",
       "\tO3 & -0.83947971 &  1.0000000  & 0.10701966  &  0.1606418  &  0.7594408 \\\\\n",
       "\tCO &  0.01461358 &  0.1070197  & 1.00000000  &  0.5105232  &  0.4876160 \\\\\n",
       "\tSO2 & -0.01455640 &  0.1606418  & 0.51052319  &  1.0000000  &  0.2142982 \\\\\n",
       "\tPM10 & -0.45406192 &  0.7594408  & 0.48761599  &  0.2142982  &  1.0000000 \\\\\n",
       "\\end{tabular}\n"
      ],
      "text/markdown": [
       "\n",
       "| <!--/--> | NO2 | O3 | CO | SO2 | PM10 |\n",
       "|---|---|---|---|---|---|\n",
       "| NO2 |  1.00000000 | -0.8394797  | 0.01461358  | -0.0145564  | -0.4540619  |\n",
       "| O3 | -0.83947971 |  1.0000000  | 0.10701966  |  0.1606418  |  0.7594408  |\n",
       "| CO |  0.01461358 |  0.1070197  | 1.00000000  |  0.5105232  |  0.4876160  |\n",
       "| SO2 | -0.01455640 |  0.1606418  | 0.51052319  |  1.0000000  |  0.2142982  |\n",
       "| PM10 | -0.45406192 |  0.7594408  | 0.48761599  |  0.2142982  |  1.0000000  |\n",
       "\n"
      ],
      "text/plain": [
       "     NO2         O3         CO         SO2        PM10      \n",
       "NO2   1.00000000 -0.8394797 0.01461358 -0.0145564 -0.4540619\n",
       "O3   -0.83947971  1.0000000 0.10701966  0.1606418  0.7594408\n",
       "CO    0.01461358  0.1070197 1.00000000  0.5105232  0.4876160\n",
       "SO2  -0.01455640  0.1606418 0.51052319  1.0000000  0.2142982\n",
       "PM10 -0.45406192  0.7594408 0.48761599  0.2142982  1.0000000"
      ]
     },
     "metadata": {},
     "output_type": "display_data"
    }
   ],
   "source": [
    "cor(data.mod[, 3:7])"
   ]
  },
  {
   "cell_type": "code",
   "execution_count": 80,
   "metadata": {},
   "outputs": [],
   "source": [
    "data.mod$MSRSTE_NM <- as.numeric(data.mod$MSRSTE_NM)"
   ]
  },
  {
   "cell_type": "code",
   "execution_count": 81,
   "metadata": {},
   "outputs": [
    {
     "name": "stdout",
     "output_type": "stream",
     "text": [
      "'data.frame':\t137 obs. of  8 variables:\n",
      " $ MSRDT    : num  2.02e+11 2.02e+11 2.02e+11 2.02e+11 2.02e+11 ...\n",
      " $ MSRSTE_NM: num  76 76 76 76 76 76 76 76 76 76 ...\n",
      " $ NO2      : num  0.045 0.04 0.046 0.05 0.038 0.043 0.049 0.028 0.034 0.036 ...\n",
      " $ O3       : num  0.007 0.01 0.007 0.007 0.016 0.013 0.012 0.03 0.024 0.019 ...\n",
      " $ CO       : num  0.6 0.7 0.8 0.7 0.7 0.7 0.7 0.8 0.8 0.8 ...\n",
      " $ SO2      : num  0.005 0.003 0.004 0.003 0.004 0.004 0.004 0.004 0.004 0.004 ...\n",
      " $ PM10     : num  38 47 45 45 47 52 50 82 77 64 ...\n",
      " $ PM25     : num  29 33 33 33 35 38 35 62 60 49 ...\n",
      " - attr(*, \"na.action\")= 'omit' Named int  52 53 54 55 56 71 72\n",
      "  ..- attr(*, \"names\")= chr  \"316\" \"317\" \"318\" \"319\" ...\n"
     ]
    }
   ],
   "source": [
    "str(data.mod)"
   ]
  },
  {
   "cell_type": "code",
   "execution_count": 82,
   "metadata": {},
   "outputs": [
    {
     "name": "stderr",
     "output_type": "stream",
     "text": [
      "Warning message in sqrt(1 - h * h):\n",
      "\"NaN이 생성되었습니다\""
     ]
    },
    {
     "data": {
      "text/plain": [
       "          MSRDT MSRSTE_NM   NO2    O3    CO   SO2  PM10  PM25\n",
       "MSRDT         1      -Inf  -Inf    NA    NA    NA    NA    NA\n",
       "MSRSTE_NM  -Inf      1.00 -0.27  0.02 -0.07 -0.32 -0.03  0.08\n",
       "NO2        -Inf     -0.27  1.00 -0.84  0.01 -0.01 -0.45 -0.45\n",
       "O3           NA      0.02 -0.84  1.00  0.11  0.16  0.76  0.73\n",
       "CO           NA     -0.07  0.01  0.11  1.00  0.51  0.49  0.47\n",
       "SO2          NA     -0.32 -0.01  0.16  0.51  1.00  0.21  0.24\n",
       "PM10         NA     -0.03 -0.45  0.76  0.49  0.21  1.00  0.97\n",
       "PM25         NA      0.08 -0.45  0.73  0.47  0.24  0.97  1.00\n",
       "\n",
       "n= 137 \n",
       "\n",
       "\n",
       "P\n",
       "          MSRDT MSRSTE_NM NO2    O3     CO     SO2    PM10   PM25  \n",
       "MSRDT                                                              \n",
       "MSRSTE_NM                 0.0016 0.7978 0.3935 0.0001 0.6999 0.3758\n",
       "NO2             0.0016           0.0000 0.8654 0.8659 0.0000 0.0000\n",
       "O3              0.7978    0.0000        0.2132 0.0608 0.0000 0.0000\n",
       "CO              0.3935    0.8654 0.2132        0.0000 0.0000 0.0000\n",
       "SO2             0.0001    0.8659 0.0608 0.0000        0.0119 0.0051\n",
       "PM10            0.6999    0.0000 0.0000 0.0000 0.0119        0.0000\n",
       "PM25            0.3758    0.0000 0.0000 0.0000 0.0051 0.0000       "
      ]
     },
     "metadata": {},
     "output_type": "display_data"
    }
   ],
   "source": [
    "rcorr(as.matrix(data.mod))"
   ]
  },
  {
   "cell_type": "code",
   "execution_count": 90,
   "metadata": {},
   "outputs": [
    {
     "ename": "ERROR",
     "evalue": "Error: One or more factor levels in the outcome has no data: '강남구,0.022', '강남구,0.025', '강남구,0.026', '강남구,0.027', '강남구,0.028', '강남구,0.029', '강남구,0.03', '강남구,0.031', '강남구,0.032', '강남구,0.033', '강남구,0.034', '강남구,0.035', '강남구,0.036', '강남구,0.041', '강남구,0.042', '강남구,0.043', '강남구,0.044', '강남구,0.049', '강남구,0.052', '강남구,0.053', '강남구,0.054', '강동구,0.024', '강동구,0.025', '강동구,0.031', '강동구,0.034', '강동구,0.036', '강동구,0.037', '강동구,0.038', '강동구,0.04', '강동구,0.041', '강동구,0.042', '강동구,0.045', '강동구,0.046', '강동구,0.047', '강동구,0.048', '강동구,0.049', '강동구,0.05', '강동구,0.053', '강동구,0.055', '강북구,0.027', '강북구,0.029', '강북구,0.03', '강북구,0.031', '강북구,0.032', '강북구,0.033', '강북구,0.035', '강북구,0.038', '강북구,0.039', '강북구,0.04', '강북구,0.042', '강북구,0.045', '강북구,0.046', '강북구,0.048', '강북구,0.049', '강북구,0.056', '강북구,0.059', '강서구,0.014', '강서구,0.016', '강서구,0.017', '강서구,0.019', '강서구,0.024', '강서구,0.025', '강서구,0.029', '강서구,0.03', '강서구,0.031', '강서구,0.033', '강서구,0.035', '강서구,0.036', '강서구,0.04', '강서구,0.042', '강서구,0.044', '강서구,0.045', '강서구,0.048', '강서구,0.049', '강서구,0.056', '광진구,0.02', '광진구,0.023', '광진구,0.028', '광진구,0.03', '광진구,0.031', '광진구,0.034', '광진구,0.036', '광진구,0.037', '광진구,0.038', '광진구,0.039', '광진구,0.041', '광진구,0.042', '광진구,0.043', '광진구,0.044', '구로구,0.017', '구로구,0.018', '구로구,0.02', '구로구,0.026', '구로구,0.028', '구로구,0.03', '구로구,0.033', '구로구,0.034', '구로구,0.035', '구로구,0.036', '구로구,0.037', '구로구,0.038', '구로구,0.039', '구로구,0.04', '구로구,0.041', '구로구,0.042', '구로구,0.044', '구로구,0.045', '금천구,0.021', '금천구,0.022', '금천구,0.025', '금천구,0.026', '금천구,0.028', '금천구,0.033', '금천구,0.037', '금천구,0.038', '금천구,0.04', '금천구,0.041', '금천구,0.043', '금천구,0.046', '금천구,0.049', '금천구,0.05', '금천구,0.052', '노원구,0.021', '노원구,0.022', '노원구,0.025', '노원구,0.031', '노원구,0.038', '노원구,0.039', '노원구,0.042', '노원구,0.043', '노원구,0.044', '노원구,0.045', '노원구,0.046', '노원구,0.047', '노원구,0.049', '노원구,0.05', '노원구,0.051', '노원구,0.055', '도봉구,0.016', '도봉구,0.017', '도봉구,0.018', '도봉구,0.019', '도봉구,0.02', '도봉구,0.021', '도봉구,0.025', '도봉구,0.028', '도봉구,0.029', '도봉구,0.032', '도봉구,0.033', '도봉구,0.035', '도봉구,0.036', '도봉구,0.037', '도봉구,0.039', '도봉구,0.04', '도봉구,0.041', '도봉구,0.044', '동작구,0.02', '동작구,0.021', '동작구,0.023', '동작구,0.026', '동작구,0.028', '동작구,0.029', '동작구,0.03', '동작구,0.031', '동작구,0.035', '동작구,0.038', '동작구,0.04', '동작구,0.042', '동작구,0.045', '동작구,0.047', '동작구,0.048', '동작구,0.051', '마포구,0.025', '마포구,0.026', '마포구,0.027', '마포구,0.028', '마포구,0.03', '마포구,0.032', '마포구,0.039', '마포구,0.042', '마포구,0.045', '마포구,0.047', '마포구,0.048', '마포구,0.049', '마포구,0.05', '마포구,0.051', '마포구,0.052', '마포구,0.053', '마포구,0.054', '마포구,0.06', '서초구,0.021', '서초구,0.022', '서초구,0.029', '서초구,0.031', '서초구,0.032', '서초구,0.033', '서초구,0.034', '서초구,0.036', '서초구,0.04', '서초구,0.042', '서초구,0.043', '서초구,0.044', '서초구,0.045', '서초구,0.047', '서초구,0.049', '서초구,0.051', '서초구,0.052', '성동구,0.024', '성동구,0.027', '성동구,0.029', '성동구,0.032', '성동구,0.033', '성동구,0.038', '성동구,0.039', '성동구,0.04', '성동구,0.041', '성동구,0.042', '성동구,0.044', '성동구,0.045', '성동구,0.047', '성동구,0.048', '성동구,0.051', '성북구,0.023', '성북구,0.025', '성북구,0.027', '성북구,0.029', '성북구,0.033', '성북구,0.034', '성북구,0.036', '성북구,0.037', '성북구,0.045', '성북구,0.046', '성북구,0.049', '성북구,0.051', '성북구,0.052', '성북구,0.053', '성북구,0.054', '성북구,0.055', '성북구,0.058', '송파구,0.031', '송파구,0.033', '송파구,0.034', '송파구,0.035', '송파구,0.036', '송파구,0.038', '송파구,0.039', '송파구,0.041', '송파구,0.042', '송파구,0.043', '송파구,0.044', '송파구,0.046', '송파구,0.047', '송파구,0.049', '송파구,0.05', '송파구,0.052', '양천구,0.022', '양천구,0.023', '양천구,0.024', '양천구,0.03', '양천구,0.031', '양천구,0.033', '양천구,0.036', '양천구,0.038', '양천구,0.04', '양천구,0.041', '양천구,0.043', '양천구,0.044', '양천구,0.046', '양천구,0.047', '양천구,0.051', '양천구,0.054', '용산구,0.02', '용산구,0.021', '용산구,0.024', '용산구,0.025', '용산구,0.026', '용산구,0.031', '용산구,0.032', '용산구,0.034', '용산구,0.035', '용산구,0.036', '용산구,0.037', '용산구,0.038', '용산구,0.039', '용산구,0.04', '용산구,0.042', '용산구,0.047', '종로구,0.018', '종로구,0.021', '종로구,0.024', '종로구,0.026', '종로구,0.027', '종로구,0.028', '종로구,0.029', '종로구,0.03', '종로구,0.031', '종로구,0.033', '종로구,0.035', '종로구,0.043', '종로구,0.044', '종로구,0.045', '종로구,0.046', '종로구,0.048', '종로구,0.049', '종로구,0.05', '종로구,0.051', '종로구,0.052', '종로구,0.053', '중랑구,0.021', '중랑구,0.026', '중랑구,0.029', '중랑구,0.031', '중랑구,0.036', '중랑구,0.038', '중랑구,0.04', '중랑구,0.042', '중랑구,0.043', '중랑구,0.044', '중랑구,0.046', '중랑구,0.047', '중랑구,0.049', '중랑구,0.05', '중랑구,0.051'\n",
     "output_type": "error",
     "traceback": [
      "Error: One or more factor levels in the outcome has no data: '강남구,0.022', '강남구,0.025', '강남구,0.026', '강남구,0.027', '강남구,0.028', '강남구,0.029', '강남구,0.03', '강남구,0.031', '강남구,0.032', '강남구,0.033', '강남구,0.034', '강남구,0.035', '강남구,0.036', '강남구,0.041', '강남구,0.042', '강남구,0.043', '강남구,0.044', '강남구,0.049', '강남구,0.052', '강남구,0.053', '강남구,0.054', '강동구,0.024', '강동구,0.025', '강동구,0.031', '강동구,0.034', '강동구,0.036', '강동구,0.037', '강동구,0.038', '강동구,0.04', '강동구,0.041', '강동구,0.042', '강동구,0.045', '강동구,0.046', '강동구,0.047', '강동구,0.048', '강동구,0.049', '강동구,0.05', '강동구,0.053', '강동구,0.055', '강북구,0.027', '강북구,0.029', '강북구,0.03', '강북구,0.031', '강북구,0.032', '강북구,0.033', '강북구,0.035', '강북구,0.038', '강북구,0.039', '강북구,0.04', '강북구,0.042', '강북구,0.045', '강북구,0.046', '강북구,0.048', '강북구,0.049', '강북구,0.056', '강북구,0.059', '강서구,0.014', '강서구,0.016', '강서구,0.017', '강서구,0.019', '강서구,0.024', '강서구,0.025', '강서구,0.029', '강서구,0.03', '강서구,0.031', '강서구,0.033', '강서구,0.035', '강서구,0.036', '강서구,0.04', '강서구,0.042', '강서구,0.044', '강서구,0.045', '강서구,0.048', '강서구,0.049', '강서구,0.056', '광진구,0.02', '광진구,0.023', '광진구,0.028', '광진구,0.03', '광진구,0.031', '광진구,0.034', '광진구,0.036', '광진구,0.037', '광진구,0.038', '광진구,0.039', '광진구,0.041', '광진구,0.042', '광진구,0.043', '광진구,0.044', '구로구,0.017', '구로구,0.018', '구로구,0.02', '구로구,0.026', '구로구,0.028', '구로구,0.03', '구로구,0.033', '구로구,0.034', '구로구,0.035', '구로구,0.036', '구로구,0.037', '구로구,0.038', '구로구,0.039', '구로구,0.04', '구로구,0.041', '구로구,0.042', '구로구,0.044', '구로구,0.045', '금천구,0.021', '금천구,0.022', '금천구,0.025', '금천구,0.026', '금천구,0.028', '금천구,0.033', '금천구,0.037', '금천구,0.038', '금천구,0.04', '금천구,0.041', '금천구,0.043', '금천구,0.046', '금천구,0.049', '금천구,0.05', '금천구,0.052', '노원구,0.021', '노원구,0.022', '노원구,0.025', '노원구,0.031', '노원구,0.038', '노원구,0.039', '노원구,0.042', '노원구,0.043', '노원구,0.044', '노원구,0.045', '노원구,0.046', '노원구,0.047', '노원구,0.049', '노원구,0.05', '노원구,0.051', '노원구,0.055', '도봉구,0.016', '도봉구,0.017', '도봉구,0.018', '도봉구,0.019', '도봉구,0.02', '도봉구,0.021', '도봉구,0.025', '도봉구,0.028', '도봉구,0.029', '도봉구,0.032', '도봉구,0.033', '도봉구,0.035', '도봉구,0.036', '도봉구,0.037', '도봉구,0.039', '도봉구,0.04', '도봉구,0.041', '도봉구,0.044', '동작구,0.02', '동작구,0.021', '동작구,0.023', '동작구,0.026', '동작구,0.028', '동작구,0.029', '동작구,0.03', '동작구,0.031', '동작구,0.035', '동작구,0.038', '동작구,0.04', '동작구,0.042', '동작구,0.045', '동작구,0.047', '동작구,0.048', '동작구,0.051', '마포구,0.025', '마포구,0.026', '마포구,0.027', '마포구,0.028', '마포구,0.03', '마포구,0.032', '마포구,0.039', '마포구,0.042', '마포구,0.045', '마포구,0.047', '마포구,0.048', '마포구,0.049', '마포구,0.05', '마포구,0.051', '마포구,0.052', '마포구,0.053', '마포구,0.054', '마포구,0.06', '서초구,0.021', '서초구,0.022', '서초구,0.029', '서초구,0.031', '서초구,0.032', '서초구,0.033', '서초구,0.034', '서초구,0.036', '서초구,0.04', '서초구,0.042', '서초구,0.043', '서초구,0.044', '서초구,0.045', '서초구,0.047', '서초구,0.049', '서초구,0.051', '서초구,0.052', '성동구,0.024', '성동구,0.027', '성동구,0.029', '성동구,0.032', '성동구,0.033', '성동구,0.038', '성동구,0.039', '성동구,0.04', '성동구,0.041', '성동구,0.042', '성동구,0.044', '성동구,0.045', '성동구,0.047', '성동구,0.048', '성동구,0.051', '성북구,0.023', '성북구,0.025', '성북구,0.027', '성북구,0.029', '성북구,0.033', '성북구,0.034', '성북구,0.036', '성북구,0.037', '성북구,0.045', '성북구,0.046', '성북구,0.049', '성북구,0.051', '성북구,0.052', '성북구,0.053', '성북구,0.054', '성북구,0.055', '성북구,0.058', '송파구,0.031', '송파구,0.033', '송파구,0.034', '송파구,0.035', '송파구,0.036', '송파구,0.038', '송파구,0.039', '송파구,0.041', '송파구,0.042', '송파구,0.043', '송파구,0.044', '송파구,0.046', '송파구,0.047', '송파구,0.049', '송파구,0.05', '송파구,0.052', '양천구,0.022', '양천구,0.023', '양천구,0.024', '양천구,0.03', '양천구,0.031', '양천구,0.033', '양천구,0.036', '양천구,0.038', '양천구,0.04', '양천구,0.041', '양천구,0.043', '양천구,0.044', '양천구,0.046', '양천구,0.047', '양천구,0.051', '양천구,0.054', '용산구,0.02', '용산구,0.021', '용산구,0.024', '용산구,0.025', '용산구,0.026', '용산구,0.031', '용산구,0.032', '용산구,0.034', '용산구,0.035', '용산구,0.036', '용산구,0.037', '용산구,0.038', '용산구,0.039', '용산구,0.04', '용산구,0.042', '용산구,0.047', '종로구,0.018', '종로구,0.021', '종로구,0.024', '종로구,0.026', '종로구,0.027', '종로구,0.028', '종로구,0.029', '종로구,0.03', '종로구,0.031', '종로구,0.033', '종로구,0.035', '종로구,0.043', '종로구,0.044', '종로구,0.045', '종로구,0.046', '종로구,0.048', '종로구,0.049', '종로구,0.05', '종로구,0.051', '종로구,0.052', '종로구,0.053', '중랑구,0.021', '중랑구,0.026', '중랑구,0.029', '중랑구,0.031', '중랑구,0.036', '중랑구,0.038', '중랑구,0.04', '중랑구,0.042', '중랑구,0.043', '중랑구,0.044', '중랑구,0.046', '중랑구,0.047', '중랑구,0.049', '중랑구,0.05', '중랑구,0.051'\nTraceback:\n",
      "1. train(MSRSTE_NM ~ ., data = data.mod.train, method = \"rf\")",
      "2. train.formula(MSRSTE_NM ~ ., data = data.mod.train, method = \"rf\")",
      "3. train(x, y, weights = w, ...)",
      "4. train.default(x, y, weights = w, ...)",
      "5. stop(paste(\"One or more factor levels in the outcome has no data:\", \n .     xtab_msg), call. = FALSE)"
     ]
    }
   ],
   "source": [
    "m <- train(MSRSTE_NM ~ ., data=data.mod.train, method = \"rf\")"
   ]
  },
  {
   "cell_type": "code",
   "execution_count": null,
   "metadata": {},
   "outputs": [],
   "source": []
  },
  {
   "cell_type": "code",
   "execution_count": 85,
   "metadata": {},
   "outputs": [],
   "source": [
    "pred <- predict(m, data.mod)"
   ]
  },
  {
   "cell_type": "code",
   "execution_count": 89,
   "metadata": {},
   "outputs": [
    {
     "ename": "ERROR",
     "evalue": "Error: `data` and `reference` should be factors with the same levels.\n",
     "output_type": "error",
     "traceback": [
      "Error: `data` and `reference` should be factors with the same levels.\nTraceback:\n",
      "1. confusionMatrix(pred, data.mod$CO)",
      "2. confusionMatrix.default(pred, data.mod$CO)",
      "3. stop(\"`data` and `reference` should be factors with the same levels.\", \n .     call. = FALSE)"
     ]
    }
   ],
   "source": [
    "confusionMatrix(pred, data.mod$MSRSTE_NM)"
   ]
  },
  {
   "cell_type": "code",
   "execution_count": 5,
   "metadata": {},
   "outputs": [
    {
     "data": {
      "text/html": [
       "<table>\n",
       "<thead><tr><th scope=col>Species</th><th scope=col>last(Sepal.Length)</th></tr></thead>\n",
       "<tbody>\n",
       "\t<tr><td>setosa    </td><td>5.0       </td></tr>\n",
       "\t<tr><td>versicolor</td><td>5.7       </td></tr>\n",
       "\t<tr><td>virginica </td><td>5.9       </td></tr>\n",
       "</tbody>\n",
       "</table>\n"
      ],
      "text/latex": [
       "\\begin{tabular}{r|ll}\n",
       " Species & last(Sepal.Length)\\\\\n",
       "\\hline\n",
       "\t setosa     & 5.0       \\\\\n",
       "\t versicolor & 5.7       \\\\\n",
       "\t virginica  & 5.9       \\\\\n",
       "\\end{tabular}\n"
      ],
      "text/markdown": [
       "\n",
       "| Species | last(Sepal.Length) |\n",
       "|---|---|\n",
       "| setosa     | 5.0        |\n",
       "| versicolor | 5.7        |\n",
       "| virginica  | 5.9        |\n",
       "\n"
      ],
      "text/plain": [
       "  Species    last(Sepal.Length)\n",
       "1 setosa     5.0               \n",
       "2 versicolor 5.7               \n",
       "3 virginica  5.9               "
      ]
     },
     "metadata": {},
     "output_type": "display_data"
    }
   ],
   "source": [
    "library(dplyr)\n",
    "summarise(group_by(iris, Species), last(Sepal.Length))"
   ]
  },
  {
   "cell_type": "code",
   "execution_count": 107,
   "metadata": {},
   "outputs": [],
   "source": [
    "dust1 <- read.csv(\"./raw_data/dust_20100101.csv\", encoding=\"UTF-8\")"
   ]
  },
  {
   "cell_type": "code",
   "execution_count": 108,
   "metadata": {},
   "outputs": [],
   "source": [
    "dust2 <- read.csv(\"./raw_data/dust_20100102.csv\", encoding=\"UTF-8\")"
   ]
  },
  {
   "cell_type": "code",
   "execution_count": 109,
   "metadata": {},
   "outputs": [],
   "source": [
    "library(dplyr)"
   ]
  },
  {
   "cell_type": "code",
   "execution_count": 110,
   "metadata": {},
   "outputs": [
    {
     "name": "stderr",
     "output_type": "stream",
     "text": [
      "Warning message in bind_rows_(x, .id):\n",
      "\"Unequal factor levels: coercing to character\"Warning message in bind_rows_(x, .id):\n",
      "\"binding character and factor vector, coercing into character vector\"Warning message in bind_rows_(x, .id):\n",
      "\"binding character and factor vector, coercing into character vector\""
     ]
    }
   ],
   "source": [
    "dust_2010 <- bind_rows(dust1, dust2)"
   ]
  },
  {
   "cell_type": "code",
   "execution_count": 112,
   "metadata": {},
   "outputs": [
    {
     "name": "stdout",
     "output_type": "stream",
     "text": [
      "'data.frame':\t1200 obs. of  8 variables:\n",
      " $ MSRDT    : num  2.01e+11 2.01e+11 2.01e+11 2.01e+11 2.01e+11 ...\n",
      " $ MSRSTE_NM: chr  \"강남구,0.037\" \"강남구,0.027\" \"강남구,0.034\" \"강남구,0.03\" ...\n",
      " $ NO2      : num  0.005 0.011 0.006 0.008 0.008 0.009 0.008 0.004 0.002 0.004 ...\n",
      " $ O3       : num  0.5 0.4 0.5 0.5 0.5 0.4 0.4 0.5 0.6 0.7 ...\n",
      " $ CO       : num  0.005 0.005 0.005 0.005 0.005 0.005 0.006 0.006 0.006 0.007 ...\n",
      " $ SO2      : num  32 30 35 36 31 33 36 28 38 37 ...\n",
      " $ PM10     : num  27 29 23 23 23 25 23 21 22 22 ...\n",
      " $ PM25     : num  NA NA NA NA NA NA NA NA NA NA ...\n"
     ]
    }
   ],
   "source": [
    "str(dust_2010)"
   ]
  },
  {
   "cell_type": "code",
   "execution_count": 198,
   "metadata": {},
   "outputs": [],
   "source": [
    "dust1 <- read.csv(\"./raw_data/dust_20100131.csv\", encoding=\"UTF-8\")"
   ]
  },
  {
   "cell_type": "code",
   "execution_count": 199,
   "metadata": {},
   "outputs": [
    {
     "name": "stderr",
     "output_type": "stream",
     "text": [
      "Warning message in bind_rows_(x, .id):\n",
      "\"binding character and factor vector, coercing into character vector\""
     ]
    }
   ],
   "source": [
    "dust_2010 <- bind_rows(dust_2010, dust1)"
   ]
  },
  {
   "cell_type": "code",
   "execution_count": 200,
   "metadata": {},
   "outputs": [
    {
     "name": "stdout",
     "output_type": "stream",
     "text": [
      "'data.frame':\t18598 obs. of  8 variables:\n",
      " $ MSRDT    : num  2.01e+11 2.01e+11 2.01e+11 2.01e+11 2.01e+11 ...\n",
      " $ MSRSTE_NM: chr  \"강남구,0.037\" \"강남구,0.027\" \"강남구,0.034\" \"강남구,0.03\" ...\n",
      " $ NO2      : num  0.005 0.011 0.006 0.008 0.008 0.009 0.008 0.004 0.002 0.004 ...\n",
      " $ O3       : num  0.5 0.4 0.5 0.5 0.5 0.4 0.4 0.5 0.6 0.7 ...\n",
      " $ CO       : num  0.005 0.005 0.005 0.005 0.005 0.005 0.006 0.006 0.006 0.007 ...\n",
      " $ SO2      : num  32 30 35 36 31 33 36 28 38 37 ...\n",
      " $ PM10     : num  27 29 23 23 23 25 23 21 22 22 ...\n",
      " $ PM25     : num  NA NA NA NA NA NA NA NA NA NA ...\n"
     ]
    }
   ],
   "source": [
    "str(dust_2010)"
   ]
  },
  {
   "cell_type": "code",
   "execution_count": 201,
   "metadata": {},
   "outputs": [],
   "source": [
    "temp <- dust_2010"
   ]
  },
  {
   "cell_type": "code",
   "execution_count": 203,
   "metadata": {},
   "outputs": [
    {
     "name": "stdout",
     "output_type": "stream",
     "text": [
      "'data.frame':\t18598 obs. of  8 variables:\n",
      " $ MSRDT    : num  2.01e+11 2.01e+11 2.01e+11 2.01e+11 2.01e+11 ...\n",
      " $ MSRSTE_NM: chr  \"강남구,0.037\" \"강남구,0.027\" \"강남구,0.034\" \"강남구,0.03\" ...\n",
      " $ NO2      : num  0.005 0.011 0.006 0.008 0.008 0.009 0.008 0.004 0.002 0.004 ...\n",
      " $ O3       : num  0.5 0.4 0.5 0.5 0.5 0.4 0.4 0.5 0.6 0.7 ...\n",
      " $ CO       : num  0.005 0.005 0.005 0.005 0.005 0.005 0.006 0.006 0.006 0.007 ...\n",
      " $ SO2      : num  32 30 35 36 31 33 36 28 38 37 ...\n",
      " $ PM10     : num  27 29 23 23 23 25 23 21 22 22 ...\n",
      " $ PM25     : num  NA NA NA NA NA NA NA NA NA NA ...\n"
     ]
    }
   ],
   "source": [
    "str(temp)"
   ]
  },
  {
   "cell_type": "code",
   "execution_count": 204,
   "metadata": {},
   "outputs": [],
   "source": [
    "write.table(temp, \"./raw_data/dust_2010.csv\", sep=\",\")"
   ]
  },
  {
   "cell_type": "code",
   "execution_count": 206,
   "metadata": {},
   "outputs": [
    {
     "data": {
      "text/plain": [
       "     MSRDT           MSRSTE_NM              NO2                O3        \n",
       " Min.   :2.01e+11   Length:18598       Min.   :0.00000   Min.   :0.0000  \n",
       " 1st Qu.:2.01e+11   Class :character   1st Qu.:0.00400   1st Qu.:0.2000  \n",
       " Median :2.01e+11   Mode  :character   Median :0.01400   Median :0.5000  \n",
       " Mean   :2.01e+11                      Mean   :0.01887   Mean   :0.5935  \n",
       " 3rd Qu.:2.01e+11                      3rd Qu.:0.02700   3rd Qu.:0.9000  \n",
       " Max.   :2.01e+11                      Max.   :0.12300   Max.   :4.7000  \n",
       "                                                                         \n",
       "       CO              SO2               PM10             PM25        \n",
       " Min.   :0.0000   Min.   :  0.000   Min.   :  0.00   Min.   :   0.00  \n",
       " 1st Qu.:0.0060   1st Qu.:  0.021   1st Qu.: 22.00   1st Qu.:  19.00  \n",
       " Median :0.0080   Median : 44.000   Median : 34.00   Median :  27.00  \n",
       " Mean   :0.2027   Mean   : 43.955   Mean   : 38.62   Mean   :  33.37  \n",
       " 3rd Qu.:0.0160   3rd Qu.: 65.000   3rd Qu.: 50.00   3rd Qu.:  40.00  \n",
       " Max.   :3.7000   Max.   :396.000   Max.   :368.00   Max.   :7160.00  \n",
       "                                                     NA's   :14136    "
      ]
     },
     "metadata": {},
     "output_type": "display_data"
    }
   ],
   "source": [
    "summary(temp)"
   ]
  },
  {
   "cell_type": "code",
   "execution_count": 219,
   "metadata": {},
   "outputs": [],
   "source": [
    "tt <- read.csv(\"./raw_data/dust_2010.csv\")"
   ]
  },
  {
   "cell_type": "code",
   "execution_count": 220,
   "metadata": {},
   "outputs": [
    {
     "data": {
      "text/plain": [
       "     MSRDT             MSRSTE_NM          NO2                O3        \n",
       " Min.   :2.01e+11   관악구  :  744   Min.   :0.00000   Min.   :0.0000  \n",
       " 1st Qu.:2.01e+11   동대문구:  744   1st Qu.:0.00400   1st Qu.:0.2000  \n",
       " Median :2.01e+11   서대문구:  744   Median :0.01400   Median :0.5000  \n",
       " Mean   :2.01e+11   영등포구:  744   Mean   :0.01887   Mean   :0.5935  \n",
       " 3rd Qu.:2.01e+11   은평구  :  744   3rd Qu.:0.02700   3rd Qu.:0.9000  \n",
       " Max.   :2.01e+11   중구    :  742   Max.   :0.12300   Max.   :4.7000  \n",
       "                    (Other) :14136                                     \n",
       "       CO              SO2               PM10             PM25        \n",
       " Min.   :0.0000   Min.   :  0.000   Min.   :  0.00   Min.   :   0.00  \n",
       " 1st Qu.:0.0060   1st Qu.:  0.021   1st Qu.: 22.00   1st Qu.:  19.00  \n",
       " Median :0.0080   Median : 44.000   Median : 34.00   Median :  27.00  \n",
       " Mean   :0.2027   Mean   : 43.955   Mean   : 38.62   Mean   :  33.37  \n",
       " 3rd Qu.:0.0160   3rd Qu.: 65.000   3rd Qu.: 50.00   3rd Qu.:  40.00  \n",
       " Max.   :3.7000   Max.   :396.000   Max.   :368.00   Max.   :7160.00  \n",
       "                                                     NA's   :14136    "
      ]
     },
     "metadata": {},
     "output_type": "display_data"
    }
   ],
   "source": [
    "summary(tt)"
   ]
  },
  {
   "cell_type": "code",
   "execution_count": 221,
   "metadata": {},
   "outputs": [
    {
     "data": {
      "text/html": [
       "<dl class=dl-horizontal>\n",
       "\t<dt>MSRDT</dt>\n",
       "\t\t<dd>0</dd>\n",
       "\t<dt>MSRSTE_NM</dt>\n",
       "\t\t<dd>0</dd>\n",
       "\t<dt>NO2</dt>\n",
       "\t\t<dd>0</dd>\n",
       "\t<dt>O3</dt>\n",
       "\t\t<dd>0</dd>\n",
       "\t<dt>CO</dt>\n",
       "\t\t<dd>0</dd>\n",
       "\t<dt>SO2</dt>\n",
       "\t\t<dd>0</dd>\n",
       "\t<dt>PM10</dt>\n",
       "\t\t<dd>0</dd>\n",
       "\t<dt>PM25</dt>\n",
       "\t\t<dd>14136</dd>\n",
       "</dl>\n"
      ],
      "text/latex": [
       "\\begin{description*}\n",
       "\\item[MSRDT] 0\n",
       "\\item[MSRSTE\\textbackslash{}\\_NM] 0\n",
       "\\item[NO2] 0\n",
       "\\item[O3] 0\n",
       "\\item[CO] 0\n",
       "\\item[SO2] 0\n",
       "\\item[PM10] 0\n",
       "\\item[PM25] 14136\n",
       "\\end{description*}\n"
      ],
      "text/markdown": [
       "MSRDT\n",
       ":   0MSRSTE_NM\n",
       ":   0NO2\n",
       ":   0O3\n",
       ":   0CO\n",
       ":   0SO2\n",
       ":   0PM10\n",
       ":   0PM25\n",
       ":   14136\n",
       "\n"
      ],
      "text/plain": [
       "    MSRDT MSRSTE_NM       NO2        O3        CO       SO2      PM10      PM25 \n",
       "        0         0         0         0         0         0         0     14136 "
      ]
     },
     "metadata": {},
     "output_type": "display_data"
    }
   ],
   "source": [
    "colSums(is.na(tt))"
   ]
  },
  {
   "cell_type": "code",
   "execution_count": 223,
   "metadata": {},
   "outputs": [
    {
     "data": {
      "text/html": [
       "<ol class=list-inline>\n",
       "\t<li>201001010000</li>\n",
       "\t<li>201001010100</li>\n",
       "\t<li>201001010200</li>\n",
       "\t<li>201001010300</li>\n",
       "\t<li>201001010400</li>\n",
       "\t<li>201001010500</li>\n",
       "</ol>\n"
      ],
      "text/latex": [
       "\\begin{enumerate*}\n",
       "\\item 201001010000\n",
       "\\item 201001010100\n",
       "\\item 201001010200\n",
       "\\item 201001010300\n",
       "\\item 201001010400\n",
       "\\item 201001010500\n",
       "\\end{enumerate*}\n"
      ],
      "text/markdown": [
       "1. 201001010000\n",
       "2. 201001010100\n",
       "3. 201001010200\n",
       "4. 201001010300\n",
       "5. 201001010400\n",
       "6. 201001010500\n",
       "\n",
       "\n"
      ],
      "text/plain": [
       "[1] 2.01001e+11 2.01001e+11 2.01001e+11 2.01001e+11 2.01001e+11 2.01001e+11"
      ]
     },
     "metadata": {},
     "output_type": "display_data"
    }
   ],
   "source": [
    "head(tt$MSRDT)"
   ]
  },
  {
   "cell_type": "code",
   "execution_count": 231,
   "metadata": {},
   "outputs": [],
   "source": [
    "tt$MSRDT <- as.character(tt$MSRDT)"
   ]
  },
  {
   "cell_type": "code",
   "execution_count": 232,
   "metadata": {},
   "outputs": [
    {
     "data": {
      "text/html": [
       "<ol class=list-inline>\n",
       "\t<li>'201001010000'</li>\n",
       "\t<li>'201001010100'</li>\n",
       "\t<li>'201001010200'</li>\n",
       "\t<li>'201001010300'</li>\n",
       "\t<li>'201001010400'</li>\n",
       "\t<li>'201001010500'</li>\n",
       "</ol>\n"
      ],
      "text/latex": [
       "\\begin{enumerate*}\n",
       "\\item '201001010000'\n",
       "\\item '201001010100'\n",
       "\\item '201001010200'\n",
       "\\item '201001010300'\n",
       "\\item '201001010400'\n",
       "\\item '201001010500'\n",
       "\\end{enumerate*}\n"
      ],
      "text/markdown": [
       "1. '201001010000'\n",
       "2. '201001010100'\n",
       "3. '201001010200'\n",
       "4. '201001010300'\n",
       "5. '201001010400'\n",
       "6. '201001010500'\n",
       "\n",
       "\n"
      ],
      "text/plain": [
       "[1] \"201001010000\" \"201001010100\" \"201001010200\" \"201001010300\" \"201001010400\"\n",
       "[6] \"201001010500\""
      ]
     },
     "metadata": {},
     "output_type": "display_data"
    }
   ],
   "source": [
    "head(tt$MSRDT)"
   ]
  },
  {
   "cell_type": "code",
   "execution_count": 233,
   "metadata": {},
   "outputs": [],
   "source": [
    "tt$MSRDT <- as.Date(tt$MSRDT, \"%Y%m%d%H%M\")"
   ]
  },
  {
   "cell_type": "code",
   "execution_count": 239,
   "metadata": {},
   "outputs": [
    {
     "data": {
      "text/plain": [
       "     MSRDT               MSRSTE_NM          NO2                O3        \n",
       " Min.   :2010-01-01   관악구  :  744   Min.   :0.00000   Min.   :0.0000  \n",
       " 1st Qu.:2010-01-08   동대문구:  744   1st Qu.:0.00400   1st Qu.:0.2000  \n",
       " Median :2010-01-16   서대문구:  744   Median :0.01400   Median :0.5000  \n",
       " Mean   :2010-01-15   영등포구:  744   Mean   :0.01887   Mean   :0.5935  \n",
       " 3rd Qu.:2010-01-24   은평구  :  744   3rd Qu.:0.02700   3rd Qu.:0.9000  \n",
       " Max.   :2010-01-31   중구    :  742   Max.   :0.12300   Max.   :4.7000  \n",
       "                      (Other) :14136                                     \n",
       "       CO              SO2               PM10             PM25        \n",
       " Min.   :0.0000   Min.   :  0.000   Min.   :  0.00   Min.   :   0.00  \n",
       " 1st Qu.:0.0060   1st Qu.:  0.021   1st Qu.: 22.00   1st Qu.:  19.00  \n",
       " Median :0.0080   Median : 44.000   Median : 34.00   Median :  27.00  \n",
       " Mean   :0.2027   Mean   : 43.955   Mean   : 38.62   Mean   :  33.37  \n",
       " 3rd Qu.:0.0160   3rd Qu.: 65.000   3rd Qu.: 50.00   3rd Qu.:  40.00  \n",
       " Max.   :3.7000   Max.   :396.000   Max.   :368.00   Max.   :7160.00  \n",
       "                                                     NA's   :14136    "
      ]
     },
     "metadata": {},
     "output_type": "display_data"
    }
   ],
   "source": [
    "summary(tt)"
   ]
  },
  {
   "cell_type": "code",
   "execution_count": 235,
   "metadata": {},
   "outputs": [
    {
     "data": {
      "image/png": "[encoded data removed]",
      "text/plain": [
       "plot without title"
      ]
     },
     "metadata": {},
     "output_type": "display_data"
    },
    {
     "data": {
      "image/png": "[encoded data removed]",
      "text/plain": [
       "plot without title"
      ]
     },
     "metadata": {},
     "output_type": "display_data"
    }
   ],
   "source": [
    "plot(tt$MSRSTE_NM, tt$NO2)\n",
    "plot(tt$MSRSTE_NM, tt$O3)"
   ]
  },
  {
   "cell_type": "code",
   "execution_count": 240,
   "metadata": {},
   "outputs": [],
   "source": [
    "library(dplyr)"
   ]
  },
  {
   "cell_type": "code",
   "execution_count": 241,
   "metadata": {},
   "outputs": [
    {
     "ename": "ERROR",
     "evalue": "Error in UseMethod(\"group_by_\"): 클래스 \"factor\"의 객체에 적용된 'group_by_'에 사용할수 있는 메소드가 없습니다\n",
     "output_type": "error",
     "traceback": [
      "Error in UseMethod(\"group_by_\"): 클래스 \"factor\"의 객체에 적용된 'group_by_'에 사용할수 있는 메소드가 없습니다\nTraceback:\n",
      "1. group_by(`*tmp*`)",
      "2. group_by.default(`*tmp*`)",
      "3. group_by_(.data, .dots = compat_as_lazy_dots(...), add = add)"
     ]
    }
   ],
   "source": [
    "tt -> group_by(tt$MSRSTE_NM) %>% summarise(tt)"
   ]
  },
  {
   "cell_type": "code",
   "execution_count": null,
   "metadata": {},
   "outputs": [],
   "source": []
  }
 ],
 "metadata": {
  "kernelspec": {
   "display_name": "R",
   "language": "R",
   "name": "ir"
  },
  "language_info": {
   "codemirror_mode": "r",
   "file_extension": ".r",
   "mimetype": "text/x-r-source",
   "name": "R",
   "pygments_lexer": "r",
   "version": "3.6.1"
  }
 },
 "nbformat": 4,
 "nbformat_minor": 4
}
