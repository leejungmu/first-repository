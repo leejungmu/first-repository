{
 "cells": [
  {
   "cell_type": "code",
   "execution_count": 1,
   "metadata": {},
   "outputs": [
    {
     "data": {
      "text/plain": [
       "\n",
       "Call:\n",
       "lm(formula = Sepal.Length ~ Sepal.Width + Petal.Length + Petal.Width, \n",
       "    data = iris)\n",
       "\n",
       "Coefficients:\n",
       " (Intercept)   Sepal.Width  Petal.Length   Petal.Width  \n",
       "      1.8560        0.6508        0.7091       -0.5565  \n"
      ]
     },
     "metadata": {},
     "output_type": "display_data"
    },
    {
     "data": {
      "text/plain": [
       "\n",
       "Call:\n",
       "lm(formula = Sepal.Length ~ Sepal.Width + Petal.Length + Petal.Width, \n",
       "    data = iris)\n",
       "\n",
       "Residuals:\n",
       "     Min       1Q   Median       3Q      Max \n",
       "-0.82816 -0.21989  0.01875  0.19709  0.84570 \n",
       "\n",
       "Coefficients:\n",
       "             Estimate Std. Error t value Pr(>|t|)    \n",
       "(Intercept)   1.85600    0.25078   7.401 9.85e-12 ***\n",
       "Sepal.Width   0.65084    0.06665   9.765  < 2e-16 ***\n",
       "Petal.Length  0.70913    0.05672  12.502  < 2e-16 ***\n",
       "Petal.Width  -0.55648    0.12755  -4.363 2.41e-05 ***\n",
       "---\n",
       "Signif. codes:  0 '***' 0.001 '**' 0.01 '*' 0.05 '.' 0.1 ' ' 1\n",
       "\n",
       "Residual standard error: 0.3145 on 146 degrees of freedom\n",
       "Multiple R-squared:  0.8586,\tAdjusted R-squared:  0.8557 \n",
       "F-statistic: 295.5 on 3 and 146 DF,  p-value: < 2.2e-16\n"
      ]
     },
     "metadata": {},
     "output_type": "display_data"
    }
   ],
   "source": [
    "data(iris)\n",
    "(m <- lm(Sepal.Length ~ Sepal.Width + Petal.Length + Petal.Width, data = iris))\n",
    "summary(m)"
   ]
  },
  {
   "cell_type": "code",
   "execution_count": 2,
   "metadata": {},
   "outputs": [
    {
     "data": {
      "text/plain": [
       "\n",
       "Call:\n",
       "lm(formula = Sepal.Length ~ ., data = iris)\n",
       "\n",
       "Coefficients:\n",
       "      (Intercept)        Sepal.Width       Petal.Length        Petal.Width  \n",
       "           2.1713             0.4959             0.8292            -0.3152  \n",
       "Speciesversicolor   Speciesvirginica  \n",
       "          -0.7236            -1.0235  \n"
      ]
     },
     "metadata": {},
     "output_type": "display_data"
    },
    {
     "data": {
      "text/plain": [
       "\n",
       "Call:\n",
       "lm(formula = Sepal.Length ~ ., data = iris)\n",
       "\n",
       "Residuals:\n",
       "     Min       1Q   Median       3Q      Max \n",
       "-0.79424 -0.21874  0.00899  0.20255  0.73103 \n",
       "\n",
       "Coefficients:\n",
       "                  Estimate Std. Error t value Pr(>|t|)    \n",
       "(Intercept)        2.17127    0.27979   7.760 1.43e-12 ***\n",
       "Sepal.Width        0.49589    0.08607   5.761 4.87e-08 ***\n",
       "Petal.Length       0.82924    0.06853  12.101  < 2e-16 ***\n",
       "Petal.Width       -0.31516    0.15120  -2.084  0.03889 *  \n",
       "Speciesversicolor -0.72356    0.24017  -3.013  0.00306 ** \n",
       "Speciesvirginica  -1.02350    0.33373  -3.067  0.00258 ** \n",
       "---\n",
       "Signif. codes:  0 '***' 0.001 '**' 0.01 '*' 0.05 '.' 0.1 ' ' 1\n",
       "\n",
       "Residual standard error: 0.3068 on 144 degrees of freedom\n",
       "Multiple R-squared:  0.8673,\tAdjusted R-squared:  0.8627 \n",
       "F-statistic: 188.3 on 5 and 144 DF,  p-value: < 2.2e-16\n"
      ]
     },
     "metadata": {},
     "output_type": "display_data"
    }
   ],
   "source": [
    "(m <- lm(Sepal.Length ~ ., data = iris))\n",
    "summary(m)"
   ]
  },
  {
   "cell_type": "code",
   "execution_count": 3,
   "metadata": {},
   "outputs": [
    {
     "data": {
      "text/html": [
       "<table>\n",
       "<thead><tr><th></th><th scope=col>Df</th><th scope=col>Sum Sq</th><th scope=col>Mean Sq</th><th scope=col>F value</th><th scope=col>Pr(&gt;F)</th></tr></thead>\n",
       "<tbody>\n",
       "\t<tr><th scope=row>Sepal.Width</th><td>  1         </td><td> 1.4122375  </td><td> 1.41223754 </td><td> 15.001101  </td><td>1.625435e-04</td></tr>\n",
       "\t<tr><th scope=row>Petal.Length</th><td>  1         </td><td>84.4273316  </td><td>84.42733161 </td><td>896.805896  </td><td>1.012376e-63</td></tr>\n",
       "\t<tr><th scope=row>Petal.Width</th><td>  1         </td><td> 1.8833593  </td><td> 1.88335927 </td><td> 20.005461  </td><td>1.555536e-05</td></tr>\n",
       "\t<tr><th scope=row>Species</th><td>  2         </td><td> 0.8889198  </td><td> 0.44445992 </td><td>  4.721152  </td><td>1.032884e-02</td></tr>\n",
       "\t<tr><th scope=row>Residuals</th><td>144         </td><td>13.5564851  </td><td> 0.09414226 </td><td>        NA  </td><td>          NA</td></tr>\n",
       "</tbody>\n",
       "</table>\n"
      ],
      "text/latex": [
       "\\begin{tabular}{r|lllll}\n",
       "  & Df & Sum Sq & Mean Sq & F value & Pr(>F)\\\\\n",
       "\\hline\n",
       "\tSepal.Width &   1          &  1.4122375   &  1.41223754  &  15.001101   & 1.625435e-04\\\\\n",
       "\tPetal.Length &   1          & 84.4273316   & 84.42733161  & 896.805896   & 1.012376e-63\\\\\n",
       "\tPetal.Width &   1          &  1.8833593   &  1.88335927  &  20.005461   & 1.555536e-05\\\\\n",
       "\tSpecies &   2          &  0.8889198   &  0.44445992  &   4.721152   & 1.032884e-02\\\\\n",
       "\tResiduals & 144          & 13.5564851   &  0.09414226  &         NA   &           NA\\\\\n",
       "\\end{tabular}\n"
      ],
      "text/markdown": [
       "\n",
       "| <!--/--> | Df | Sum Sq | Mean Sq | F value | Pr(>F) |\n",
       "|---|---|---|---|---|---|\n",
       "| Sepal.Width |   1          |  1.4122375   |  1.41223754  |  15.001101   | 1.625435e-04 |\n",
       "| Petal.Length |   1          | 84.4273316   | 84.42733161  | 896.805896   | 1.012376e-63 |\n",
       "| Petal.Width |   1          |  1.8833593   |  1.88335927  |  20.005461   | 1.555536e-05 |\n",
       "| Species |   2          |  0.8889198   |  0.44445992  |   4.721152   | 1.032884e-02 |\n",
       "| Residuals | 144          | 13.5564851   |  0.09414226  |         NA   |           NA |\n",
       "\n"
      ],
      "text/plain": [
       "             Df  Sum Sq     Mean Sq     F value    Pr(>F)      \n",
       "Sepal.Width    1  1.4122375  1.41223754  15.001101 1.625435e-04\n",
       "Petal.Length   1 84.4273316 84.42733161 896.805896 1.012376e-63\n",
       "Petal.Width    1  1.8833593  1.88335927  20.005461 1.555536e-05\n",
       "Species        2  0.8889198  0.44445992   4.721152 1.032884e-02\n",
       "Residuals    144 13.5564851  0.09414226         NA           NA"
      ]
     },
     "metadata": {},
     "output_type": "display_data"
    }
   ],
   "source": [
    "anova(m)"
   ]
  },
  {
   "cell_type": "code",
   "execution_count": 4,
   "metadata": {},
   "outputs": [
    {
     "name": "stderr",
     "output_type": "stream",
     "text": [
      "Warning message:\n",
      "\"package 'mlbench' was built under R version 3.6.2\""
     ]
    }
   ],
   "source": [
    "library(mlbench)"
   ]
  },
  {
   "cell_type": "code",
   "execution_count": 5,
   "metadata": {},
   "outputs": [
    {
     "name": "stdout",
     "output_type": "stream",
     "text": [
      "'data.frame':\t506 obs. of  14 variables:\n",
      " $ crim   : num  0.00632 0.02731 0.02729 0.03237 0.06905 ...\n",
      " $ zn     : num  18 0 0 0 0 0 12.5 12.5 12.5 12.5 ...\n",
      " $ indus  : num  2.31 7.07 7.07 2.18 2.18 2.18 7.87 7.87 7.87 7.87 ...\n",
      " $ chas   : Factor w/ 2 levels \"0\",\"1\": 1 1 1 1 1 1 1 1 1 1 ...\n",
      " $ nox    : num  0.538 0.469 0.469 0.458 0.458 0.458 0.524 0.524 0.524 0.524 ...\n",
      " $ rm     : num  6.58 6.42 7.18 7 7.15 ...\n",
      " $ age    : num  65.2 78.9 61.1 45.8 54.2 58.7 66.6 96.1 100 85.9 ...\n",
      " $ dis    : num  4.09 4.97 4.97 6.06 6.06 ...\n",
      " $ rad    : num  1 2 2 3 3 3 5 5 5 5 ...\n",
      " $ tax    : num  296 242 242 222 222 222 311 311 311 311 ...\n",
      " $ ptratio: num  15.3 17.8 17.8 18.7 18.7 18.7 15.2 15.2 15.2 15.2 ...\n",
      " $ b      : num  397 397 393 395 397 ...\n",
      " $ lstat  : num  4.98 9.14 4.03 2.94 5.33 ...\n",
      " $ medv   : num  24 21.6 34.7 33.4 36.2 28.7 22.9 27.1 16.5 18.9 ...\n"
     ]
    }
   ],
   "source": [
    "data(BostonHousing)\n",
    "str(BostonHousing)"
   ]
  },
  {
   "cell_type": "code",
   "execution_count": 6,
   "metadata": {},
   "outputs": [
    {
     "data": {
      "text/plain": [
       "\n",
       "Call:\n",
       "lm(formula = medv ~ ., data = BostonHousing)\n",
       "\n",
       "Coefficients:\n",
       "(Intercept)         crim           zn        indus        chas1          nox  \n",
       "  3.646e+01   -1.080e-01    4.642e-02    2.056e-02    2.687e+00   -1.777e+01  \n",
       "         rm          age          dis          rad          tax      ptratio  \n",
       "  3.810e+00    6.922e-04   -1.476e+00    3.060e-01   -1.233e-02   -9.527e-01  \n",
       "          b        lstat  \n",
       "  9.312e-03   -5.248e-01  \n"
      ]
     },
     "metadata": {},
     "output_type": "display_data"
    }
   ],
   "source": [
    "(m <- lm(medv ~ ., data = BostonHousing))"
   ]
  },
  {
   "cell_type": "code",
   "execution_count": 7,
   "metadata": {},
   "outputs": [
    {
     "name": "stdout",
     "output_type": "stream",
     "text": [
      "Start:  AIC=1589.64\n",
      "medv ~ crim + zn + indus + chas + nox + rm + age + dis + rad + \n",
      "    tax + ptratio + b + lstat\n",
      "\n",
      "          Df Sum of Sq   RSS    AIC\n",
      "- age      1      0.06 11079 1587.7\n",
      "- indus    1      2.52 11081 1587.8\n",
      "<none>                 11079 1589.6\n",
      "- chas     1    218.97 11298 1597.5\n",
      "- tax      1    242.26 11321 1598.6\n",
      "- crim     1    243.22 11322 1598.6\n",
      "- zn       1    257.49 11336 1599.3\n",
      "- b        1    270.63 11349 1599.8\n",
      "- rad      1    479.15 11558 1609.1\n",
      "- nox      1    487.16 11566 1609.4\n",
      "- ptratio  1   1194.23 12273 1639.4\n",
      "- dis      1   1232.41 12311 1641.0\n",
      "- rm       1   1871.32 12950 1666.6\n",
      "- lstat    1   2410.84 13490 1687.3\n",
      "\n",
      "Step:  AIC=1587.65\n",
      "medv ~ crim + zn + indus + chas + nox + rm + dis + rad + tax + \n",
      "    ptratio + b + lstat\n",
      "\n",
      "          Df Sum of Sq   RSS    AIC\n",
      "- indus    1      2.52 11081 1585.8\n",
      "<none>                 11079 1587.7\n",
      "+ age      1      0.06 11079 1589.6\n",
      "- chas     1    219.91 11299 1595.6\n",
      "- tax      1    242.24 11321 1596.6\n",
      "- crim     1    243.20 11322 1596.6\n",
      "- zn       1    260.32 11339 1597.4\n",
      "- b        1    272.26 11351 1597.9\n",
      "- rad      1    481.09 11560 1607.2\n",
      "- nox      1    520.87 11600 1608.9\n",
      "- ptratio  1   1200.23 12279 1637.7\n",
      "- dis      1   1352.26 12431 1643.9\n",
      "- rm       1   1959.55 13038 1668.0\n",
      "- lstat    1   2718.88 13798 1696.7\n",
      "\n",
      "Step:  AIC=1585.76\n",
      "medv ~ crim + zn + chas + nox + rm + dis + rad + tax + ptratio + \n",
      "    b + lstat\n",
      "\n",
      "          Df Sum of Sq   RSS    AIC\n",
      "<none>                 11081 1585.8\n",
      "+ indus    1      2.52 11079 1587.7\n",
      "+ age      1      0.06 11081 1587.8\n",
      "- chas     1    227.21 11309 1594.0\n",
      "- crim     1    245.37 11327 1594.8\n",
      "- zn       1    257.82 11339 1595.4\n",
      "- b        1    270.82 11352 1596.0\n",
      "- tax      1    273.62 11355 1596.1\n",
      "- rad      1    500.92 11582 1606.1\n",
      "- nox      1    541.91 11623 1607.9\n",
      "- ptratio  1   1206.45 12288 1636.0\n",
      "- dis      1   1448.94 12530 1645.9\n",
      "- rm       1   1963.66 13045 1666.3\n",
      "- lstat    1   2723.48 13805 1695.0\n"
     ]
    },
    {
     "data": {
      "text/plain": [
       "\n",
       "Call:\n",
       "lm(formula = medv ~ crim + zn + chas + nox + rm + dis + rad + \n",
       "    tax + ptratio + b + lstat, data = BostonHousing)\n",
       "\n",
       "Coefficients:\n",
       "(Intercept)         crim           zn        chas1          nox           rm  \n",
       "  36.341145    -0.108413     0.045845     2.718716   -17.376023     3.801579  \n",
       "        dis          rad          tax      ptratio            b        lstat  \n",
       "  -1.492711     0.299608    -0.011778    -0.946525     0.009291    -0.522553  \n"
      ]
     },
     "metadata": {},
     "output_type": "display_data"
    }
   ],
   "source": [
    "(m2 <- step(m, direction = \"both\"))"
   ]
  },
  {
   "cell_type": "code",
   "execution_count": 12,
   "metadata": {},
   "outputs": [
    {
     "name": "stderr",
     "output_type": "stream",
     "text": [
      "Warning message:\n",
      "\"package 'leaps' was built under R version 3.6.2\""
     ]
    }
   ],
   "source": [
    "library(leaps)"
   ]
  },
  {
   "cell_type": "code",
   "execution_count": 13,
   "metadata": {},
   "outputs": [
    {
     "data": {
      "text/plain": [
       "Subset selection object\n",
       "Call: regsubsets.formula(medv ~ ., data = BostonHousing)\n",
       "13 Variables  (and intercept)\n",
       "        Forced in Forced out\n",
       "crim        FALSE      FALSE\n",
       "zn          FALSE      FALSE\n",
       "indus       FALSE      FALSE\n",
       "chas1       FALSE      FALSE\n",
       "nox         FALSE      FALSE\n",
       "rm          FALSE      FALSE\n",
       "age         FALSE      FALSE\n",
       "dis         FALSE      FALSE\n",
       "rad         FALSE      FALSE\n",
       "tax         FALSE      FALSE\n",
       "ptratio     FALSE      FALSE\n",
       "b           FALSE      FALSE\n",
       "lstat       FALSE      FALSE\n",
       "1 subsets of each size up to 8\n",
       "Selection Algorithm: exhaustive\n",
       "         crim zn  indus chas1 nox rm  age dis rad tax ptratio b   lstat\n",
       "1  ( 1 ) \" \"  \" \" \" \"   \" \"   \" \" \" \" \" \" \" \" \" \" \" \" \" \"     \" \" \"*\"  \n",
       "2  ( 1 ) \" \"  \" \" \" \"   \" \"   \" \" \"*\" \" \" \" \" \" \" \" \" \" \"     \" \" \"*\"  \n",
       "3  ( 1 ) \" \"  \" \" \" \"   \" \"   \" \" \"*\" \" \" \" \" \" \" \" \" \"*\"     \" \" \"*\"  \n",
       "4  ( 1 ) \" \"  \" \" \" \"   \" \"   \" \" \"*\" \" \" \"*\" \" \" \" \" \"*\"     \" \" \"*\"  \n",
       "5  ( 1 ) \" \"  \" \" \" \"   \" \"   \"*\" \"*\" \" \" \"*\" \" \" \" \" \"*\"     \" \" \"*\"  \n",
       "6  ( 1 ) \" \"  \" \" \" \"   \"*\"   \"*\" \"*\" \" \" \"*\" \" \" \" \" \"*\"     \" \" \"*\"  \n",
       "7  ( 1 ) \" \"  \" \" \" \"   \"*\"   \"*\" \"*\" \" \" \"*\" \" \" \" \" \"*\"     \"*\" \"*\"  \n",
       "8  ( 1 ) \" \"  \"*\" \" \"   \"*\"   \"*\" \"*\" \" \" \"*\" \" \" \" \" \"*\"     \"*\" \"*\"  "
      ]
     },
     "metadata": {},
     "output_type": "display_data"
    }
   ],
   "source": [
    "m <- regsubsets(medv ~ ., data = BostonHousing)\n",
    "summary(m)"
   ]
  },
  {
   "cell_type": "code",
   "execution_count": 14,
   "metadata": {},
   "outputs": [
    {
     "data": {
      "text/html": [
       "<ol class=list-inline>\n",
       "\t<li>-385.052101247635</li>\n",
       "\t<li>-496.258207179303</li>\n",
       "\t<li>-549.476717389884</li>\n",
       "\t<li>-561.98840327717</li>\n",
       "\t<li>-585.682278303424</li>\n",
       "\t<li>-592.955325082239</li>\n",
       "\t<li>-598.229455420905</li>\n",
       "\t<li>-600.16630836436</li>\n",
       "</ol>\n"
      ],
      "text/latex": [
       "\\begin{enumerate*}\n",
       "\\item -385.052101247635\n",
       "\\item -496.258207179303\n",
       "\\item -549.476717389884\n",
       "\\item -561.98840327717\n",
       "\\item -585.682278303424\n",
       "\\item -592.955325082239\n",
       "\\item -598.229455420905\n",
       "\\item -600.16630836436\n",
       "\\end{enumerate*}\n"
      ],
      "text/markdown": [
       "1. -385.052101247635\n",
       "2. -496.258207179303\n",
       "3. -549.476717389884\n",
       "4. -561.98840327717\n",
       "5. -585.682278303424\n",
       "6. -592.955325082239\n",
       "7. -598.229455420905\n",
       "8. -600.16630836436\n",
       "\n",
       "\n"
      ],
      "text/plain": [
       "[1] -385.0521 -496.2582 -549.4767 -561.9884 -585.6823 -592.9553 -598.2295\n",
       "[8] -600.1663"
      ]
     },
     "metadata": {},
     "output_type": "display_data"
    }
   ],
   "source": [
    "summary(m)$bic"
   ]
  },
  {
   "cell_type": "code",
   "execution_count": 15,
   "metadata": {},
   "outputs": [
    {
     "data": {
      "text/html": [
       "<ol class=list-inline>\n",
       "\t<li>0.543241825954707</li>\n",
       "\t<li>0.637124475470123</li>\n",
       "\t<li>0.676703587413271</li>\n",
       "\t<li>0.687835108484128</li>\n",
       "\t<li>0.705170182246496</li>\n",
       "\t<li>0.712356667191387</li>\n",
       "\t<li>0.718256040715851</li>\n",
       "\t<li>0.722207180409456</li>\n",
       "</ol>\n"
      ],
      "text/latex": [
       "\\begin{enumerate*}\n",
       "\\item 0.543241825954707\n",
       "\\item 0.637124475470123\n",
       "\\item 0.676703587413271\n",
       "\\item 0.687835108484128\n",
       "\\item 0.705170182246496\n",
       "\\item 0.712356667191387\n",
       "\\item 0.718256040715851\n",
       "\\item 0.722207180409456\n",
       "\\end{enumerate*}\n"
      ],
      "text/markdown": [
       "1. 0.543241825954707\n",
       "2. 0.637124475470123\n",
       "3. 0.676703587413271\n",
       "4. 0.687835108484128\n",
       "5. 0.705170182246496\n",
       "6. 0.712356667191387\n",
       "7. 0.718256040715851\n",
       "8. 0.722207180409456\n",
       "\n",
       "\n"
      ],
      "text/plain": [
       "[1] 0.5432418 0.6371245 0.6767036 0.6878351 0.7051702 0.7123567 0.7182560\n",
       "[8] 0.7222072"
      ]
     },
     "metadata": {},
     "output_type": "display_data"
    }
   ],
   "source": [
    "summary(m)$adjr2"
   ]
  },
  {
   "cell_type": "code",
   "execution_count": 16,
   "metadata": {},
   "outputs": [
    {
     "data": {
      "text/plain": [
       "\n",
       "Call:\n",
       "lm(formula = medv ~ zn + chas + nox + rm + dis + ptratio + b + \n",
       "    lstat, data = BostonHousing)\n",
       "\n",
       "Residuals:\n",
       "     Min       1Q   Median       3Q      Max \n",
       "-15.6996  -2.7925  -0.5477   1.7005  27.6510 \n",
       "\n",
       "Coefficients:\n",
       "              Estimate Std. Error t value Pr(>|t|)    \n",
       "(Intercept)  30.316950   4.870856   6.224 1.03e-09 ***\n",
       "zn            0.037808   0.013298   2.843 0.004652 ** \n",
       "chas1         3.111062   0.870076   3.576 0.000384 ***\n",
       "nox         -16.687428   3.228873  -5.168 3.43e-07 ***\n",
       "rm            4.116082   0.408594  10.074  < 2e-16 ***\n",
       "dis          -1.382714   0.187604  -7.370 7.15e-13 ***\n",
       "ptratio      -0.881851   0.115718  -7.621 1.29e-13 ***\n",
       "b             0.009404   0.002639   3.563 0.000401 ***\n",
       "lstat        -0.543125   0.047652 -11.398  < 2e-16 ***\n",
       "---\n",
       "Signif. codes:  0 '***' 0.001 '**' 0.01 '*' 0.05 '.' 0.1 ' ' 1\n",
       "\n",
       "Residual standard error: 4.847 on 497 degrees of freedom\n",
       "Multiple R-squared:  0.7266,\tAdjusted R-squared:  0.7222 \n",
       "F-statistic: 165.1 on 8 and 497 DF,  p-value: < 2.2e-16\n"
      ]
     },
     "metadata": {},
     "output_type": "display_data"
    }
   ],
   "source": [
    "mm <- lm(medv ~ zn + chas + nox + rm + dis + ptratio + b + lstat, data = BostonHousing)\n",
    "summary(mm)"
   ]
  },
  {
   "cell_type": "code",
   "execution_count": 19,
   "metadata": {},
   "outputs": [
    {
     "name": "stderr",
     "output_type": "stream",
     "text": [
      "Warning message:\n",
      "\"package 'car' was built under R version 3.6.2\"Loading required package: carData\n"
     ]
    }
   ],
   "source": [
    "library(car)"
   ]
  },
  {
   "cell_type": "code",
   "execution_count": 20,
   "metadata": {},
   "outputs": [
    {
     "data": {
      "text/plain": [
       "    rstudent unadjusted p-value Bonferroni p\n",
       "369 6.045232         2.9359e-09   1.4856e-06\n",
       "372 5.507836         5.8418e-08   2.9559e-05\n",
       "373 5.293814         1.8026e-07   9.1210e-05"
      ]
     },
     "metadata": {},
     "output_type": "display_data"
    }
   ],
   "source": [
    "outlierTest(mm)"
   ]
  },
  {
   "cell_type": "code",
   "execution_count": 29,
   "metadata": {},
   "outputs": [
    {
     "data": {
      "text/html": [
       "<dl class=dl-horizontal>\n",
       "\t<dt>zn</dt>\n",
       "\t\t<dd>2.06728893313099</dd>\n",
       "\t<dt>chas</dt>\n",
       "\t\t<dd>1.04961460183919</dd>\n",
       "\t<dt>nox</dt>\n",
       "\t\t<dd>3.0086351625618</dd>\n",
       "\t<dt>rm</dt>\n",
       "\t\t<dd>1.77129167967903</dd>\n",
       "\t<dt>dis</dt>\n",
       "\t\t<dd>3.35388524639145</dd>\n",
       "\t<dt>ptratio</dt>\n",
       "\t\t<dd>1.34883979102906</dd>\n",
       "\t<dt>b</dt>\n",
       "\t\t<dd>1.24748830397883</dd>\n",
       "\t<dt>lstat</dt>\n",
       "\t\t<dd>2.48863985876114</dd>\n",
       "</dl>\n"
      ],
      "text/latex": [
       "\\begin{description*}\n",
       "\\item[zn] 2.06728893313099\n",
       "\\item[chas] 1.04961460183919\n",
       "\\item[nox] 3.0086351625618\n",
       "\\item[rm] 1.77129167967903\n",
       "\\item[dis] 3.35388524639145\n",
       "\\item[ptratio] 1.34883979102906\n",
       "\\item[b] 1.24748830397883\n",
       "\\item[lstat] 2.48863985876114\n",
       "\\end{description*}\n"
      ],
      "text/markdown": [
       "zn\n",
       ":   2.06728893313099chas\n",
       ":   1.04961460183919nox\n",
       ":   3.0086351625618rm\n",
       ":   1.77129167967903dis\n",
       ":   3.35388524639145ptratio\n",
       ":   1.34883979102906b\n",
       ":   1.24748830397883lstat\n",
       ":   2.48863985876114\n",
       "\n"
      ],
      "text/plain": [
       "      zn     chas      nox       rm      dis  ptratio        b    lstat \n",
       "2.067289 1.049615 3.008635 1.771292 3.353885 1.348840 1.247488 2.488640 "
      ]
     },
     "metadata": {},
     "output_type": "display_data"
    }
   ],
   "source": [
    "vif(mm)"
   ]
  },
  {
   "cell_type": "code",
   "execution_count": 30,
   "metadata": {},
   "outputs": [
    {
     "data": {
      "text/html": [
       "<dl class=dl-horizontal>\n",
       "\t<dt>zn</dt>\n",
       "\t\t<dd>FALSE</dd>\n",
       "\t<dt>chas</dt>\n",
       "\t\t<dd>FALSE</dd>\n",
       "\t<dt>nox</dt>\n",
       "\t\t<dd>FALSE</dd>\n",
       "\t<dt>rm</dt>\n",
       "\t\t<dd>FALSE</dd>\n",
       "\t<dt>dis</dt>\n",
       "\t\t<dd>FALSE</dd>\n",
       "\t<dt>ptratio</dt>\n",
       "\t\t<dd>FALSE</dd>\n",
       "\t<dt>b</dt>\n",
       "\t\t<dd>FALSE</dd>\n",
       "\t<dt>lstat</dt>\n",
       "\t\t<dd>FALSE</dd>\n",
       "</dl>\n"
      ],
      "text/latex": [
       "\\begin{description*}\n",
       "\\item[zn] FALSE\n",
       "\\item[chas] FALSE\n",
       "\\item[nox] FALSE\n",
       "\\item[rm] FALSE\n",
       "\\item[dis] FALSE\n",
       "\\item[ptratio] FALSE\n",
       "\\item[b] FALSE\n",
       "\\item[lstat] FALSE\n",
       "\\end{description*}\n"
      ],
      "text/markdown": [
       "zn\n",
       ":   FALSEchas\n",
       ":   FALSEnox\n",
       ":   FALSErm\n",
       ":   FALSEdis\n",
       ":   FALSEptratio\n",
       ":   FALSEb\n",
       ":   FALSElstat\n",
       ":   FALSE\n",
       "\n"
      ],
      "text/plain": [
       "     zn    chas     nox      rm     dis ptratio       b   lstat \n",
       "  FALSE   FALSE   FALSE   FALSE   FALSE   FALSE   FALSE   FALSE "
      ]
     },
     "metadata": {},
     "output_type": "display_data"
    }
   ],
   "source": [
    "sqrt(vif(mm)) > 2"
   ]
  },
  {
   "cell_type": "code",
   "execution_count": null,
   "metadata": {},
   "outputs": [],
   "source": []
  }
 ],
 "metadata": {
  "kernelspec": {
   "display_name": "R",
   "language": "R",
   "name": "ir"
  },
  "language_info": {
   "codemirror_mode": "r",
   "file_extension": ".r",
   "mimetype": "text/x-r-source",
   "name": "R",
   "pygments_lexer": "r",
   "version": "3.6.1"
  }
 },
 "nbformat": 4,
 "nbformat_minor": 4
}
