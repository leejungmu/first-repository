{
 "cells": [
  {
   "cell_type": "code",
   "execution_count": 10,
   "metadata": {},
   "outputs": [
    {
     "data": {
      "text/html": [
       "<table>\n",
       "<thead><tr><th scope=col>speed</th><th scope=col>dist</th></tr></thead>\n",
       "<tbody>\n",
       "\t<tr><td>4 </td><td> 2</td></tr>\n",
       "\t<tr><td>4 </td><td>10</td></tr>\n",
       "\t<tr><td>7 </td><td> 4</td></tr>\n",
       "\t<tr><td>7 </td><td>22</td></tr>\n",
       "\t<tr><td>8 </td><td>16</td></tr>\n",
       "\t<tr><td>9 </td><td>10</td></tr>\n",
       "</tbody>\n",
       "</table>\n"
      ],
      "text/latex": [
       "\\begin{tabular}{r|ll}\n",
       " speed & dist\\\\\n",
       "\\hline\n",
       "\t 4  &  2\\\\\n",
       "\t 4  & 10\\\\\n",
       "\t 7  &  4\\\\\n",
       "\t 7  & 22\\\\\n",
       "\t 8  & 16\\\\\n",
       "\t 9  & 10\\\\\n",
       "\\end{tabular}\n"
      ],
      "text/markdown": [
       "\n",
       "| speed | dist |\n",
       "|---|---|\n",
       "| 4  |  2 |\n",
       "| 4  | 10 |\n",
       "| 7  |  4 |\n",
       "| 7  | 22 |\n",
       "| 8  | 16 |\n",
       "| 9  | 10 |\n",
       "\n"
      ],
      "text/plain": [
       "  speed dist\n",
       "1 4      2  \n",
       "2 4     10  \n",
       "3 7      4  \n",
       "4 7     22  \n",
       "5 8     16  \n",
       "6 9     10  "
      ]
     },
     "metadata": {},
     "output_type": "display_data"
    }
   ],
   "source": [
    "data(cars)\n",
    "head(cars)"
   ]
  },
  {
   "cell_type": "code",
   "execution_count": 11,
   "metadata": {},
   "outputs": [
    {
     "name": "stdout",
     "output_type": "stream",
     "text": [
      "'data.frame':\t50 obs. of  2 variables:\n",
      " $ speed: num  4 4 7 7 8 9 10 10 10 11 ...\n",
      " $ dist : num  2 10 4 22 16 10 18 26 34 17 ...\n"
     ]
    }
   ],
   "source": [
    "str(cars)"
   ]
  },
  {
   "cell_type": "code",
   "execution_count": 14,
   "metadata": {},
   "outputs": [
    {
     "data": {
      "text/plain": [
       "\n",
       "Call:\n",
       "lm(formula = dist ~ speed, data = cars)\n",
       "\n",
       "Coefficients:\n",
       "(Intercept)        speed  \n",
       "    -17.579        3.932  \n"
      ]
     },
     "metadata": {},
     "output_type": "display_data"
    }
   ],
   "source": [
    "(m <- lm(dist ~ speed, data = cars))"
   ]
  },
  {
   "cell_type": "code",
   "execution_count": 20,
   "metadata": {},
   "outputs": [
    {
     "data": {
      "text/html": [
       "<table>\n",
       "<thead><tr><th></th><th scope=col>2.5 %</th><th scope=col>97.5 %</th></tr></thead>\n",
       "<tbody>\n",
       "\t<tr><th scope=row>(Intercept)</th><td>-31.167850</td><td>-3.990340 </td></tr>\n",
       "\t<tr><th scope=row>speed</th><td>  3.096964</td><td> 4.767853 </td></tr>\n",
       "</tbody>\n",
       "</table>\n"
      ],
      "text/latex": [
       "\\begin{tabular}{r|ll}\n",
       "  & 2.5 \\% & 97.5 \\%\\\\\n",
       "\\hline\n",
       "\t(Intercept) & -31.167850 & -3.990340 \\\\\n",
       "\tspeed &   3.096964 &  4.767853 \\\\\n",
       "\\end{tabular}\n"
      ],
      "text/markdown": [
       "\n",
       "| <!--/--> | 2.5 % | 97.5 % |\n",
       "|---|---|---|\n",
       "| (Intercept) | -31.167850 | -3.990340  |\n",
       "| speed |   3.096964 |  4.767853  |\n",
       "\n"
      ],
      "text/plain": [
       "            2.5 %      97.5 %   \n",
       "(Intercept) -31.167850 -3.990340\n",
       "speed         3.096964  4.767853"
      ]
     },
     "metadata": {},
     "output_type": "display_data"
    }
   ],
   "source": [
    "confint(m)"
   ]
  },
  {
   "cell_type": "code",
   "execution_count": 21,
   "metadata": {},
   "outputs": [
    {
     "data": {
      "text/html": [
       "11353.5210510949"
      ],
      "text/latex": [
       "11353.5210510949"
      ],
      "text/markdown": [
       "11353.5210510949"
      ],
      "text/plain": [
       "[1] 11353.52"
      ]
     },
     "metadata": {},
     "output_type": "display_data"
    }
   ],
   "source": [
    "deviance(m)"
   ]
  },
  {
   "cell_type": "code",
   "execution_count": 22,
   "metadata": {},
   "outputs": [
    {
     "data": {
      "text/html": [
       "<strong>1:</strong> -5.78186861313867"
      ],
      "text/latex": [
       "\\textbf{1:} -5.78186861313867"
      ],
      "text/markdown": [
       "**1:** -5.78186861313867"
      ],
      "text/plain": [
       "        1 \n",
       "-5.781869 "
      ]
     },
     "metadata": {},
     "output_type": "display_data"
    }
   ],
   "source": [
    "predict(m, newdata = data.frame(speed = 3))"
   ]
  },
  {
   "cell_type": "code",
   "execution_count": 23,
   "metadata": {},
   "outputs": [
    {
     "data": {
      "text/html": [
       "<table>\n",
       "<thead><tr><th scope=col>fit</th><th scope=col>lwr</th><th scope=col>upr</th></tr></thead>\n",
       "<tbody>\n",
       "\t<tr><td>-5.781869</td><td>-17.02659</td><td>5.462853 </td></tr>\n",
       "</tbody>\n",
       "</table>\n"
      ],
      "text/latex": [
       "\\begin{tabular}{r|lll}\n",
       " fit & lwr & upr\\\\\n",
       "\\hline\n",
       "\t -5.781869 & -17.02659 & 5.462853 \\\\\n",
       "\\end{tabular}\n"
      ],
      "text/markdown": [
       "\n",
       "| fit | lwr | upr |\n",
       "|---|---|---|\n",
       "| -5.781869 | -17.02659 | 5.462853  |\n",
       "\n"
      ],
      "text/plain": [
       "  fit       lwr       upr     \n",
       "1 -5.781869 -17.02659 5.462853"
      ]
     },
     "metadata": {},
     "output_type": "display_data"
    }
   ],
   "source": [
    "predict(m, newdata = data.frame(speed = 3), interval = \"confidence\")"
   ]
  },
  {
   "cell_type": "code",
   "execution_count": 24,
   "metadata": {},
   "outputs": [
    {
     "data": {
      "text/html": [
       "<table>\n",
       "<thead><tr><th scope=col>fit</th><th scope=col>lwr</th><th scope=col>upr</th></tr></thead>\n",
       "<tbody>\n",
       "\t<tr><td>-5.781869</td><td>-38.68565</td><td>27.12192 </td></tr>\n",
       "</tbody>\n",
       "</table>\n"
      ],
      "text/latex": [
       "\\begin{tabular}{r|lll}\n",
       " fit & lwr & upr\\\\\n",
       "\\hline\n",
       "\t -5.781869 & -38.68565 & 27.12192 \\\\\n",
       "\\end{tabular}\n"
      ],
      "text/markdown": [
       "\n",
       "| fit | lwr | upr |\n",
       "|---|---|---|\n",
       "| -5.781869 | -38.68565 | 27.12192  |\n",
       "\n"
      ],
      "text/plain": [
       "  fit       lwr       upr     \n",
       "1 -5.781869 -38.68565 27.12192"
      ]
     },
     "metadata": {},
     "output_type": "display_data"
    }
   ],
   "source": [
    "predict(m, newdata = data.frame(speed = 3), interval = \"prediction\")"
   ]
  },
  {
   "cell_type": "code",
   "execution_count": 25,
   "metadata": {},
   "outputs": [
    {
     "data": {
      "text/plain": [
       "\n",
       "Call:\n",
       "lm(formula = dist ~ speed, data = cars)\n",
       "\n",
       "Residuals:\n",
       "    Min      1Q  Median      3Q     Max \n",
       "-29.069  -9.525  -2.272   9.215  43.201 \n",
       "\n",
       "Coefficients:\n",
       "            Estimate Std. Error t value Pr(>|t|)    \n",
       "(Intercept) -17.5791     6.7584  -2.601   0.0123 *  \n",
       "speed         3.9324     0.4155   9.464 1.49e-12 ***\n",
       "---\n",
       "Signif. codes:  0 '***' 0.001 '**' 0.01 '*' 0.05 '.' 0.1 ' ' 1\n",
       "\n",
       "Residual standard error: 15.38 on 48 degrees of freedom\n",
       "Multiple R-squared:  0.6511,\tAdjusted R-squared:  0.6438 \n",
       "F-statistic: 89.57 on 1 and 48 DF,  p-value: 1.49e-12\n"
      ]
     },
     "metadata": {},
     "output_type": "display_data"
    }
   ],
   "source": [
    "summary(m)"
   ]
  },
  {
   "cell_type": "code",
   "execution_count": 26,
   "metadata": {},
   "outputs": [
    {
     "data": {
      "text/html": [
       "<table>\n",
       "<thead><tr><th></th><th scope=col>Df</th><th scope=col>Sum Sq</th><th scope=col>Mean Sq</th><th scope=col>F value</th><th scope=col>Pr(&gt;F)</th></tr></thead>\n",
       "<tbody>\n",
       "\t<tr><th scope=row>speed</th><td> 1          </td><td>21185.46    </td><td>21185.4589  </td><td>89.56711    </td><td>1.489836e-12</td></tr>\n",
       "\t<tr><th scope=row>Residuals</th><td>48          </td><td>11353.52    </td><td>  236.5317  </td><td>      NA    </td><td>          NA</td></tr>\n",
       "</tbody>\n",
       "</table>\n"
      ],
      "text/latex": [
       "\\begin{tabular}{r|lllll}\n",
       "  & Df & Sum Sq & Mean Sq & F value & Pr(>F)\\\\\n",
       "\\hline\n",
       "\tspeed &  1           & 21185.46     & 21185.4589   & 89.56711     & 1.489836e-12\\\\\n",
       "\tResiduals & 48           & 11353.52     &   236.5317   &       NA     &           NA\\\\\n",
       "\\end{tabular}\n"
      ],
      "text/markdown": [
       "\n",
       "| <!--/--> | Df | Sum Sq | Mean Sq | F value | Pr(>F) |\n",
       "|---|---|---|---|---|---|\n",
       "| speed |  1           | 21185.46     | 21185.4589   | 89.56711     | 1.489836e-12 |\n",
       "| Residuals | 48           | 11353.52     |   236.5317   |       NA     |           NA |\n",
       "\n"
      ],
      "text/plain": [
       "          Df Sum Sq   Mean Sq    F value  Pr(>F)      \n",
       "speed      1 21185.46 21185.4589 89.56711 1.489836e-12\n",
       "Residuals 48 11353.52   236.5317       NA           NA"
      ]
     },
     "metadata": {},
     "output_type": "display_data"
    }
   ],
   "source": [
    "anova(m)"
   ]
  },
  {
   "cell_type": "code",
   "execution_count": 27,
   "metadata": {},
   "outputs": [
    {
     "data": {
      "text/plain": [
       "\n",
       "Call:\n",
       "lm(formula = dist ~ speed, data = cars)\n",
       "\n",
       "Coefficients:\n",
       "(Intercept)        speed  \n",
       "    -17.579        3.932  \n"
      ]
     },
     "metadata": {},
     "output_type": "display_data"
    },
    {
     "data": {
      "text/plain": [
       "\n",
       "Call:\n",
       "lm(formula = dist ~ 1, data = cars)\n",
       "\n",
       "Coefficients:\n",
       "(Intercept)  \n",
       "      42.98  \n"
      ]
     },
     "metadata": {},
     "output_type": "display_data"
    },
    {
     "data": {
      "text/html": [
       "<table>\n",
       "<thead><tr><th scope=col>Res.Df</th><th scope=col>RSS</th><th scope=col>Df</th><th scope=col>Sum of Sq</th><th scope=col>F</th><th scope=col>Pr(&gt;F)</th></tr></thead>\n",
       "<tbody>\n",
       "\t<tr><td>49          </td><td>32538.98    </td><td>NA          </td><td>      NA    </td><td>      NA    </td><td>          NA</td></tr>\n",
       "\t<tr><td>48          </td><td>11353.52    </td><td> 1          </td><td>21185.46    </td><td>89.56711    </td><td>1.489836e-12</td></tr>\n",
       "</tbody>\n",
       "</table>\n"
      ],
      "text/latex": [
       "\\begin{tabular}{r|llllll}\n",
       " Res.Df & RSS & Df & Sum of Sq & F & Pr(>F)\\\\\n",
       "\\hline\n",
       "\t 49           & 32538.98     & NA           &       NA     &       NA     &           NA\\\\\n",
       "\t 48           & 11353.52     &  1           & 21185.46     & 89.56711     & 1.489836e-12\\\\\n",
       "\\end{tabular}\n"
      ],
      "text/markdown": [
       "\n",
       "| Res.Df | RSS | Df | Sum of Sq | F | Pr(>F) |\n",
       "|---|---|---|---|---|---|\n",
       "| 49           | 32538.98     | NA           |       NA     |       NA     |           NA |\n",
       "| 48           | 11353.52     |  1           | 21185.46     | 89.56711     | 1.489836e-12 |\n",
       "\n"
      ],
      "text/plain": [
       "  Res.Df RSS      Df Sum of Sq F        Pr(>F)      \n",
       "1 49     32538.98 NA       NA        NA           NA\n",
       "2 48     11353.52  1 21185.46  89.56711 1.489836e-12"
      ]
     },
     "metadata": {},
     "output_type": "display_data"
    }
   ],
   "source": [
    "(full <- lm(dist ~ speed, data = cars))\n",
    "(reduced <- lm(dist ~ 1, data = cars))\n",
    "anova(reduced, full)"
   ]
  },
  {
   "cell_type": "code",
   "execution_count": 28,
   "metadata": {},
   "outputs": [
    {
     "data": {
      "image/png": "[encoded data removed]",
      "text/plain": [
       "Plot with title \"\""
      ]
     },
     "metadata": {},
     "output_type": "display_data"
    },
    {
     "data": {
      "image/png": "[encoded data removed]",
      "text/plain": [
       "Plot with title \"\""
      ]
     },
     "metadata": {},
     "output_type": "display_data"
    },
    {
     "data": {
      "image/png": "[encoded data removed]",
      "text/plain": [
       "Plot with title \"\""
      ]
     },
     "metadata": {},
     "output_type": "display_data"
    },
    {
     "data": {
      "image/png": "[encoded data removed]",
      "text/plain": [
       "Plot with title \"\""
      ]
     },
     "metadata": {},
     "output_type": "display_data"
    }
   ],
   "source": [
    "plot(m)"
   ]
  },
  {
   "cell_type": "code",
   "execution_count": 29,
   "metadata": {},
   "outputs": [
    {
     "data": {
      "image/png": "[encoded data removed]",
      "text/plain": [
       "Plot with title \"\""
      ]
     },
     "metadata": {},
     "output_type": "display_data"
    },
    {
     "data": {
      "image/png": "[encoded data removed]",
      "text/plain": [
       "Plot with title \"\""
      ]
     },
     "metadata": {},
     "output_type": "display_data"
    }
   ],
   "source": [
    "plot(m, which = c(4, 6))"
   ]
  },
  {
   "cell_type": "code",
   "execution_count": 30,
   "metadata": {},
   "outputs": [
    {
     "data": {
      "image/png": "[encoded data removed]",
      "text/plain": [
       "plot without title"
      ]
     },
     "metadata": {},
     "output_type": "display_data"
    }
   ],
   "source": [
    "plot(cars$speed, cars$dist)\n",
    "abline(coef(m))"
   ]
  },
  {
   "cell_type": "code",
   "execution_count": 31,
   "metadata": {},
   "outputs": [
    {
     "data": {
      "text/plain": [
       "   Min. 1st Qu.  Median    Mean 3rd Qu.    Max. \n",
       "    4.0    12.0    15.0    15.4    19.0    25.0 "
      ]
     },
     "metadata": {},
     "output_type": "display_data"
    }
   ],
   "source": [
    "summary(cars$speed)"
   ]
  },
  {
   "cell_type": "code",
   "execution_count": 32,
   "metadata": {},
   "outputs": [
    {
     "data": {
      "text/html": [
       "<table>\n",
       "<thead><tr><th scope=col>fit</th><th scope=col>lwr</th><th scope=col>upr</th></tr></thead>\n",
       "<tbody>\n",
       "\t<tr><td>-1.8494599 </td><td>-12.3295433</td><td> 8.630624  </td></tr>\n",
       "\t<tr><td>-1.0629781 </td><td>-11.3914503</td><td> 9.265494  </td></tr>\n",
       "\t<tr><td>-0.2764964 </td><td>-10.4538419</td><td> 9.900849  </td></tr>\n",
       "\t<tr><td> 0.5099854 </td><td> -9.5167401</td><td>10.536711  </td></tr>\n",
       "\t<tr><td> 1.2964672 </td><td> -8.5801681</td><td>11.173102  </td></tr>\n",
       "\t<tr><td> 2.0829489 </td><td> -7.6441504</td><td>11.810048  </td></tr>\n",
       "\t<tr><td> 2.8694307 </td><td> -6.7087129</td><td>12.447574  </td></tr>\n",
       "\t<tr><td> 3.6559124 </td><td> -5.7738833</td><td>13.085708  </td></tr>\n",
       "\t<tr><td> 4.4423942 </td><td> -4.8396905</td><td>13.724479  </td></tr>\n",
       "\t<tr><td> 5.2288759 </td><td> -3.9061655</td><td>14.363917  </td></tr>\n",
       "\t<tr><td> 6.0153577 </td><td> -2.9733411</td><td>15.004056  </td></tr>\n",
       "\t<tr><td> 6.8018394 </td><td> -2.0412521</td><td>15.644931  </td></tr>\n",
       "\t<tr><td> 7.5883212 </td><td> -1.1099353</td><td>16.286578  </td></tr>\n",
       "\t<tr><td> 8.3748029 </td><td> -0.1794301</td><td>16.929036  </td></tr>\n",
       "\t<tr><td> 9.1612847 </td><td>  0.7502220</td><td>17.572347  </td></tr>\n",
       "\t<tr><td> 9.9477664 </td><td>  1.6789765</td><td>18.216556  </td></tr>\n",
       "\t<tr><td>10.7342482 </td><td>  2.6067864</td><td>18.861710  </td></tr>\n",
       "\t<tr><td>11.5207299 </td><td>  3.5336015</td><td>19.507858  </td></tr>\n",
       "\t<tr><td>12.3072117 </td><td>  4.4593685</td><td>20.155055  </td></tr>\n",
       "\t<tr><td>13.0936934 </td><td>  5.3840304</td><td>20.803356  </td></tr>\n",
       "\t<tr><td>13.8801752 </td><td>  6.3075269</td><td>21.452823  </td></tr>\n",
       "\t<tr><td>14.6666569 </td><td>  7.2297936</td><td>22.103520  </td></tr>\n",
       "\t<tr><td>15.4531387 </td><td>  8.1507617</td><td>22.755516  </td></tr>\n",
       "\t<tr><td>16.2396204 </td><td>  9.0703583</td><td>23.408883  </td></tr>\n",
       "\t<tr><td>17.0261022 </td><td>  9.9885055</td><td>24.063699  </td></tr>\n",
       "\t<tr><td>17.8125839 </td><td> 10.9051205</td><td>24.720047  </td></tr>\n",
       "\t<tr><td>18.5990657 </td><td> 11.8201149</td><td>25.378016  </td></tr>\n",
       "\t<tr><td>19.3855474 </td><td> 12.7333949</td><td>26.037700  </td></tr>\n",
       "\t<tr><td>20.1720292 </td><td> 13.6448606</td><td>26.699198  </td></tr>\n",
       "\t<tr><td>20.9585109 </td><td> 14.5544057</td><td>27.362616  </td></tr>\n",
       "\t<tr><td>...</td><td>...</td><td>...</td></tr>\n",
       "\t<tr><td>58.70964</td><td>53.20584</td><td>64.21343</td></tr>\n",
       "\t<tr><td>59.49612</td><td>53.88929</td><td>65.10294</td></tr>\n",
       "\t<tr><td>60.28260</td><td>54.56972</td><td>65.99547</td></tr>\n",
       "\t<tr><td>61.06908</td><td>55.24729</td><td>66.89088</td></tr>\n",
       "\t<tr><td>61.85556</td><td>55.92214</td><td>67.78898</td></tr>\n",
       "\t<tr><td>62.64204</td><td>56.59444</td><td>68.68965</td></tr>\n",
       "\t<tr><td>63.42853</td><td>57.26433</td><td>69.59272</td></tr>\n",
       "\t<tr><td>64.21501</td><td>57.93193</td><td>70.49808</td></tr>\n",
       "\t<tr><td>65.00149</td><td>58.59738</td><td>71.40559</td></tr>\n",
       "\t<tr><td>65.78797</td><td>59.26080</td><td>72.31514</td></tr>\n",
       "\t<tr><td>66.57445</td><td>59.92230</td><td>73.22661</td></tr>\n",
       "\t<tr><td>67.36093</td><td>60.58198</td><td>74.13989</td></tr>\n",
       "\t<tr><td>68.14742</td><td>61.23995</td><td>75.05488</td></tr>\n",
       "\t<tr><td>68.93390</td><td>61.89630</td><td>75.97149</td></tr>\n",
       "\t<tr><td>69.72038</td><td>62.55112</td><td>76.88964</td></tr>\n",
       "\t<tr><td>70.50686</td><td>63.20448</td><td>77.80924</td></tr>\n",
       "\t<tr><td>71.29334</td><td>63.85648</td><td>78.73021</td></tr>\n",
       "\t<tr><td>72.07982</td><td>64.50718</td><td>79.65247</td></tr>\n",
       "\t<tr><td>72.86631</td><td>65.15664</td><td>80.57597</td></tr>\n",
       "\t<tr><td>73.65279</td><td>65.80495</td><td>81.50063</td></tr>\n",
       "\t<tr><td>74.43927</td><td>66.45214</td><td>82.42640</td></tr>\n",
       "\t<tr><td>75.22575</td><td>67.09829</td><td>83.35321</td></tr>\n",
       "\t<tr><td>76.01223</td><td>67.74344</td><td>84.28102</td></tr>\n",
       "\t<tr><td>76.79872</td><td>68.38765</td><td>85.20978</td></tr>\n",
       "\t<tr><td>77.58520</td><td>69.03096</td><td>86.13943</td></tr>\n",
       "\t<tr><td>78.37168</td><td>69.67342</td><td>87.06994</td></tr>\n",
       "\t<tr><td>79.15816</td><td>70.31507</td><td>88.00125</td></tr>\n",
       "\t<tr><td>79.94464</td><td>70.95594</td><td>88.93334</td></tr>\n",
       "\t<tr><td>80.73112</td><td>71.59608</td><td>89.86617</td></tr>\n",
       "\t<tr><td>81.51761</td><td>72.23552</td><td>90.79969</td></tr>\n",
       "</tbody>\n",
       "</table>\n"
      ],
      "text/latex": [
       "\\begin{tabular}{r|lll}\n",
       " fit & lwr & upr\\\\\n",
       "\\hline\n",
       "\t -1.8494599  & -12.3295433 &  8.630624  \\\\\n",
       "\t -1.0629781  & -11.3914503 &  9.265494  \\\\\n",
       "\t -0.2764964  & -10.4538419 &  9.900849  \\\\\n",
       "\t  0.5099854  &  -9.5167401 & 10.536711  \\\\\n",
       "\t  1.2964672  &  -8.5801681 & 11.173102  \\\\\n",
       "\t  2.0829489  &  -7.6441504 & 11.810048  \\\\\n",
       "\t  2.8694307  &  -6.7087129 & 12.447574  \\\\\n",
       "\t  3.6559124  &  -5.7738833 & 13.085708  \\\\\n",
       "\t  4.4423942  &  -4.8396905 & 13.724479  \\\\\n",
       "\t  5.2288759  &  -3.9061655 & 14.363917  \\\\\n",
       "\t  6.0153577  &  -2.9733411 & 15.004056  \\\\\n",
       "\t  6.8018394  &  -2.0412521 & 15.644931  \\\\\n",
       "\t  7.5883212  &  -1.1099353 & 16.286578  \\\\\n",
       "\t  8.3748029  &  -0.1794301 & 16.929036  \\\\\n",
       "\t  9.1612847  &   0.7502220 & 17.572347  \\\\\n",
       "\t  9.9477664  &   1.6789765 & 18.216556  \\\\\n",
       "\t 10.7342482  &   2.6067864 & 18.861710  \\\\\n",
       "\t 11.5207299  &   3.5336015 & 19.507858  \\\\\n",
       "\t 12.3072117  &   4.4593685 & 20.155055  \\\\\n",
       "\t 13.0936934  &   5.3840304 & 20.803356  \\\\\n",
       "\t 13.8801752  &   6.3075269 & 21.452823  \\\\\n",
       "\t 14.6666569  &   7.2297936 & 22.103520  \\\\\n",
       "\t 15.4531387  &   8.1507617 & 22.755516  \\\\\n",
       "\t 16.2396204  &   9.0703583 & 23.408883  \\\\\n",
       "\t 17.0261022  &   9.9885055 & 24.063699  \\\\\n",
       "\t 17.8125839  &  10.9051205 & 24.720047  \\\\\n",
       "\t 18.5990657  &  11.8201149 & 25.378016  \\\\\n",
       "\t 19.3855474  &  12.7333949 & 26.037700  \\\\\n",
       "\t 20.1720292  &  13.6448606 & 26.699198  \\\\\n",
       "\t 20.9585109  &  14.5544057 & 27.362616  \\\\\n",
       "\t ... & ... & ...\\\\\n",
       "\t 58.70964 & 53.20584 & 64.21343\\\\\n",
       "\t 59.49612 & 53.88929 & 65.10294\\\\\n",
       "\t 60.28260 & 54.56972 & 65.99547\\\\\n",
       "\t 61.06908 & 55.24729 & 66.89088\\\\\n",
       "\t 61.85556 & 55.92214 & 67.78898\\\\\n",
       "\t 62.64204 & 56.59444 & 68.68965\\\\\n",
       "\t 63.42853 & 57.26433 & 69.59272\\\\\n",
       "\t 64.21501 & 57.93193 & 70.49808\\\\\n",
       "\t 65.00149 & 58.59738 & 71.40559\\\\\n",
       "\t 65.78797 & 59.26080 & 72.31514\\\\\n",
       "\t 66.57445 & 59.92230 & 73.22661\\\\\n",
       "\t 67.36093 & 60.58198 & 74.13989\\\\\n",
       "\t 68.14742 & 61.23995 & 75.05488\\\\\n",
       "\t 68.93390 & 61.89630 & 75.97149\\\\\n",
       "\t 69.72038 & 62.55112 & 76.88964\\\\\n",
       "\t 70.50686 & 63.20448 & 77.80924\\\\\n",
       "\t 71.29334 & 63.85648 & 78.73021\\\\\n",
       "\t 72.07982 & 64.50718 & 79.65247\\\\\n",
       "\t 72.86631 & 65.15664 & 80.57597\\\\\n",
       "\t 73.65279 & 65.80495 & 81.50063\\\\\n",
       "\t 74.43927 & 66.45214 & 82.42640\\\\\n",
       "\t 75.22575 & 67.09829 & 83.35321\\\\\n",
       "\t 76.01223 & 67.74344 & 84.28102\\\\\n",
       "\t 76.79872 & 68.38765 & 85.20978\\\\\n",
       "\t 77.58520 & 69.03096 & 86.13943\\\\\n",
       "\t 78.37168 & 69.67342 & 87.06994\\\\\n",
       "\t 79.15816 & 70.31507 & 88.00125\\\\\n",
       "\t 79.94464 & 70.95594 & 88.93334\\\\\n",
       "\t 80.73112 & 71.59608 & 89.86617\\\\\n",
       "\t 81.51761 & 72.23552 & 90.79969\\\\\n",
       "\\end{tabular}\n"
      ],
      "text/markdown": [
       "\n",
       "| fit | lwr | upr |\n",
       "|---|---|---|\n",
       "| -1.8494599  | -12.3295433 |  8.630624   |\n",
       "| -1.0629781  | -11.3914503 |  9.265494   |\n",
       "| -0.2764964  | -10.4538419 |  9.900849   |\n",
       "|  0.5099854  |  -9.5167401 | 10.536711   |\n",
       "|  1.2964672  |  -8.5801681 | 11.173102   |\n",
       "|  2.0829489  |  -7.6441504 | 11.810048   |\n",
       "|  2.8694307  |  -6.7087129 | 12.447574   |\n",
       "|  3.6559124  |  -5.7738833 | 13.085708   |\n",
       "|  4.4423942  |  -4.8396905 | 13.724479   |\n",
       "|  5.2288759  |  -3.9061655 | 14.363917   |\n",
       "|  6.0153577  |  -2.9733411 | 15.004056   |\n",
       "|  6.8018394  |  -2.0412521 | 15.644931   |\n",
       "|  7.5883212  |  -1.1099353 | 16.286578   |\n",
       "|  8.3748029  |  -0.1794301 | 16.929036   |\n",
       "|  9.1612847  |   0.7502220 | 17.572347   |\n",
       "|  9.9477664  |   1.6789765 | 18.216556   |\n",
       "| 10.7342482  |   2.6067864 | 18.861710   |\n",
       "| 11.5207299  |   3.5336015 | 19.507858   |\n",
       "| 12.3072117  |   4.4593685 | 20.155055   |\n",
       "| 13.0936934  |   5.3840304 | 20.803356   |\n",
       "| 13.8801752  |   6.3075269 | 21.452823   |\n",
       "| 14.6666569  |   7.2297936 | 22.103520   |\n",
       "| 15.4531387  |   8.1507617 | 22.755516   |\n",
       "| 16.2396204  |   9.0703583 | 23.408883   |\n",
       "| 17.0261022  |   9.9885055 | 24.063699   |\n",
       "| 17.8125839  |  10.9051205 | 24.720047   |\n",
       "| 18.5990657  |  11.8201149 | 25.378016   |\n",
       "| 19.3855474  |  12.7333949 | 26.037700   |\n",
       "| 20.1720292  |  13.6448606 | 26.699198   |\n",
       "| 20.9585109  |  14.5544057 | 27.362616   |\n",
       "| ... | ... | ... |\n",
       "| 58.70964 | 53.20584 | 64.21343 |\n",
       "| 59.49612 | 53.88929 | 65.10294 |\n",
       "| 60.28260 | 54.56972 | 65.99547 |\n",
       "| 61.06908 | 55.24729 | 66.89088 |\n",
       "| 61.85556 | 55.92214 | 67.78898 |\n",
       "| 62.64204 | 56.59444 | 68.68965 |\n",
       "| 63.42853 | 57.26433 | 69.59272 |\n",
       "| 64.21501 | 57.93193 | 70.49808 |\n",
       "| 65.00149 | 58.59738 | 71.40559 |\n",
       "| 65.78797 | 59.26080 | 72.31514 |\n",
       "| 66.57445 | 59.92230 | 73.22661 |\n",
       "| 67.36093 | 60.58198 | 74.13989 |\n",
       "| 68.14742 | 61.23995 | 75.05488 |\n",
       "| 68.93390 | 61.89630 | 75.97149 |\n",
       "| 69.72038 | 62.55112 | 76.88964 |\n",
       "| 70.50686 | 63.20448 | 77.80924 |\n",
       "| 71.29334 | 63.85648 | 78.73021 |\n",
       "| 72.07982 | 64.50718 | 79.65247 |\n",
       "| 72.86631 | 65.15664 | 80.57597 |\n",
       "| 73.65279 | 65.80495 | 81.50063 |\n",
       "| 74.43927 | 66.45214 | 82.42640 |\n",
       "| 75.22575 | 67.09829 | 83.35321 |\n",
       "| 76.01223 | 67.74344 | 84.28102 |\n",
       "| 76.79872 | 68.38765 | 85.20978 |\n",
       "| 77.58520 | 69.03096 | 86.13943 |\n",
       "| 78.37168 | 69.67342 | 87.06994 |\n",
       "| 79.15816 | 70.31507 | 88.00125 |\n",
       "| 79.94464 | 70.95594 | 88.93334 |\n",
       "| 80.73112 | 71.59608 | 89.86617 |\n",
       "| 81.51761 | 72.23552 | 90.79969 |\n",
       "\n"
      ],
      "text/plain": [
       "    fit        lwr         upr      \n",
       "1   -1.8494599 -12.3295433  8.630624\n",
       "2   -1.0629781 -11.3914503  9.265494\n",
       "3   -0.2764964 -10.4538419  9.900849\n",
       "4    0.5099854  -9.5167401 10.536711\n",
       "5    1.2964672  -8.5801681 11.173102\n",
       "6    2.0829489  -7.6441504 11.810048\n",
       "7    2.8694307  -6.7087129 12.447574\n",
       "8    3.6559124  -5.7738833 13.085708\n",
       "9    4.4423942  -4.8396905 13.724479\n",
       "10   5.2288759  -3.9061655 14.363917\n",
       "11   6.0153577  -2.9733411 15.004056\n",
       "12   6.8018394  -2.0412521 15.644931\n",
       "13   7.5883212  -1.1099353 16.286578\n",
       "14   8.3748029  -0.1794301 16.929036\n",
       "15   9.1612847   0.7502220 17.572347\n",
       "16   9.9477664   1.6789765 18.216556\n",
       "17  10.7342482   2.6067864 18.861710\n",
       "18  11.5207299   3.5336015 19.507858\n",
       "19  12.3072117   4.4593685 20.155055\n",
       "20  13.0936934   5.3840304 20.803356\n",
       "21  13.8801752   6.3075269 21.452823\n",
       "22  14.6666569   7.2297936 22.103520\n",
       "23  15.4531387   8.1507617 22.755516\n",
       "24  16.2396204   9.0703583 23.408883\n",
       "25  17.0261022   9.9885055 24.063699\n",
       "26  17.8125839  10.9051205 24.720047\n",
       "27  18.5990657  11.8201149 25.378016\n",
       "28  19.3855474  12.7333949 26.037700\n",
       "29  20.1720292  13.6448606 26.699198\n",
       "30  20.9585109  14.5544057 27.362616\n",
       "... ...        ...         ...      \n",
       "78  58.70964   53.20584    64.21343 \n",
       "79  59.49612   53.88929    65.10294 \n",
       "80  60.28260   54.56972    65.99547 \n",
       "81  61.06908   55.24729    66.89088 \n",
       "82  61.85556   55.92214    67.78898 \n",
       "83  62.64204   56.59444    68.68965 \n",
       "84  63.42853   57.26433    69.59272 \n",
       "85  64.21501   57.93193    70.49808 \n",
       "86  65.00149   58.59738    71.40559 \n",
       "87  65.78797   59.26080    72.31514 \n",
       "88  66.57445   59.92230    73.22661 \n",
       "89  67.36093   60.58198    74.13989 \n",
       "90  68.14742   61.23995    75.05488 \n",
       "91  68.93390   61.89630    75.97149 \n",
       "92  69.72038   62.55112    76.88964 \n",
       "93  70.50686   63.20448    77.80924 \n",
       "94  71.29334   63.85648    78.73021 \n",
       "95  72.07982   64.50718    79.65247 \n",
       "96  72.86631   65.15664    80.57597 \n",
       "97  73.65279   65.80495    81.50063 \n",
       "98  74.43927   66.45214    82.42640 \n",
       "99  75.22575   67.09829    83.35321 \n",
       "100 76.01223   67.74344    84.28102 \n",
       "101 76.79872   68.38765    85.20978 \n",
       "102 77.58520   69.03096    86.13943 \n",
       "103 78.37168   69.67342    87.06994 \n",
       "104 79.15816   70.31507    88.00125 \n",
       "105 79.94464   70.95594    88.93334 \n",
       "106 80.73112   71.59608    89.86617 \n",
       "107 81.51761   72.23552    90.79969 "
      ]
     },
     "metadata": {},
     "output_type": "display_data"
    }
   ],
   "source": [
    "predict(m, newdata = data.frame(speed = seq(4.0, 25.2, 0.2)), interval = \"confidence\")"
   ]
  },
  {
   "cell_type": "code",
   "execution_count": 34,
   "metadata": {},
   "outputs": [
    {
     "data": {
      "image/png": "[encoded data removed]",
      "text/plain": [
       "plot without title"
      ]
     },
     "metadata": {},
     "output_type": "display_data"
    }
   ],
   "source": [
    "speed <- seq(min(cars$speed), max(cars$speed), 0.1)\n",
    "ys <- predict(m, newdata = data.frame(speed = speed), interval = \"confidence\")\n",
    "matplot(speed, ys, type = 'n')\n",
    "matlines(speed, ys, lty = c(1, 2, 2), col = 1)"
   ]
  },
  {
   "cell_type": "code",
   "execution_count": null,
   "metadata": {},
   "outputs": [],
   "source": []
  }
 ],
 "metadata": {
  "kernelspec": {
   "display_name": "R",
   "language": "R",
   "name": "ir"
  },
  "language_info": {
   "codemirror_mode": "r",
   "file_extension": ".r",
   "mimetype": "text/x-r-source",
   "name": "R",
   "pygments_lexer": "r",
   "version": "3.6.1"
  }
 },
 "nbformat": 4,
 "nbformat_minor": 4
}
